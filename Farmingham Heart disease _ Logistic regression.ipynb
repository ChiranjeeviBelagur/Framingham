{
 "cells": [
  {
   "cell_type": "code",
   "execution_count": 1,
   "id": "9aec3a8f",
   "metadata": {},
   "outputs": [],
   "source": [
    "import os\n",
    "os.chdir(\"C:\\\\Users\\\\ASUS\\\\OneDrive\\\\Desktop\\\\PGDA\\\\Imarticus\\\\Vinod Sir\\\\Working Directory\")\n",
    "\n",
    "import numpy as np # linear algebra \n",
    "import pandas as pd # data processing, CSV file I/O (e.g. pd.read_csv)\n",
    "import matplotlib.pyplot as plt\n",
    "%matplotlib inline\n",
    "\n",
    "from scipy.stats import chi2_contingency\n",
    "\n",
    "import statsmodels.api as sm\n",
    "from statsmodels.formula.api import ols"
   ]
  },
  {
   "cell_type": "code",
   "execution_count": 2,
   "id": "240725d9",
   "metadata": {},
   "outputs": [],
   "source": [
    "import warnings\n",
    "warnings.filterwarnings('ignore', category=DeprecationWarning)\n",
    "warnings.filterwarnings('ignore', category=FutureWarning)"
   ]
  },
  {
   "cell_type": "code",
   "execution_count": 3,
   "id": "e25dc6aa",
   "metadata": {},
   "outputs": [
    {
     "data": {
      "text/html": [
       "<div>\n",
       "<style scoped>\n",
       "    .dataframe tbody tr th:only-of-type {\n",
       "        vertical-align: middle;\n",
       "    }\n",
       "\n",
       "    .dataframe tbody tr th {\n",
       "        vertical-align: top;\n",
       "    }\n",
       "\n",
       "    .dataframe thead th {\n",
       "        text-align: right;\n",
       "    }\n",
       "</style>\n",
       "<table border=\"1\" class=\"dataframe\">\n",
       "  <thead>\n",
       "    <tr style=\"text-align: right;\">\n",
       "      <th></th>\n",
       "      <th>male</th>\n",
       "      <th>age</th>\n",
       "      <th>education</th>\n",
       "      <th>currentSmoker</th>\n",
       "      <th>cigsPerDay</th>\n",
       "      <th>BPMeds</th>\n",
       "      <th>prevalentStroke</th>\n",
       "      <th>prevalentHyp</th>\n",
       "      <th>diabetes</th>\n",
       "      <th>totChol</th>\n",
       "      <th>sysBP</th>\n",
       "      <th>diaBP</th>\n",
       "      <th>BMI</th>\n",
       "      <th>heartRate</th>\n",
       "      <th>glucose</th>\n",
       "      <th>TenYearCHD</th>\n",
       "    </tr>\n",
       "  </thead>\n",
       "  <tbody>\n",
       "    <tr>\n",
       "      <th>0</th>\n",
       "      <td>1</td>\n",
       "      <td>39</td>\n",
       "      <td>4.0</td>\n",
       "      <td>0</td>\n",
       "      <td>0.0</td>\n",
       "      <td>0.0</td>\n",
       "      <td>0</td>\n",
       "      <td>0</td>\n",
       "      <td>0</td>\n",
       "      <td>195.0</td>\n",
       "      <td>106.0</td>\n",
       "      <td>70.0</td>\n",
       "      <td>26.97</td>\n",
       "      <td>80.0</td>\n",
       "      <td>77.0</td>\n",
       "      <td>0</td>\n",
       "    </tr>\n",
       "    <tr>\n",
       "      <th>1</th>\n",
       "      <td>0</td>\n",
       "      <td>46</td>\n",
       "      <td>2.0</td>\n",
       "      <td>0</td>\n",
       "      <td>0.0</td>\n",
       "      <td>0.0</td>\n",
       "      <td>0</td>\n",
       "      <td>0</td>\n",
       "      <td>0</td>\n",
       "      <td>250.0</td>\n",
       "      <td>121.0</td>\n",
       "      <td>81.0</td>\n",
       "      <td>28.73</td>\n",
       "      <td>95.0</td>\n",
       "      <td>76.0</td>\n",
       "      <td>0</td>\n",
       "    </tr>\n",
       "    <tr>\n",
       "      <th>2</th>\n",
       "      <td>1</td>\n",
       "      <td>48</td>\n",
       "      <td>1.0</td>\n",
       "      <td>1</td>\n",
       "      <td>20.0</td>\n",
       "      <td>0.0</td>\n",
       "      <td>0</td>\n",
       "      <td>0</td>\n",
       "      <td>0</td>\n",
       "      <td>245.0</td>\n",
       "      <td>127.5</td>\n",
       "      <td>80.0</td>\n",
       "      <td>25.34</td>\n",
       "      <td>75.0</td>\n",
       "      <td>70.0</td>\n",
       "      <td>0</td>\n",
       "    </tr>\n",
       "    <tr>\n",
       "      <th>3</th>\n",
       "      <td>0</td>\n",
       "      <td>61</td>\n",
       "      <td>3.0</td>\n",
       "      <td>1</td>\n",
       "      <td>30.0</td>\n",
       "      <td>0.0</td>\n",
       "      <td>0</td>\n",
       "      <td>1</td>\n",
       "      <td>0</td>\n",
       "      <td>225.0</td>\n",
       "      <td>150.0</td>\n",
       "      <td>95.0</td>\n",
       "      <td>28.58</td>\n",
       "      <td>65.0</td>\n",
       "      <td>103.0</td>\n",
       "      <td>1</td>\n",
       "    </tr>\n",
       "    <tr>\n",
       "      <th>4</th>\n",
       "      <td>0</td>\n",
       "      <td>46</td>\n",
       "      <td>3.0</td>\n",
       "      <td>1</td>\n",
       "      <td>23.0</td>\n",
       "      <td>0.0</td>\n",
       "      <td>0</td>\n",
       "      <td>0</td>\n",
       "      <td>0</td>\n",
       "      <td>285.0</td>\n",
       "      <td>130.0</td>\n",
       "      <td>84.0</td>\n",
       "      <td>23.10</td>\n",
       "      <td>85.0</td>\n",
       "      <td>85.0</td>\n",
       "      <td>0</td>\n",
       "    </tr>\n",
       "  </tbody>\n",
       "</table>\n",
       "</div>"
      ],
      "text/plain": [
       "   male  age  education  currentSmoker  cigsPerDay  BPMeds  prevalentStroke  \\\n",
       "0     1   39        4.0              0         0.0     0.0                0   \n",
       "1     0   46        2.0              0         0.0     0.0                0   \n",
       "2     1   48        1.0              1        20.0     0.0                0   \n",
       "3     0   61        3.0              1        30.0     0.0                0   \n",
       "4     0   46        3.0              1        23.0     0.0                0   \n",
       "\n",
       "   prevalentHyp  diabetes  totChol  sysBP  diaBP    BMI  heartRate  glucose  \\\n",
       "0             0         0    195.0  106.0   70.0  26.97       80.0     77.0   \n",
       "1             0         0    250.0  121.0   81.0  28.73       95.0     76.0   \n",
       "2             0         0    245.0  127.5   80.0  25.34       75.0     70.0   \n",
       "3             1         0    225.0  150.0   95.0  28.58       65.0    103.0   \n",
       "4             0         0    285.0  130.0   84.0  23.10       85.0     85.0   \n",
       "\n",
       "   TenYearCHD  \n",
       "0           0  \n",
       "1           0  \n",
       "2           0  \n",
       "3           1  \n",
       "4           0  "
      ]
     },
     "execution_count": 3,
     "metadata": {},
     "output_type": "execute_result"
    }
   ],
   "source": [
    "df = pd.read_csv(\"C:\\\\Users\\\\ASUS\\\\OneDrive\\\\Desktop\\\\PGDA\\\\Imarticus\\\\ML Project\\\\Farmingham Heart disease\\\\framingham.csv\")\n",
    "df.head()"
   ]
  },
  {
   "cell_type": "code",
   "execution_count": 4,
   "id": "9c1e2f54",
   "metadata": {},
   "outputs": [
    {
     "data": {
      "text/plain": [
       "(4238, 16)"
      ]
     },
     "execution_count": 4,
     "metadata": {},
     "output_type": "execute_result"
    }
   ],
   "source": [
    "df.shape"
   ]
  },
  {
   "cell_type": "code",
   "execution_count": 5,
   "id": "6ae2093e",
   "metadata": {},
   "outputs": [
    {
     "data": {
      "text/plain": [
       "male                 0\n",
       "age                  0\n",
       "education          105\n",
       "currentSmoker        0\n",
       "cigsPerDay          29\n",
       "BPMeds              53\n",
       "prevalentStroke      0\n",
       "prevalentHyp         0\n",
       "diabetes             0\n",
       "totChol             50\n",
       "sysBP                0\n",
       "diaBP                0\n",
       "BMI                 19\n",
       "heartRate            1\n",
       "glucose            388\n",
       "TenYearCHD           0\n",
       "dtype: int64"
      ]
     },
     "execution_count": 5,
     "metadata": {},
     "output_type": "execute_result"
    }
   ],
   "source": [
    "df.isnull().sum()"
   ]
  },
  {
   "cell_type": "code",
   "execution_count": 6,
   "id": "4445a269",
   "metadata": {},
   "outputs": [],
   "source": [
    "#df.isnull().sum()/df.shape[0]*100"
   ]
  },
  {
   "cell_type": "code",
   "execution_count": 7,
   "id": "0b26d178",
   "metadata": {},
   "outputs": [
    {
     "data": {
      "text/plain": [
       "Index(['male', 'age', 'education', 'currentSmoker', 'cigsPerDay', 'BPMeds',\n",
       "       'prevalentStroke', 'prevalentHyp', 'diabetes', 'totChol', 'sysBP',\n",
       "       'diaBP', 'BMI', 'heartRate', 'glucose', 'TenYearCHD'],\n",
       "      dtype='object')"
      ]
     },
     "execution_count": 7,
     "metadata": {},
     "output_type": "execute_result"
    }
   ],
   "source": [
    "df.columns"
   ]
  },
  {
   "cell_type": "code",
   "execution_count": 8,
   "id": "fdf96a9d",
   "metadata": {},
   "outputs": [],
   "source": [
    "df.dropna(how=\"any\", axis=0, inplace= True)"
   ]
  },
  {
   "cell_type": "code",
   "execution_count": 9,
   "id": "3a75b446",
   "metadata": {},
   "outputs": [
    {
     "data": {
      "text/plain": [
       "male               0\n",
       "age                0\n",
       "education          0\n",
       "currentSmoker      0\n",
       "cigsPerDay         0\n",
       "BPMeds             0\n",
       "prevalentStroke    0\n",
       "prevalentHyp       0\n",
       "diabetes           0\n",
       "totChol            0\n",
       "sysBP              0\n",
       "diaBP              0\n",
       "BMI                0\n",
       "heartRate          0\n",
       "glucose            0\n",
       "TenYearCHD         0\n",
       "dtype: int64"
      ]
     },
     "execution_count": 9,
     "metadata": {},
     "output_type": "execute_result"
    }
   ],
   "source": [
    "df.isnull().sum()"
   ]
  },
  {
   "cell_type": "code",
   "execution_count": 10,
   "id": "51524e26",
   "metadata": {},
   "outputs": [
    {
     "data": {
      "image/png": "[encoded data removed]",
      "text/plain": [
       "<Figure size 1080x720 with 16 Axes>"
      ]
     },
     "metadata": {
      "needs_background": "light"
     },
     "output_type": "display_data"
    }
   ],
   "source": [
    "df.hist(figsize=(15,10))\n",
    "plt.show()"
   ]
  },
  {
   "cell_type": "code",
   "execution_count": 11,
   "id": "af8c3659",
   "metadata": {},
   "outputs": [
    {
     "data": {
      "text/plain": [
       "<AxesSubplot:>"
      ]
     },
     "execution_count": 11,
     "metadata": {},
     "output_type": "execute_result"
    },
    {
     "data": {
      "image/png": "[encoded data removed]",
      "text/plain": [
       "<Figure size 432x288 with 2 Axes>"
      ]
     },
     "metadata": {
      "needs_background": "light"
     },
     "output_type": "display_data"
    }
   ],
   "source": [
    "import seaborn as sns\n",
    "sns.heatmap(df)"
   ]
  },
  {
   "cell_type": "code",
   "execution_count": 12,
   "id": "31dc3db9",
   "metadata": {},
   "outputs": [
    {
     "data": {
      "text/plain": [
       "male                 int64\n",
       "age                  int64\n",
       "education          float64\n",
       "currentSmoker        int64\n",
       "cigsPerDay         float64\n",
       "BPMeds             float64\n",
       "prevalentStroke      int64\n",
       "prevalentHyp         int64\n",
       "diabetes             int64\n",
       "totChol            float64\n",
       "sysBP              float64\n",
       "diaBP              float64\n",
       "BMI                float64\n",
       "heartRate          float64\n",
       "glucose            float64\n",
       "TenYearCHD           int64\n",
       "dtype: object"
      ]
     },
     "execution_count": 12,
     "metadata": {},
     "output_type": "execute_result"
    }
   ],
   "source": [
    "df.dtypes"
   ]
  },
  {
   "cell_type": "code",
   "execution_count": 13,
   "id": "6a1149d7",
   "metadata": {},
   "outputs": [
    {
     "data": {
      "text/html": [
       "<div>\n",
       "<style scoped>\n",
       "    .dataframe tbody tr th:only-of-type {\n",
       "        vertical-align: middle;\n",
       "    }\n",
       "\n",
       "    .dataframe tbody tr th {\n",
       "        vertical-align: top;\n",
       "    }\n",
       "\n",
       "    .dataframe thead th {\n",
       "        text-align: right;\n",
       "    }\n",
       "</style>\n",
       "<table border=\"1\" class=\"dataframe\">\n",
       "  <thead>\n",
       "    <tr style=\"text-align: right;\">\n",
       "      <th></th>\n",
       "      <th>male</th>\n",
       "      <th>age</th>\n",
       "      <th>education</th>\n",
       "      <th>currentSmoker</th>\n",
       "      <th>cigsPerDay</th>\n",
       "      <th>BPMeds</th>\n",
       "      <th>prevalentStroke</th>\n",
       "      <th>prevalentHyp</th>\n",
       "      <th>diabetes</th>\n",
       "      <th>totChol</th>\n",
       "      <th>sysBP</th>\n",
       "      <th>diaBP</th>\n",
       "      <th>BMI</th>\n",
       "      <th>heartRate</th>\n",
       "      <th>glucose</th>\n",
       "      <th>TenYearCHD</th>\n",
       "    </tr>\n",
       "  </thead>\n",
       "  <tbody>\n",
       "    <tr>\n",
       "      <th>0</th>\n",
       "      <td>1</td>\n",
       "      <td>39</td>\n",
       "      <td>4.0</td>\n",
       "      <td>0</td>\n",
       "      <td>0.0</td>\n",
       "      <td>0.0</td>\n",
       "      <td>0</td>\n",
       "      <td>0</td>\n",
       "      <td>0</td>\n",
       "      <td>195.0</td>\n",
       "      <td>106.0</td>\n",
       "      <td>70.0</td>\n",
       "      <td>26.97</td>\n",
       "      <td>80.0</td>\n",
       "      <td>77.0</td>\n",
       "      <td>0</td>\n",
       "    </tr>\n",
       "    <tr>\n",
       "      <th>1</th>\n",
       "      <td>0</td>\n",
       "      <td>46</td>\n",
       "      <td>2.0</td>\n",
       "      <td>0</td>\n",
       "      <td>0.0</td>\n",
       "      <td>0.0</td>\n",
       "      <td>0</td>\n",
       "      <td>0</td>\n",
       "      <td>0</td>\n",
       "      <td>250.0</td>\n",
       "      <td>121.0</td>\n",
       "      <td>81.0</td>\n",
       "      <td>28.73</td>\n",
       "      <td>95.0</td>\n",
       "      <td>76.0</td>\n",
       "      <td>0</td>\n",
       "    </tr>\n",
       "    <tr>\n",
       "      <th>2</th>\n",
       "      <td>1</td>\n",
       "      <td>48</td>\n",
       "      <td>1.0</td>\n",
       "      <td>1</td>\n",
       "      <td>20.0</td>\n",
       "      <td>0.0</td>\n",
       "      <td>0</td>\n",
       "      <td>0</td>\n",
       "      <td>0</td>\n",
       "      <td>245.0</td>\n",
       "      <td>127.5</td>\n",
       "      <td>80.0</td>\n",
       "      <td>25.34</td>\n",
       "      <td>75.0</td>\n",
       "      <td>70.0</td>\n",
       "      <td>0</td>\n",
       "    </tr>\n",
       "    <tr>\n",
       "      <th>3</th>\n",
       "      <td>0</td>\n",
       "      <td>61</td>\n",
       "      <td>3.0</td>\n",
       "      <td>1</td>\n",
       "      <td>30.0</td>\n",
       "      <td>0.0</td>\n",
       "      <td>0</td>\n",
       "      <td>1</td>\n",
       "      <td>0</td>\n",
       "      <td>225.0</td>\n",
       "      <td>150.0</td>\n",
       "      <td>95.0</td>\n",
       "      <td>28.58</td>\n",
       "      <td>65.0</td>\n",
       "      <td>103.0</td>\n",
       "      <td>1</td>\n",
       "    </tr>\n",
       "    <tr>\n",
       "      <th>4</th>\n",
       "      <td>0</td>\n",
       "      <td>46</td>\n",
       "      <td>3.0</td>\n",
       "      <td>1</td>\n",
       "      <td>23.0</td>\n",
       "      <td>0.0</td>\n",
       "      <td>0</td>\n",
       "      <td>0</td>\n",
       "      <td>0</td>\n",
       "      <td>285.0</td>\n",
       "      <td>130.0</td>\n",
       "      <td>84.0</td>\n",
       "      <td>23.10</td>\n",
       "      <td>85.0</td>\n",
       "      <td>85.0</td>\n",
       "      <td>0</td>\n",
       "    </tr>\n",
       "  </tbody>\n",
       "</table>\n",
       "</div>"
      ],
      "text/plain": [
       "   male  age  education  currentSmoker  cigsPerDay  BPMeds  prevalentStroke  \\\n",
       "0     1   39        4.0              0         0.0     0.0                0   \n",
       "1     0   46        2.0              0         0.0     0.0                0   \n",
       "2     1   48        1.0              1        20.0     0.0                0   \n",
       "3     0   61        3.0              1        30.0     0.0                0   \n",
       "4     0   46        3.0              1        23.0     0.0                0   \n",
       "\n",
       "   prevalentHyp  diabetes  totChol  sysBP  diaBP    BMI  heartRate  glucose  \\\n",
       "0             0         0    195.0  106.0   70.0  26.97       80.0     77.0   \n",
       "1             0         0    250.0  121.0   81.0  28.73       95.0     76.0   \n",
       "2             0         0    245.0  127.5   80.0  25.34       75.0     70.0   \n",
       "3             1         0    225.0  150.0   95.0  28.58       65.0    103.0   \n",
       "4             0         0    285.0  130.0   84.0  23.10       85.0     85.0   \n",
       "\n",
       "   TenYearCHD  \n",
       "0           0  \n",
       "1           0  \n",
       "2           0  \n",
       "3           1  \n",
       "4           0  "
      ]
     },
     "execution_count": 13,
     "metadata": {},
     "output_type": "execute_result"
    }
   ],
   "source": [
    "df=pd.get_dummies(df,drop_first=True, dtype = float)\n",
    "df.head(5)"
   ]
  },
  {
   "cell_type": "code",
   "execution_count": 14,
   "id": "03b42414",
   "metadata": {},
   "outputs": [
    {
     "data": {
      "text/plain": [
       "array([[  1.  ,  39.  ,   0.  , ...,  26.97,  80.  ,  77.  ],\n",
       "       [  0.  ,  46.  ,   0.  , ...,  28.73,  95.  ,  76.  ],\n",
       "       [  1.  ,  48.  ,  20.  , ...,  25.34,  75.  ,  70.  ],\n",
       "       ...,\n",
       "       [  1.  ,  50.  ,   1.  , ...,  25.97,  66.  ,  86.  ],\n",
       "       [  1.  ,  51.  ,  43.  , ...,  19.71,  65.  ,  68.  ],\n",
       "       [  0.  ,  52.  ,   0.  , ...,  21.47,  80.  , 107.  ]])"
      ]
     },
     "execution_count": 14,
     "metadata": {},
     "output_type": "execute_result"
    }
   ],
   "source": [
    "a = df[['male', 'age', 'cigsPerDay', 'BPMeds', 'prevalentStroke',\n",
    "       'prevalentHyp', 'totChol', 'BMI', 'heartRate', 'glucose']]\n",
    "a.values"
   ]
  },
  {
   "cell_type": "code",
   "execution_count": 15,
   "id": "7803121f",
   "metadata": {},
   "outputs": [],
   "source": [
    "x = (a.values)\n",
    "y = np.asanyarray(df[['diabetes']]).reshape(-1,1)"
   ]
  },
  {
   "cell_type": "code",
   "execution_count": 16,
   "id": "3c6c5b03",
   "metadata": {},
   "outputs": [
    {
     "data": {
      "text/plain": [
       "array([[  1.  ,  39.  ,   0.  , ...,  26.97,  80.  ,  77.  ],\n",
       "       [  0.  ,  46.  ,   0.  , ...,  28.73,  95.  ,  76.  ],\n",
       "       [  1.  ,  48.  ,  20.  , ...,  25.34,  75.  ,  70.  ],\n",
       "       ...,\n",
       "       [  1.  ,  50.  ,   1.  , ...,  25.97,  66.  ,  86.  ],\n",
       "       [  1.  ,  51.  ,  43.  , ...,  19.71,  65.  ,  68.  ],\n",
       "       [  0.  ,  52.  ,   0.  , ...,  21.47,  80.  , 107.  ]])"
      ]
     },
     "execution_count": 16,
     "metadata": {},
     "output_type": "execute_result"
    }
   ],
   "source": [
    "x"
   ]
  },
  {
   "cell_type": "code",
   "execution_count": 17,
   "id": "f62cda55",
   "metadata": {},
   "outputs": [
    {
     "data": {
      "text/plain": [
       "(3656, 16)"
      ]
     },
     "execution_count": 17,
     "metadata": {},
     "output_type": "execute_result"
    }
   ],
   "source": [
    "df.shape"
   ]
  },
  {
   "cell_type": "markdown",
   "id": "ebc11528",
   "metadata": {},
   "source": [
    "# EDA"
   ]
  },
  {
   "cell_type": "markdown",
   "id": "ef3c8d47",
   "metadata": {},
   "source": [
    "# Target Variables"
   ]
  },
  {
   "cell_type": "markdown",
   "id": "a3a52dcd",
   "metadata": {},
   "source": [
    "## TenYearCHD"
   ]
  },
  {
   "cell_type": "code",
   "execution_count": 18,
   "id": "3f6fa7d1",
   "metadata": {},
   "outputs": [
    {
     "data": {
      "text/plain": [
       "0    3099\n",
       "1     557\n",
       "Name: TenYearCHD, dtype: int64"
      ]
     },
     "execution_count": 18,
     "metadata": {},
     "output_type": "execute_result"
    }
   ],
   "source": [
    "df[\"TenYearCHD\"].value_counts()"
   ]
  },
  {
   "cell_type": "code",
   "execution_count": 19,
   "id": "28f26953",
   "metadata": {},
   "outputs": [
    {
     "data": {
      "text/plain": [
       "Text(0.5, 1.0, 'COunt Plot of: TenYearCHD')"
      ]
     },
     "execution_count": 19,
     "metadata": {},
     "output_type": "execute_result"
    },
    {
     "data": {
      "image/png": "[encoded data removed]",
      "text/plain": [
       "<Figure size 432x288 with 1 Axes>"
      ]
     },
     "metadata": {
      "needs_background": "light"
     },
     "output_type": "display_data"
    }
   ],
   "source": [
    "sns.countplot(df[\"TenYearCHD\"])\n",
    "plt.title(\"COunt Plot of: TenYearCHD\")"
   ]
  },
  {
   "cell_type": "markdown",
   "id": "cb89dd60",
   "metadata": {},
   "source": [
    "# Predictors"
   ]
  },
  {
   "cell_type": "markdown",
   "id": "d3187bb2",
   "metadata": {},
   "source": [
    "## male"
   ]
  },
  {
   "cell_type": "code",
   "execution_count": 20,
   "id": "98c50111",
   "metadata": {},
   "outputs": [
    {
     "data": {
      "text/plain": [
       "0    2034\n",
       "1    1622\n",
       "Name: male, dtype: int64"
      ]
     },
     "execution_count": 20,
     "metadata": {},
     "output_type": "execute_result"
    }
   ],
   "source": [
    "df[\"male\"].value_counts()"
   ]
  },
  {
   "cell_type": "code",
   "execution_count": 21,
   "id": "c392727a",
   "metadata": {},
   "outputs": [
    {
     "data": {
      "text/plain": [
       "Text(0.5, 1.0, 'COunt Plot of: male')"
      ]
     },
     "execution_count": 21,
     "metadata": {},
     "output_type": "execute_result"
    },
    {
     "data": {
      "image/png": "[encoded data removed]",
      "text/plain": [
       "<Figure size 432x288 with 1 Axes>"
      ]
     },
     "metadata": {
      "needs_background": "light"
     },
     "output_type": "display_data"
    }
   ],
   "source": [
    "sns.countplot(df[\"male\"])\n",
    "plt.title(\"COunt Plot of: male\")"
   ]
  },
  {
   "cell_type": "code",
   "execution_count": 22,
   "id": "58ab5671",
   "metadata": {
    "scrolled": true
   },
   "outputs": [
    {
     "data": {
      "text/plain": [
       "(30.77300519507496,\n",
       " 2.9004477129831585e-08,\n",
       " 1,\n",
       " array([[1724.1154267, 1374.8845733],\n",
       "        [ 309.8845733,  247.1154267]]))"
      ]
     },
     "execution_count": 22,
     "metadata": {},
     "output_type": "execute_result"
    }
   ],
   "source": [
    "ct_male = pd.crosstab(df.TenYearCHD, df.male)\n",
    "ct = chi2_contingency(ct_male, correction = False)\n",
    "ct"
   ]
  },
  {
   "cell_type": "code",
   "execution_count": 23,
   "id": "62fa0c8e",
   "metadata": {},
   "outputs": [
    {
     "data": {
      "text/plain": [
       "0.0"
      ]
     },
     "execution_count": 23,
     "metadata": {},
     "output_type": "execute_result"
    }
   ],
   "source": [
    "round(ct[1],4)  # p_val = 0, Ho reject, hence association exists, good predictor "
   ]
  },
  {
   "cell_type": "markdown",
   "id": "9f60aa54",
   "metadata": {},
   "source": [
    " ## age "
   ]
  },
  {
   "cell_type": "code",
   "execution_count": 24,
   "id": "4dcc070d",
   "metadata": {
    "scrolled": false
   },
   "outputs": [
    {
     "data": {
      "text/plain": [
       "40    166\n",
       "46    166\n",
       "42    161\n",
       "48    149\n",
       "39    146\n",
       "41    145\n",
       "44    143\n",
       "45    140\n",
       "43    137\n",
       "52    129\n",
       "38    124\n",
       "50    123\n",
       "51    123\n",
       "55    123\n",
       "54    119\n",
       "49    116\n",
       "53    116\n",
       "47    114\n",
       "57    108\n",
       "56    105\n",
       "59    100\n",
       "60     98\n",
       "58     97\n",
       "63     96\n",
       "62     91\n",
       "61     91\n",
       "64     80\n",
       "37     80\n",
       "36     77\n",
       "65     46\n",
       "67     38\n",
       "66     34\n",
       "35     33\n",
       "68     16\n",
       "34     14\n",
       "33      5\n",
       "69      5\n",
       "32      1\n",
       "70      1\n",
       "Name: age, dtype: int64"
      ]
     },
     "execution_count": 24,
     "metadata": {},
     "output_type": "execute_result"
    }
   ],
   "source": [
    "df[\"age\"].value_counts()"
   ]
  },
  {
   "cell_type": "code",
   "execution_count": 25,
   "id": "07036354",
   "metadata": {},
   "outputs": [
    {
     "data": {
      "text/plain": [
       "<AxesSubplot:xlabel='age', ylabel='Density'>"
      ]
     },
     "execution_count": 25,
     "metadata": {},
     "output_type": "execute_result"
    },
    {
     "data": {
      "image/png": "[encoded data removed]",
      "text/plain": [
       "<Figure size 432x288 with 1 Axes>"
      ]
     },
     "metadata": {
      "needs_background": "light"
     },
     "output_type": "display_data"
    }
   ],
   "source": [
    "sns.distplot(df['age'])"
   ]
  },
  {
   "cell_type": "code",
   "execution_count": 26,
   "id": "e3443222",
   "metadata": {},
   "outputs": [
    {
     "data": {
      "text/plain": [
       "<AxesSubplot:xlabel='age'>"
      ]
     },
     "execution_count": 26,
     "metadata": {},
     "output_type": "execute_result"
    },
    {
     "data": {
      "image/png": "[encoded data removed]",
      "text/plain": [
       "<Figure size 432x288 with 1 Axes>"
      ]
     },
     "metadata": {
      "needs_background": "light"
     },
     "output_type": "display_data"
    }
   ],
   "source": [
    "sns.boxplot(df['age'])"
   ]
  },
  {
   "cell_type": "code",
   "execution_count": 27,
   "id": "0dc4403f",
   "metadata": {},
   "outputs": [
    {
     "name": "stdout",
     "output_type": "stream",
     "text": [
      "              df      sum_sq    mean_sq           F        PR(>F)\n",
      "age          1.0   25.810619  25.810619  211.305943  1.389380e-46\n",
      "Residual  3654.0  446.329151   0.122148         NaN           NaN\n"
     ]
    }
   ],
   "source": [
    "mod = ols('TenYearCHD ~ age', data = df).fit()\n",
    "aov_table = sm.stats.anova_lm(mod)\n",
    "print(aov_table)"
   ]
  },
  {
   "cell_type": "code",
   "execution_count": 28,
   "id": "4c1d7720",
   "metadata": {},
   "outputs": [
    {
     "name": "stdout",
     "output_type": "stream",
     "text": [
      "a 0.0\n",
      "R nan\n"
     ]
    }
   ],
   "source": [
    "for i,j in aov_table.iterrows():\n",
    "    print(i[0],round(j[4],4))"
   ]
  },
  {
   "cell_type": "markdown",
   "id": "c0d72cc4",
   "metadata": {},
   "source": [
    "## education "
   ]
  },
  {
   "cell_type": "code",
   "execution_count": 29,
   "id": "481d38fb",
   "metadata": {},
   "outputs": [
    {
     "data": {
      "text/plain": [
       "1.0    1526\n",
       "2.0    1101\n",
       "3.0     606\n",
       "4.0     423\n",
       "Name: education, dtype: int64"
      ]
     },
     "execution_count": 29,
     "metadata": {},
     "output_type": "execute_result"
    }
   ],
   "source": [
    "df[\"education\"].value_counts()"
   ]
  },
  {
   "cell_type": "code",
   "execution_count": 30,
   "id": "d1af4279",
   "metadata": {},
   "outputs": [
    {
     "data": {
      "text/plain": [
       "Text(0.5, 1.0, 'COunt Plot of: education')"
      ]
     },
     "execution_count": 30,
     "metadata": {},
     "output_type": "execute_result"
    },
    {
     "data": {
      "image/png": "[encoded data removed]",
      "text/plain": [
       "<Figure size 432x288 with 1 Axes>"
      ]
     },
     "metadata": {
      "needs_background": "light"
     },
     "output_type": "display_data"
    }
   ],
   "source": [
    "sns.countplot(df[\"education\"])\n",
    "plt.title(\"COunt Plot of: education\")"
   ]
  },
  {
   "cell_type": "code",
   "execution_count": 31,
   "id": "d2835076",
   "metadata": {},
   "outputs": [
    {
     "data": {
      "text/plain": [
       "(31.062637414123976,\n",
       " 8.246210529929311e-07,\n",
       " 3,\n",
       " array([[1293.51039387,  933.26012035,  513.67450766,  358.55497812],\n",
       "        [ 232.48960613,  167.73987965,   92.32549234,   64.44502188]]))"
      ]
     },
     "execution_count": 31,
     "metadata": {},
     "output_type": "execute_result"
    }
   ],
   "source": [
    "ct_education = pd.crosstab(df.TenYearCHD, df.education)\n",
    "ct = chi2_contingency(ct_education, correction = False)\n",
    "ct"
   ]
  },
  {
   "cell_type": "code",
   "execution_count": 32,
   "id": "7f12e911",
   "metadata": {},
   "outputs": [
    {
     "data": {
      "text/plain": [
       "0.0"
      ]
     },
     "execution_count": 32,
     "metadata": {},
     "output_type": "execute_result"
    }
   ],
   "source": [
    "round(ct[1],4)  # p_val = 0, Ho reject, hence association exists, good predictor "
   ]
  },
  {
   "cell_type": "markdown",
   "id": "471ebf0f",
   "metadata": {},
   "source": [
    "## currentSmoker "
   ]
  },
  {
   "cell_type": "code",
   "execution_count": 33,
   "id": "e3bae3a6",
   "metadata": {},
   "outputs": [
    {
     "data": {
      "text/plain": [
       "0    1868\n",
       "1    1788\n",
       "Name: currentSmoker, dtype: int64"
      ]
     },
     "execution_count": 33,
     "metadata": {},
     "output_type": "execute_result"
    }
   ],
   "source": [
    "df[\"currentSmoker\"].value_counts()"
   ]
  },
  {
   "cell_type": "code",
   "execution_count": 34,
   "id": "6eba2580",
   "metadata": {},
   "outputs": [
    {
     "data": {
      "text/plain": [
       "Text(0.5, 1.0, 'COunt Plot of: currentSmoker')"
      ]
     },
     "execution_count": 34,
     "metadata": {},
     "output_type": "execute_result"
    },
    {
     "data": {
      "image/png": "[encoded data removed]",
      "text/plain": [
       "<Figure size 432x288 with 1 Axes>"
      ]
     },
     "metadata": {
      "needs_background": "light"
     },
     "output_type": "display_data"
    }
   ],
   "source": [
    "sns.countplot(df[\"currentSmoker\"])\n",
    "plt.title(\"COunt Plot of: currentSmoker\")"
   ]
  },
  {
   "cell_type": "code",
   "execution_count": 35,
   "id": "ed925c40",
   "metadata": {},
   "outputs": [
    {
     "data": {
      "text/plain": [
       "(1.3444080980686755,\n",
       " 0.2462580847414204,\n",
       " 1,\n",
       " array([[1583.4059081, 1515.5940919],\n",
       "        [ 284.5940919,  272.4059081]]))"
      ]
     },
     "execution_count": 35,
     "metadata": {},
     "output_type": "execute_result"
    }
   ],
   "source": [
    "ct_currentSmoker = pd.crosstab(df.TenYearCHD, df.currentSmoker)\n",
    "ct = chi2_contingency(ct_currentSmoker, correction = False)\n",
    "ct"
   ]
  },
  {
   "cell_type": "code",
   "execution_count": 36,
   "id": "3a8b1f3b",
   "metadata": {},
   "outputs": [
    {
     "data": {
      "text/plain": [
       "0.2463"
      ]
     },
     "execution_count": 36,
     "metadata": {},
     "output_type": "execute_result"
    }
   ],
   "source": [
    "round(ct[1],4)  # p_val > 0, Ho accepted, hence association doesn't exists, bad predictor -- can drop this column"
   ]
  },
  {
   "cell_type": "markdown",
   "id": "c7b43f54",
   "metadata": {},
   "source": [
    "## cigsPerDay "
   ]
  },
  {
   "cell_type": "code",
   "execution_count": 37,
   "id": "86577f4d",
   "metadata": {},
   "outputs": [
    {
     "data": {
      "text/plain": [
       "0.0     1868\n",
       "20.0     651\n",
       "30.0     191\n",
       "15.0     184\n",
       "10.0     123\n",
       "5.0       99\n",
       "9.0       99\n",
       "3.0       83\n",
       "40.0      69\n",
       "1.0       61\n",
       "43.0      49\n",
       "25.0      44\n",
       "35.0      19\n",
       "6.0       17\n",
       "2.0       16\n",
       "7.0       11\n",
       "8.0        9\n",
       "60.0       9\n",
       "4.0        8\n",
       "17.0       7\n",
       "18.0       7\n",
       "11.0       5\n",
       "23.0       5\n",
       "50.0       4\n",
       "13.0       3\n",
       "45.0       3\n",
       "12.0       3\n",
       "16.0       3\n",
       "19.0       2\n",
       "38.0       1\n",
       "29.0       1\n",
       "70.0       1\n",
       "14.0       1\n",
       "Name: cigsPerDay, dtype: int64"
      ]
     },
     "execution_count": 37,
     "metadata": {},
     "output_type": "execute_result"
    }
   ],
   "source": [
    "df[\"cigsPerDay\"].value_counts()   # Continuous Data"
   ]
  },
  {
   "cell_type": "code",
   "execution_count": 38,
   "id": "411fae36",
   "metadata": {},
   "outputs": [
    {
     "data": {
      "image/png": "[encoded data removed]",
      "text/plain": [
       "<Figure size 432x288 with 1 Axes>"
      ]
     },
     "metadata": {
      "needs_background": "light"
     },
     "output_type": "display_data"
    }
   ],
   "source": [
    "sns.distplot(df['cigsPerDay'])\n",
    "plt.title(\"Histogram of : cigsPerDay\")\n",
    "plt.xlabel(\"cigsPerDay\")\n",
    "plt.ylabel(\"Density of cigsPerDay\")\n",
    "plt.show()"
   ]
  },
  {
   "cell_type": "code",
   "execution_count": 39,
   "id": "fdd795ca",
   "metadata": {},
   "outputs": [
    {
     "data": {
      "text/plain": [
       "(array([2.152e+03, 2.530e+02, 8.550e+02, 4.900e+01, 1.920e+02, 8.900e+01,\n",
       "        5.200e+01, 4.000e+00, 9.000e+00, 1.000e+00]),\n",
       " array([ 0.,  7., 14., 21., 28., 35., 42., 49., 56., 63., 70.]),\n",
       " <BarContainer object of 10 artists>)"
      ]
     },
     "execution_count": 39,
     "metadata": {},
     "output_type": "execute_result"
    },
    {
     "data": {
      "image/png": "[encoded data removed]",
      "text/plain": [
       "<Figure size 432x288 with 1 Axes>"
      ]
     },
     "metadata": {
      "needs_background": "light"
     },
     "output_type": "display_data"
    }
   ],
   "source": [
    "plt.hist(x=df.cigsPerDay, orientation=\"horizontal\")"
   ]
  },
  {
   "cell_type": "code",
   "execution_count": 40,
   "id": "090fff99",
   "metadata": {},
   "outputs": [
    {
     "data": {
      "text/plain": [
       "<AxesSubplot:xlabel='cigsPerDay'>"
      ]
     },
     "execution_count": 40,
     "metadata": {},
     "output_type": "execute_result"
    },
    {
     "data": {
      "image/png": "[encoded data removed]",
      "text/plain": [
       "<Figure size 432x288 with 1 Axes>"
      ]
     },
     "metadata": {
      "needs_background": "light"
     },
     "output_type": "display_data"
    }
   ],
   "source": [
    "sns.boxenplot(x=\"cigsPerDay\", data=df)"
   ]
  },
  {
   "cell_type": "code",
   "execution_count": 41,
   "id": "09c6f954",
   "metadata": {
    "scrolled": true
   },
   "outputs": [
    {
     "data": {
      "text/plain": [
       "<AxesSubplot:xlabel='cigsPerDay'>"
      ]
     },
     "execution_count": 41,
     "metadata": {},
     "output_type": "execute_result"
    },
    {
     "data": {
      "image/png": "[encoded data removed]",
      "text/plain": [
       "<Figure size 432x288 with 1 Axes>"
      ]
     },
     "metadata": {
      "needs_background": "light"
     },
     "output_type": "display_data"
    }
   ],
   "source": [
    "sns.boxplot(x=\"cigsPerDay\", data=df)"
   ]
  },
  {
   "cell_type": "markdown",
   "id": "acaa5818",
   "metadata": {},
   "source": [
    "Outliers"
   ]
  },
  {
   "cell_type": "code",
   "execution_count": 42,
   "id": "39b3f602",
   "metadata": {},
   "outputs": [],
   "source": [
    "# Outliers\n",
    "q1 = df['cigsPerDay'].quantile(0.25)\n",
    "q3 = df['cigsPerDay'].quantile(0.75)\n",
    "iqr = q3-q1\n",
    "\n",
    "ll = q1-(1.5*iqr)\n",
    "ul = q3+(1.5*iqr)"
   ]
  },
  {
   "cell_type": "code",
   "execution_count": 43,
   "id": "bd82bd81",
   "metadata": {},
   "outputs": [
    {
     "data": {
      "text/html": [
       "<div>\n",
       "<style scoped>\n",
       "    .dataframe tbody tr th:only-of-type {\n",
       "        vertical-align: middle;\n",
       "    }\n",
       "\n",
       "    .dataframe tbody tr th {\n",
       "        vertical-align: top;\n",
       "    }\n",
       "\n",
       "    .dataframe thead th {\n",
       "        text-align: right;\n",
       "    }\n",
       "</style>\n",
       "<table border=\"1\" class=\"dataframe\">\n",
       "  <thead>\n",
       "    <tr style=\"text-align: right;\">\n",
       "      <th></th>\n",
       "      <th>male</th>\n",
       "      <th>age</th>\n",
       "      <th>education</th>\n",
       "      <th>currentSmoker</th>\n",
       "      <th>cigsPerDay</th>\n",
       "      <th>BPMeds</th>\n",
       "      <th>prevalentStroke</th>\n",
       "      <th>prevalentHyp</th>\n",
       "      <th>diabetes</th>\n",
       "      <th>totChol</th>\n",
       "      <th>sysBP</th>\n",
       "      <th>diaBP</th>\n",
       "      <th>BMI</th>\n",
       "      <th>heartRate</th>\n",
       "      <th>glucose</th>\n",
       "      <th>TenYearCHD</th>\n",
       "    </tr>\n",
       "  </thead>\n",
       "  <tbody>\n",
       "    <tr>\n",
       "      <th>327</th>\n",
       "      <td>1</td>\n",
       "      <td>56</td>\n",
       "      <td>1.0</td>\n",
       "      <td>1</td>\n",
       "      <td>60.0</td>\n",
       "      <td>0.0</td>\n",
       "      <td>0</td>\n",
       "      <td>0</td>\n",
       "      <td>0</td>\n",
       "      <td>246.0</td>\n",
       "      <td>125.0</td>\n",
       "      <td>79.0</td>\n",
       "      <td>29.64</td>\n",
       "      <td>70.0</td>\n",
       "      <td>85.0</td>\n",
       "      <td>0</td>\n",
       "    </tr>\n",
       "    <tr>\n",
       "      <th>721</th>\n",
       "      <td>1</td>\n",
       "      <td>59</td>\n",
       "      <td>1.0</td>\n",
       "      <td>1</td>\n",
       "      <td>60.0</td>\n",
       "      <td>0.0</td>\n",
       "      <td>0</td>\n",
       "      <td>1</td>\n",
       "      <td>0</td>\n",
       "      <td>298.0</td>\n",
       "      <td>153.5</td>\n",
       "      <td>105.0</td>\n",
       "      <td>25.05</td>\n",
       "      <td>70.0</td>\n",
       "      <td>84.0</td>\n",
       "      <td>0</td>\n",
       "    </tr>\n",
       "    <tr>\n",
       "      <th>1054</th>\n",
       "      <td>1</td>\n",
       "      <td>58</td>\n",
       "      <td>2.0</td>\n",
       "      <td>1</td>\n",
       "      <td>60.0</td>\n",
       "      <td>0.0</td>\n",
       "      <td>0</td>\n",
       "      <td>1</td>\n",
       "      <td>0</td>\n",
       "      <td>250.0</td>\n",
       "      <td>150.0</td>\n",
       "      <td>97.0</td>\n",
       "      <td>32.00</td>\n",
       "      <td>75.0</td>\n",
       "      <td>65.0</td>\n",
       "      <td>0</td>\n",
       "    </tr>\n",
       "    <tr>\n",
       "      <th>1452</th>\n",
       "      <td>1</td>\n",
       "      <td>39</td>\n",
       "      <td>1.0</td>\n",
       "      <td>1</td>\n",
       "      <td>60.0</td>\n",
       "      <td>0.0</td>\n",
       "      <td>0</td>\n",
       "      <td>0</td>\n",
       "      <td>0</td>\n",
       "      <td>215.0</td>\n",
       "      <td>112.0</td>\n",
       "      <td>65.0</td>\n",
       "      <td>23.60</td>\n",
       "      <td>59.0</td>\n",
       "      <td>78.0</td>\n",
       "      <td>0</td>\n",
       "    </tr>\n",
       "    <tr>\n",
       "      <th>1468</th>\n",
       "      <td>1</td>\n",
       "      <td>50</td>\n",
       "      <td>1.0</td>\n",
       "      <td>1</td>\n",
       "      <td>60.0</td>\n",
       "      <td>0.0</td>\n",
       "      <td>0</td>\n",
       "      <td>1</td>\n",
       "      <td>0</td>\n",
       "      <td>340.0</td>\n",
       "      <td>134.0</td>\n",
       "      <td>95.0</td>\n",
       "      <td>30.46</td>\n",
       "      <td>85.0</td>\n",
       "      <td>86.0</td>\n",
       "      <td>0</td>\n",
       "    </tr>\n",
       "    <tr>\n",
       "      <th>1488</th>\n",
       "      <td>1</td>\n",
       "      <td>37</td>\n",
       "      <td>4.0</td>\n",
       "      <td>1</td>\n",
       "      <td>60.0</td>\n",
       "      <td>0.0</td>\n",
       "      <td>0</td>\n",
       "      <td>0</td>\n",
       "      <td>0</td>\n",
       "      <td>254.0</td>\n",
       "      <td>122.5</td>\n",
       "      <td>82.5</td>\n",
       "      <td>23.87</td>\n",
       "      <td>88.0</td>\n",
       "      <td>83.0</td>\n",
       "      <td>0</td>\n",
       "    </tr>\n",
       "    <tr>\n",
       "      <th>1849</th>\n",
       "      <td>1</td>\n",
       "      <td>48</td>\n",
       "      <td>1.0</td>\n",
       "      <td>1</td>\n",
       "      <td>60.0</td>\n",
       "      <td>0.0</td>\n",
       "      <td>0</td>\n",
       "      <td>0</td>\n",
       "      <td>0</td>\n",
       "      <td>252.0</td>\n",
       "      <td>104.0</td>\n",
       "      <td>73.5</td>\n",
       "      <td>23.03</td>\n",
       "      <td>70.0</td>\n",
       "      <td>77.0</td>\n",
       "      <td>0</td>\n",
       "    </tr>\n",
       "    <tr>\n",
       "      <th>2709</th>\n",
       "      <td>1</td>\n",
       "      <td>46</td>\n",
       "      <td>1.0</td>\n",
       "      <td>1</td>\n",
       "      <td>60.0</td>\n",
       "      <td>0.0</td>\n",
       "      <td>0</td>\n",
       "      <td>0</td>\n",
       "      <td>0</td>\n",
       "      <td>285.0</td>\n",
       "      <td>121.0</td>\n",
       "      <td>82.0</td>\n",
       "      <td>27.62</td>\n",
       "      <td>70.0</td>\n",
       "      <td>79.0</td>\n",
       "      <td>0</td>\n",
       "    </tr>\n",
       "    <tr>\n",
       "      <th>3008</th>\n",
       "      <td>1</td>\n",
       "      <td>40</td>\n",
       "      <td>3.0</td>\n",
       "      <td>1</td>\n",
       "      <td>70.0</td>\n",
       "      <td>0.0</td>\n",
       "      <td>0</td>\n",
       "      <td>1</td>\n",
       "      <td>0</td>\n",
       "      <td>210.0</td>\n",
       "      <td>132.0</td>\n",
       "      <td>86.0</td>\n",
       "      <td>31.57</td>\n",
       "      <td>98.0</td>\n",
       "      <td>80.0</td>\n",
       "      <td>0</td>\n",
       "    </tr>\n",
       "    <tr>\n",
       "      <th>3928</th>\n",
       "      <td>1</td>\n",
       "      <td>67</td>\n",
       "      <td>2.0</td>\n",
       "      <td>1</td>\n",
       "      <td>60.0</td>\n",
       "      <td>0.0</td>\n",
       "      <td>0</td>\n",
       "      <td>1</td>\n",
       "      <td>0</td>\n",
       "      <td>261.0</td>\n",
       "      <td>170.0</td>\n",
       "      <td>100.0</td>\n",
       "      <td>22.71</td>\n",
       "      <td>72.0</td>\n",
       "      <td>79.0</td>\n",
       "      <td>1</td>\n",
       "    </tr>\n",
       "  </tbody>\n",
       "</table>\n",
       "</div>"
      ],
      "text/plain": [
       "      male  age  education  currentSmoker  cigsPerDay  BPMeds  \\\n",
       "327      1   56        1.0              1        60.0     0.0   \n",
       "721      1   59        1.0              1        60.0     0.0   \n",
       "1054     1   58        2.0              1        60.0     0.0   \n",
       "1452     1   39        1.0              1        60.0     0.0   \n",
       "1468     1   50        1.0              1        60.0     0.0   \n",
       "1488     1   37        4.0              1        60.0     0.0   \n",
       "1849     1   48        1.0              1        60.0     0.0   \n",
       "2709     1   46        1.0              1        60.0     0.0   \n",
       "3008     1   40        3.0              1        70.0     0.0   \n",
       "3928     1   67        2.0              1        60.0     0.0   \n",
       "\n",
       "      prevalentStroke  prevalentHyp  diabetes  totChol  sysBP  diaBP    BMI  \\\n",
       "327                 0             0         0    246.0  125.0   79.0  29.64   \n",
       "721                 0             1         0    298.0  153.5  105.0  25.05   \n",
       "1054                0             1         0    250.0  150.0   97.0  32.00   \n",
       "1452                0             0         0    215.0  112.0   65.0  23.60   \n",
       "1468                0             1         0    340.0  134.0   95.0  30.46   \n",
       "1488                0             0         0    254.0  122.5   82.5  23.87   \n",
       "1849                0             0         0    252.0  104.0   73.5  23.03   \n",
       "2709                0             0         0    285.0  121.0   82.0  27.62   \n",
       "3008                0             1         0    210.0  132.0   86.0  31.57   \n",
       "3928                0             1         0    261.0  170.0  100.0  22.71   \n",
       "\n",
       "      heartRate  glucose  TenYearCHD  \n",
       "327        70.0     85.0           0  \n",
       "721        70.0     84.0           0  \n",
       "1054       75.0     65.0           0  \n",
       "1452       59.0     78.0           0  \n",
       "1468       85.0     86.0           0  \n",
       "1488       88.0     83.0           0  \n",
       "1849       70.0     77.0           0  \n",
       "2709       70.0     79.0           0  \n",
       "3008       98.0     80.0           0  \n",
       "3928       72.0     79.0           1  "
      ]
     },
     "execution_count": 43,
     "metadata": {},
     "output_type": "execute_result"
    }
   ],
   "source": [
    "ul_data=df.loc[df['cigsPerDay']>ul]\n",
    "ul_data"
   ]
  },
  {
   "cell_type": "code",
   "execution_count": 44,
   "id": "132559e8",
   "metadata": {},
   "outputs": [
    {
     "data": {
      "text/html": [
       "<div>\n",
       "<style scoped>\n",
       "    .dataframe tbody tr th:only-of-type {\n",
       "        vertical-align: middle;\n",
       "    }\n",
       "\n",
       "    .dataframe tbody tr th {\n",
       "        vertical-align: top;\n",
       "    }\n",
       "\n",
       "    .dataframe thead th {\n",
       "        text-align: right;\n",
       "    }\n",
       "</style>\n",
       "<table border=\"1\" class=\"dataframe\">\n",
       "  <thead>\n",
       "    <tr style=\"text-align: right;\">\n",
       "      <th></th>\n",
       "      <th>male</th>\n",
       "      <th>age</th>\n",
       "      <th>education</th>\n",
       "      <th>currentSmoker</th>\n",
       "      <th>cigsPerDay</th>\n",
       "      <th>BPMeds</th>\n",
       "      <th>prevalentStroke</th>\n",
       "      <th>prevalentHyp</th>\n",
       "      <th>diabetes</th>\n",
       "      <th>totChol</th>\n",
       "      <th>sysBP</th>\n",
       "      <th>diaBP</th>\n",
       "      <th>BMI</th>\n",
       "      <th>heartRate</th>\n",
       "      <th>glucose</th>\n",
       "      <th>TenYearCHD</th>\n",
       "    </tr>\n",
       "  </thead>\n",
       "  <tbody>\n",
       "  </tbody>\n",
       "</table>\n",
       "</div>"
      ],
      "text/plain": [
       "Empty DataFrame\n",
       "Columns: [male, age, education, currentSmoker, cigsPerDay, BPMeds, prevalentStroke, prevalentHyp, diabetes, totChol, sysBP, diaBP, BMI, heartRate, glucose, TenYearCHD]\n",
       "Index: []"
      ]
     },
     "execution_count": 44,
     "metadata": {},
     "output_type": "execute_result"
    }
   ],
   "source": [
    "ll_data=df.loc[df['cigsPerDay']<ll]\n",
    "ll_data"
   ]
  },
  {
   "cell_type": "code",
   "execution_count": null,
   "id": "dc472e4a",
   "metadata": {},
   "outputs": [],
   "source": []
  },
  {
   "cell_type": "code",
   "execution_count": 45,
   "id": "29215f5b",
   "metadata": {},
   "outputs": [],
   "source": [
    "df['cigsPerDay'] = np.where(df['cigsPerDay']>ul, ul, df['cigsPerDay'])"
   ]
  },
  {
   "cell_type": "code",
   "execution_count": 46,
   "id": "c1a47ce4",
   "metadata": {},
   "outputs": [
    {
     "data": {
      "text/plain": [
       "<AxesSubplot:xlabel='cigsPerDay'>"
      ]
     },
     "execution_count": 46,
     "metadata": {},
     "output_type": "execute_result"
    },
    {
     "data": {
      "image/png": "[encoded data removed]",
      "text/plain": [
       "<Figure size 432x288 with 1 Axes>"
      ]
     },
     "metadata": {
      "needs_background": "light"
     },
     "output_type": "display_data"
    }
   ],
   "source": [
    "sns.boxplot(x=\"cigsPerDay\", data=df)"
   ]
  },
  {
   "cell_type": "markdown",
   "id": "9d950736",
   "metadata": {},
   "source": [
    "## BPMeds "
   ]
  },
  {
   "cell_type": "code",
   "execution_count": 47,
   "id": "9e54baf8",
   "metadata": {},
   "outputs": [
    {
     "data": {
      "text/plain": [
       "0.0    3545\n",
       "1.0     111\n",
       "Name: BPMeds, dtype: int64"
      ]
     },
     "execution_count": 47,
     "metadata": {},
     "output_type": "execute_result"
    }
   ],
   "source": [
    "df[\"BPMeds\"].value_counts()"
   ]
  },
  {
   "cell_type": "code",
   "execution_count": 48,
   "id": "64a0ca48",
   "metadata": {},
   "outputs": [
    {
     "data": {
      "text/plain": [
       "Text(0.5, 1.0, 'COunt Plot of: BPMeds')"
      ]
     },
     "execution_count": 48,
     "metadata": {},
     "output_type": "execute_result"
    },
    {
     "data": {
      "image/png": "[encoded data removed]",
      "text/plain": [
       "<Figure size 432x288 with 1 Axes>"
      ]
     },
     "metadata": {
      "needs_background": "light"
     },
     "output_type": "display_data"
    }
   ],
   "source": [
    "sns.countplot(df[\"BPMeds\"])\n",
    "plt.title(\"COunt Plot of: BPMeds\")"
   ]
  },
  {
   "cell_type": "code",
   "execution_count": 49,
   "id": "64b25592",
   "metadata": {},
   "outputs": [
    {
     "data": {
      "text/plain": [
       "(29.03452113804038,\n",
       " 7.109993429681265e-08,\n",
       " 1,\n",
       " array([[3004.91110503,   94.08889497],\n",
       "        [ 540.08889497,   16.91110503]]))"
      ]
     },
     "execution_count": 49,
     "metadata": {},
     "output_type": "execute_result"
    }
   ],
   "source": [
    "ct_BPMeds = pd.crosstab(df.TenYearCHD, df.BPMeds)\n",
    "ct = chi2_contingency(ct_BPMeds, correction = False)\n",
    "ct"
   ]
  },
  {
   "cell_type": "code",
   "execution_count": 50,
   "id": "9a31bf64",
   "metadata": {},
   "outputs": [
    {
     "data": {
      "text/plain": [
       "0.0"
      ]
     },
     "execution_count": 50,
     "metadata": {},
     "output_type": "execute_result"
    }
   ],
   "source": [
    "round(ct[1],4)  # p_val < 0.05, Ho rejected, hence association exists, good predictor "
   ]
  },
  {
   "cell_type": "markdown",
   "id": "6cfcf097",
   "metadata": {},
   "source": [
    "## prevalentStroke "
   ]
  },
  {
   "cell_type": "code",
   "execution_count": 51,
   "id": "17b569e8",
   "metadata": {},
   "outputs": [
    {
     "data": {
      "text/plain": [
       "0    3635\n",
       "1      21\n",
       "Name: prevalentStroke, dtype: int64"
      ]
     },
     "execution_count": 51,
     "metadata": {},
     "output_type": "execute_result"
    }
   ],
   "source": [
    "df[\"prevalentStroke\"].value_counts()"
   ]
  },
  {
   "cell_type": "code",
   "execution_count": 52,
   "id": "f44f613b",
   "metadata": {},
   "outputs": [
    {
     "data": {
      "text/plain": [
       "Text(0.5, 1.0, 'COunt Plot of: prevalentStroke')"
      ]
     },
     "execution_count": 52,
     "metadata": {},
     "output_type": "execute_result"
    },
    {
     "data": {
      "image/png": "[encoded data removed]",
      "text/plain": [
       "<Figure size 432x288 with 1 Axes>"
      ]
     },
     "metadata": {
      "needs_background": "light"
     },
     "output_type": "display_data"
    }
   ],
   "source": [
    "sns.countplot(df[\"prevalentStroke\"])\n",
    "plt.title(\"COunt Plot of: prevalentStroke\")"
   ]
  },
  {
   "cell_type": "code",
   "execution_count": 53,
   "id": "79237fb2",
   "metadata": {},
   "outputs": [
    {
     "data": {
      "text/plain": [
       "(8.546916048696806,\n",
       " 0.0034610809460219154,\n",
       " 1,\n",
       " array([[3081.19939825,   17.80060175],\n",
       "        [ 553.80060175,    3.19939825]]))"
      ]
     },
     "execution_count": 53,
     "metadata": {},
     "output_type": "execute_result"
    }
   ],
   "source": [
    "ct_prevalentStroke = pd.crosstab(df.TenYearCHD, df.prevalentStroke)\n",
    "ct = chi2_contingency(ct_prevalentStroke, correction = False)\n",
    "ct"
   ]
  },
  {
   "cell_type": "code",
   "execution_count": 54,
   "id": "b4f1b3e6",
   "metadata": {},
   "outputs": [
    {
     "data": {
      "text/plain": [
       "0.0035"
      ]
     },
     "execution_count": 54,
     "metadata": {},
     "output_type": "execute_result"
    }
   ],
   "source": [
    "round(ct[1],4)  # p_val < 0.05, Ho rejected, hence association exists, good predictor "
   ]
  },
  {
   "cell_type": "markdown",
   "id": "9da23328",
   "metadata": {},
   "source": [
    "## prevalentHyp "
   ]
  },
  {
   "cell_type": "code",
   "execution_count": 55,
   "id": "f20f1d6f",
   "metadata": {},
   "outputs": [
    {
     "data": {
      "text/plain": [
       "0    2517\n",
       "1    1139\n",
       "Name: prevalentHyp, dtype: int64"
      ]
     },
     "execution_count": 55,
     "metadata": {},
     "output_type": "execute_result"
    }
   ],
   "source": [
    "df[\"prevalentHyp\"].value_counts()"
   ]
  },
  {
   "cell_type": "code",
   "execution_count": 56,
   "id": "dbaf888d",
   "metadata": {},
   "outputs": [
    {
     "data": {
      "text/plain": [
       "Text(0.5, 1.0, 'COunt Plot of: prevalentStroke')"
      ]
     },
     "execution_count": 56,
     "metadata": {},
     "output_type": "execute_result"
    },
    {
     "data": {
      "image/png": "[encoded data removed]",
      "text/plain": [
       "<Figure size 432x288 with 1 Axes>"
      ]
     },
     "metadata": {
      "needs_background": "light"
     },
     "output_type": "display_data"
    }
   ],
   "source": [
    "sns.countplot(df[\"prevalentHyp\"])\n",
    "plt.title(\"COunt Plot of: prevalentStroke\")"
   ]
  },
  {
   "cell_type": "code",
   "execution_count": 59,
   "id": "18d46c50",
   "metadata": {},
   "outputs": [
    {
     "data": {
      "text/plain": [
       "(120.51173022673483,\n",
       " 4.887691593190609e-28,\n",
       " 1,\n",
       " array([[2133.52926696,  965.47073304],\n",
       "        [ 383.47073304,  173.52926696]]))"
      ]
     },
     "execution_count": 59,
     "metadata": {},
     "output_type": "execute_result"
    }
   ],
   "source": [
    "ct_prevalentHyp = pd.crosstab(df.TenYearCHD, df.prevalentHyp)\n",
    "ct = chi2_contingency(ct_prevalentHyp, correction = False)\n",
    "ct"
   ]
  },
  {
   "cell_type": "code",
   "execution_count": 60,
   "id": "f8fabd82",
   "metadata": {},
   "outputs": [
    {
     "data": {
      "text/plain": [
       "0.0"
      ]
     },
     "execution_count": 60,
     "metadata": {},
     "output_type": "execute_result"
    }
   ],
   "source": [
    "round(ct[1],4)  # p_val < 0.05, Ho rejected, hence association exists, good predictor "
   ]
  },
  {
   "cell_type": "markdown",
   "id": "1a5fe174",
   "metadata": {},
   "source": [
    "## diabetes "
   ]
  },
  {
   "cell_type": "code",
   "execution_count": 61,
   "id": "202a5382",
   "metadata": {},
   "outputs": [
    {
     "data": {
      "text/plain": [
       "0    3557\n",
       "1      99\n",
       "Name: diabetes, dtype: int64"
      ]
     },
     "execution_count": 61,
     "metadata": {},
     "output_type": "execute_result"
    }
   ],
   "source": [
    "df[\"diabetes\"].value_counts()"
   ]
  },
  {
   "cell_type": "code",
   "execution_count": 62,
   "id": "9c8ef644",
   "metadata": {},
   "outputs": [
    {
     "data": {
      "text/plain": [
       "Text(0.5, 1.0, 'COunt Plot of: diabetes')"
      ]
     },
     "execution_count": 62,
     "metadata": {},
     "output_type": "execute_result"
    },
    {
     "data": {
      "image/png": "[encoded data removed]",
      "text/plain": [
       "<Figure size 432x288 with 1 Axes>"
      ]
     },
     "metadata": {
      "needs_background": "light"
     },
     "output_type": "display_data"
    }
   ],
   "source": [
    "sns.countplot(df[\"diabetes\"])\n",
    "plt.title(\"COunt Plot of: diabetes\")"
   ]
  },
  {
   "cell_type": "code",
   "execution_count": 63,
   "id": "5b27373e",
   "metadata": {},
   "outputs": [
    {
     "data": {
      "text/plain": [
       "(31.891571532290488,\n",
       " 1.6302300205658096e-08,\n",
       " 1,\n",
       " array([[3015.08287746,   83.91712254],\n",
       "        [ 541.91712254,   15.08287746]]))"
      ]
     },
     "execution_count": 63,
     "metadata": {},
     "output_type": "execute_result"
    }
   ],
   "source": [
    "ct_diabetes = pd.crosstab(df.TenYearCHD, df.diabetes)\n",
    "ct = chi2_contingency(ct_diabetes, correction = False)\n",
    "ct"
   ]
  },
  {
   "cell_type": "code",
   "execution_count": 64,
   "id": "90b5744e",
   "metadata": {},
   "outputs": [
    {
     "data": {
      "text/plain": [
       "0.0"
      ]
     },
     "execution_count": 64,
     "metadata": {},
     "output_type": "execute_result"
    }
   ],
   "source": [
    "round(ct[1],4)  # p_val < 0.05, Ho rejected, hence association exists, good predictor "
   ]
  },
  {
   "cell_type": "markdown",
   "id": "6d610fb8",
   "metadata": {},
   "source": [
    "## totChol "
   ]
  },
  {
   "cell_type": "code",
   "execution_count": 70,
   "id": "845b26a4",
   "metadata": {},
   "outputs": [
    {
     "data": {
      "text/plain": [
       "240.0    69\n",
       "260.0    58\n",
       "220.0    58\n",
       "232.0    54\n",
       "210.0    51\n",
       "         ..\n",
       "366.0     1\n",
       "405.0     1\n",
       "359.0     1\n",
       "336.0     1\n",
       "119.0     1\n",
       "Name: totChol, Length: 241, dtype: int64"
      ]
     },
     "execution_count": 70,
     "metadata": {},
     "output_type": "execute_result"
    }
   ],
   "source": [
    "df[\"totChol\"].value_counts()"
   ]
  },
  {
   "cell_type": "code",
   "execution_count": 71,
   "id": "dee810c7",
   "metadata": {
    "scrolled": true
   },
   "outputs": [
    {
     "data": {
      "image/png": "[encoded data removed]",
      "text/plain": [
       "<Figure size 432x288 with 1 Axes>"
      ]
     },
     "metadata": {
      "needs_background": "light"
     },
     "output_type": "display_data"
    }
   ],
   "source": [
    "sns.distplot(df['totChol'])\n",
    "plt.title(\"Histogram of : totChol\")\n",
    "plt.xlabel(\"totChol\")\n",
    "plt.ylabel(\"Density of totChol\")\n",
    "plt.show()"
   ]
  },
  {
   "cell_type": "code",
   "execution_count": 72,
   "id": "a918aa69",
   "metadata": {},
   "outputs": [
    {
     "data": {
      "text/plain": [
       "<AxesSubplot:>"
      ]
     },
     "execution_count": 72,
     "metadata": {},
     "output_type": "execute_result"
    },
    {
     "data": {
      "image/png": "[encoded data removed]",
      "text/plain": [
       "<Figure size 432x288 with 1 Axes>"
      ]
     },
     "metadata": {
      "needs_background": "light"
     },
     "output_type": "display_data"
    }
   ],
   "source": [
    "#____boxplot\n",
    "props2 = dict(boxes = 'red', whiskers = 'green', medians = 'black', caps = 'red')\n",
    "df['totChol'].plot.box(color=props2, patch_artist = True, vert = False)"
   ]
  },
  {
   "cell_type": "code",
   "execution_count": 73,
   "id": "4a07fc04",
   "metadata": {},
   "outputs": [],
   "source": [
    "# Outliers\n",
    "q1 = df['totChol'].quantile(0.25)\n",
    "q3 = df['totChol'].quantile(0.75)\n",
    "iqr = q3-q1\n",
    "\n",
    "ll = q1-(1.5*iqr)\n",
    "ul = q3+(1.5*iqr)"
   ]
  },
  {
   "cell_type": "code",
   "execution_count": 75,
   "id": "4de20717",
   "metadata": {},
   "outputs": [
    {
     "data": {
      "text/html": [
       "<div>\n",
       "<style scoped>\n",
       "    .dataframe tbody tr th:only-of-type {\n",
       "        vertical-align: middle;\n",
       "    }\n",
       "\n",
       "    .dataframe tbody tr th {\n",
       "        vertical-align: top;\n",
       "    }\n",
       "\n",
       "    .dataframe thead th {\n",
       "        text-align: right;\n",
       "    }\n",
       "</style>\n",
       "<table border=\"1\" class=\"dataframe\">\n",
       "  <thead>\n",
       "    <tr style=\"text-align: right;\">\n",
       "      <th></th>\n",
       "      <th>male</th>\n",
       "      <th>age</th>\n",
       "      <th>education</th>\n",
       "      <th>currentSmoker</th>\n",
       "      <th>cigsPerDay</th>\n",
       "      <th>BPMeds</th>\n",
       "      <th>prevalentStroke</th>\n",
       "      <th>prevalentHyp</th>\n",
       "      <th>diabetes</th>\n",
       "      <th>totChol</th>\n",
       "      <th>sysBP</th>\n",
       "      <th>diaBP</th>\n",
       "      <th>BMI</th>\n",
       "      <th>heartRate</th>\n",
       "      <th>glucose</th>\n",
       "      <th>TenYearCHD</th>\n",
       "    </tr>\n",
       "  </thead>\n",
       "  <tbody>\n",
       "    <tr>\n",
       "      <th>194</th>\n",
       "      <td>0</td>\n",
       "      <td>42</td>\n",
       "      <td>3.0</td>\n",
       "      <td>0</td>\n",
       "      <td>0.0</td>\n",
       "      <td>0.0</td>\n",
       "      <td>0</td>\n",
       "      <td>0</td>\n",
       "      <td>0</td>\n",
       "      <td>464.0</td>\n",
       "      <td>128.0</td>\n",
       "      <td>87.0</td>\n",
       "      <td>22.90</td>\n",
       "      <td>72.0</td>\n",
       "      <td>72.0</td>\n",
       "      <td>1</td>\n",
       "    </tr>\n",
       "    <tr>\n",
       "      <th>259</th>\n",
       "      <td>0</td>\n",
       "      <td>60</td>\n",
       "      <td>1.0</td>\n",
       "      <td>0</td>\n",
       "      <td>0.0</td>\n",
       "      <td>0.0</td>\n",
       "      <td>0</td>\n",
       "      <td>1</td>\n",
       "      <td>0</td>\n",
       "      <td>352.0</td>\n",
       "      <td>197.5</td>\n",
       "      <td>105.0</td>\n",
       "      <td>36.29</td>\n",
       "      <td>75.0</td>\n",
       "      <td>95.0</td>\n",
       "      <td>1</td>\n",
       "    </tr>\n",
       "    <tr>\n",
       "      <th>333</th>\n",
       "      <td>0</td>\n",
       "      <td>55</td>\n",
       "      <td>2.0</td>\n",
       "      <td>0</td>\n",
       "      <td>0.0</td>\n",
       "      <td>1.0</td>\n",
       "      <td>0</td>\n",
       "      <td>1</td>\n",
       "      <td>0</td>\n",
       "      <td>368.0</td>\n",
       "      <td>204.0</td>\n",
       "      <td>94.0</td>\n",
       "      <td>25.20</td>\n",
       "      <td>100.0</td>\n",
       "      <td>81.0</td>\n",
       "      <td>0</td>\n",
       "    </tr>\n",
       "    <tr>\n",
       "      <th>533</th>\n",
       "      <td>0</td>\n",
       "      <td>53</td>\n",
       "      <td>2.0</td>\n",
       "      <td>0</td>\n",
       "      <td>0.0</td>\n",
       "      <td>0.0</td>\n",
       "      <td>0</td>\n",
       "      <td>0</td>\n",
       "      <td>0</td>\n",
       "      <td>370.0</td>\n",
       "      <td>123.0</td>\n",
       "      <td>83.0</td>\n",
       "      <td>24.64</td>\n",
       "      <td>63.0</td>\n",
       "      <td>74.0</td>\n",
       "      <td>1</td>\n",
       "    </tr>\n",
       "    <tr>\n",
       "      <th>543</th>\n",
       "      <td>1</td>\n",
       "      <td>47</td>\n",
       "      <td>2.0</td>\n",
       "      <td>1</td>\n",
       "      <td>18.0</td>\n",
       "      <td>0.0</td>\n",
       "      <td>0</td>\n",
       "      <td>1</td>\n",
       "      <td>0</td>\n",
       "      <td>439.0</td>\n",
       "      <td>145.0</td>\n",
       "      <td>74.0</td>\n",
       "      <td>22.42</td>\n",
       "      <td>100.0</td>\n",
       "      <td>90.0</td>\n",
       "      <td>1</td>\n",
       "    </tr>\n",
       "    <tr>\n",
       "      <th>617</th>\n",
       "      <td>0</td>\n",
       "      <td>51</td>\n",
       "      <td>3.0</td>\n",
       "      <td>1</td>\n",
       "      <td>3.0</td>\n",
       "      <td>0.0</td>\n",
       "      <td>0</td>\n",
       "      <td>1</td>\n",
       "      <td>0</td>\n",
       "      <td>398.0</td>\n",
       "      <td>161.0</td>\n",
       "      <td>96.0</td>\n",
       "      <td>23.63</td>\n",
       "      <td>77.0</td>\n",
       "      <td>83.0</td>\n",
       "      <td>0</td>\n",
       "    </tr>\n",
       "    <tr>\n",
       "      <th>670</th>\n",
       "      <td>0</td>\n",
       "      <td>65</td>\n",
       "      <td>2.0</td>\n",
       "      <td>0</td>\n",
       "      <td>0.0</td>\n",
       "      <td>0.0</td>\n",
       "      <td>0</td>\n",
       "      <td>0</td>\n",
       "      <td>0</td>\n",
       "      <td>355.0</td>\n",
       "      <td>138.0</td>\n",
       "      <td>79.0</td>\n",
       "      <td>28.38</td>\n",
       "      <td>75.0</td>\n",
       "      <td>108.0</td>\n",
       "      <td>0</td>\n",
       "    </tr>\n",
       "    <tr>\n",
       "      <th>920</th>\n",
       "      <td>0</td>\n",
       "      <td>60</td>\n",
       "      <td>1.0</td>\n",
       "      <td>1</td>\n",
       "      <td>15.0</td>\n",
       "      <td>0.0</td>\n",
       "      <td>0</td>\n",
       "      <td>0</td>\n",
       "      <td>0</td>\n",
       "      <td>353.0</td>\n",
       "      <td>116.0</td>\n",
       "      <td>82.0</td>\n",
       "      <td>22.66</td>\n",
       "      <td>85.0</td>\n",
       "      <td>71.0</td>\n",
       "      <td>0</td>\n",
       "    </tr>\n",
       "    <tr>\n",
       "      <th>926</th>\n",
       "      <td>1</td>\n",
       "      <td>61</td>\n",
       "      <td>1.0</td>\n",
       "      <td>1</td>\n",
       "      <td>20.0</td>\n",
       "      <td>0.0</td>\n",
       "      <td>0</td>\n",
       "      <td>1</td>\n",
       "      <td>0</td>\n",
       "      <td>360.0</td>\n",
       "      <td>157.0</td>\n",
       "      <td>99.0</td>\n",
       "      <td>28.74</td>\n",
       "      <td>95.0</td>\n",
       "      <td>73.0</td>\n",
       "      <td>0</td>\n",
       "    </tr>\n",
       "    <tr>\n",
       "      <th>1103</th>\n",
       "      <td>0</td>\n",
       "      <td>60</td>\n",
       "      <td>4.0</td>\n",
       "      <td>1</td>\n",
       "      <td>20.0</td>\n",
       "      <td>0.0</td>\n",
       "      <td>0</td>\n",
       "      <td>1</td>\n",
       "      <td>0</td>\n",
       "      <td>352.0</td>\n",
       "      <td>149.0</td>\n",
       "      <td>73.0</td>\n",
       "      <td>25.96</td>\n",
       "      <td>80.0</td>\n",
       "      <td>79.0</td>\n",
       "      <td>0</td>\n",
       "    </tr>\n",
       "    <tr>\n",
       "      <th>1111</th>\n",
       "      <td>0</td>\n",
       "      <td>52</td>\n",
       "      <td>2.0</td>\n",
       "      <td>0</td>\n",
       "      <td>0.0</td>\n",
       "      <td>0.0</td>\n",
       "      <td>0</td>\n",
       "      <td>1</td>\n",
       "      <td>1</td>\n",
       "      <td>600.0</td>\n",
       "      <td>159.5</td>\n",
       "      <td>94.0</td>\n",
       "      <td>28.27</td>\n",
       "      <td>78.0</td>\n",
       "      <td>140.0</td>\n",
       "      <td>1</td>\n",
       "    </tr>\n",
       "    <tr>\n",
       "      <th>1150</th>\n",
       "      <td>0</td>\n",
       "      <td>46</td>\n",
       "      <td>1.0</td>\n",
       "      <td>1</td>\n",
       "      <td>10.0</td>\n",
       "      <td>0.0</td>\n",
       "      <td>0</td>\n",
       "      <td>0</td>\n",
       "      <td>0</td>\n",
       "      <td>392.0</td>\n",
       "      <td>113.0</td>\n",
       "      <td>68.0</td>\n",
       "      <td>23.35</td>\n",
       "      <td>70.0</td>\n",
       "      <td>63.0</td>\n",
       "      <td>0</td>\n",
       "    </tr>\n",
       "    <tr>\n",
       "      <th>1389</th>\n",
       "      <td>0</td>\n",
       "      <td>51</td>\n",
       "      <td>2.0</td>\n",
       "      <td>0</td>\n",
       "      <td>0.0</td>\n",
       "      <td>1.0</td>\n",
       "      <td>0</td>\n",
       "      <td>1</td>\n",
       "      <td>0</td>\n",
       "      <td>358.0</td>\n",
       "      <td>134.0</td>\n",
       "      <td>87.0</td>\n",
       "      <td>29.36</td>\n",
       "      <td>75.0</td>\n",
       "      <td>87.0</td>\n",
       "      <td>1</td>\n",
       "    </tr>\n",
       "    <tr>\n",
       "      <th>1447</th>\n",
       "      <td>0</td>\n",
       "      <td>60</td>\n",
       "      <td>1.0</td>\n",
       "      <td>0</td>\n",
       "      <td>0.0</td>\n",
       "      <td>0.0</td>\n",
       "      <td>0</td>\n",
       "      <td>0</td>\n",
       "      <td>0</td>\n",
       "      <td>391.0</td>\n",
       "      <td>114.0</td>\n",
       "      <td>64.0</td>\n",
       "      <td>24.57</td>\n",
       "      <td>82.0</td>\n",
       "      <td>83.0</td>\n",
       "      <td>0</td>\n",
       "    </tr>\n",
       "    <tr>\n",
       "      <th>1544</th>\n",
       "      <td>1</td>\n",
       "      <td>42</td>\n",
       "      <td>1.0</td>\n",
       "      <td>1</td>\n",
       "      <td>20.0</td>\n",
       "      <td>0.0</td>\n",
       "      <td>0</td>\n",
       "      <td>0</td>\n",
       "      <td>0</td>\n",
       "      <td>410.0</td>\n",
       "      <td>116.0</td>\n",
       "      <td>83.0</td>\n",
       "      <td>21.68</td>\n",
       "      <td>90.0</td>\n",
       "      <td>83.0</td>\n",
       "      <td>0</td>\n",
       "    </tr>\n",
       "    <tr>\n",
       "      <th>1691</th>\n",
       "      <td>0</td>\n",
       "      <td>64</td>\n",
       "      <td>1.0</td>\n",
       "      <td>0</td>\n",
       "      <td>0.0</td>\n",
       "      <td>0.0</td>\n",
       "      <td>0</td>\n",
       "      <td>1</td>\n",
       "      <td>0</td>\n",
       "      <td>372.0</td>\n",
       "      <td>169.0</td>\n",
       "      <td>85.0</td>\n",
       "      <td>26.01</td>\n",
       "      <td>75.0</td>\n",
       "      <td>79.0</td>\n",
       "      <td>1</td>\n",
       "    </tr>\n",
       "    <tr>\n",
       "      <th>1710</th>\n",
       "      <td>0</td>\n",
       "      <td>57</td>\n",
       "      <td>3.0</td>\n",
       "      <td>0</td>\n",
       "      <td>0.0</td>\n",
       "      <td>0.0</td>\n",
       "      <td>0</td>\n",
       "      <td>1</td>\n",
       "      <td>0</td>\n",
       "      <td>366.0</td>\n",
       "      <td>146.5</td>\n",
       "      <td>80.0</td>\n",
       "      <td>24.19</td>\n",
       "      <td>85.0</td>\n",
       "      <td>73.0</td>\n",
       "      <td>0</td>\n",
       "    </tr>\n",
       "    <tr>\n",
       "      <th>1937</th>\n",
       "      <td>0</td>\n",
       "      <td>59</td>\n",
       "      <td>1.0</td>\n",
       "      <td>0</td>\n",
       "      <td>0.0</td>\n",
       "      <td>0.0</td>\n",
       "      <td>0</td>\n",
       "      <td>1</td>\n",
       "      <td>0</td>\n",
       "      <td>410.0</td>\n",
       "      <td>142.0</td>\n",
       "      <td>79.0</td>\n",
       "      <td>25.58</td>\n",
       "      <td>78.0</td>\n",
       "      <td>90.0</td>\n",
       "      <td>0</td>\n",
       "    </tr>\n",
       "    <tr>\n",
       "      <th>2024</th>\n",
       "      <td>0</td>\n",
       "      <td>62</td>\n",
       "      <td>1.0</td>\n",
       "      <td>0</td>\n",
       "      <td>0.0</td>\n",
       "      <td>0.0</td>\n",
       "      <td>0</td>\n",
       "      <td>1</td>\n",
       "      <td>1</td>\n",
       "      <td>390.0</td>\n",
       "      <td>184.5</td>\n",
       "      <td>83.0</td>\n",
       "      <td>18.99</td>\n",
       "      <td>87.0</td>\n",
       "      <td>47.0</td>\n",
       "      <td>0</td>\n",
       "    </tr>\n",
       "    <tr>\n",
       "      <th>2206</th>\n",
       "      <td>1</td>\n",
       "      <td>46</td>\n",
       "      <td>1.0</td>\n",
       "      <td>1</td>\n",
       "      <td>15.0</td>\n",
       "      <td>0.0</td>\n",
       "      <td>0</td>\n",
       "      <td>1</td>\n",
       "      <td>0</td>\n",
       "      <td>405.0</td>\n",
       "      <td>181.5</td>\n",
       "      <td>102.5</td>\n",
       "      <td>26.33</td>\n",
       "      <td>98.0</td>\n",
       "      <td>97.0</td>\n",
       "      <td>1</td>\n",
       "    </tr>\n",
       "    <tr>\n",
       "      <th>2208</th>\n",
       "      <td>0</td>\n",
       "      <td>42</td>\n",
       "      <td>2.0</td>\n",
       "      <td>1</td>\n",
       "      <td>10.0</td>\n",
       "      <td>0.0</td>\n",
       "      <td>0</td>\n",
       "      <td>0</td>\n",
       "      <td>0</td>\n",
       "      <td>359.0</td>\n",
       "      <td>115.0</td>\n",
       "      <td>71.0</td>\n",
       "      <td>24.46</td>\n",
       "      <td>75.0</td>\n",
       "      <td>68.0</td>\n",
       "      <td>0</td>\n",
       "    </tr>\n",
       "    <tr>\n",
       "      <th>2275</th>\n",
       "      <td>0</td>\n",
       "      <td>49</td>\n",
       "      <td>2.0</td>\n",
       "      <td>1</td>\n",
       "      <td>30.0</td>\n",
       "      <td>1.0</td>\n",
       "      <td>0</td>\n",
       "      <td>1</td>\n",
       "      <td>0</td>\n",
       "      <td>350.0</td>\n",
       "      <td>174.0</td>\n",
       "      <td>90.0</td>\n",
       "      <td>18.44</td>\n",
       "      <td>110.0</td>\n",
       "      <td>78.0</td>\n",
       "      <td>0</td>\n",
       "    </tr>\n",
       "    <tr>\n",
       "      <th>2349</th>\n",
       "      <td>0</td>\n",
       "      <td>63</td>\n",
       "      <td>3.0</td>\n",
       "      <td>0</td>\n",
       "      <td>0.0</td>\n",
       "      <td>0.0</td>\n",
       "      <td>0</td>\n",
       "      <td>1</td>\n",
       "      <td>0</td>\n",
       "      <td>380.0</td>\n",
       "      <td>175.0</td>\n",
       "      <td>78.0</td>\n",
       "      <td>20.15</td>\n",
       "      <td>68.0</td>\n",
       "      <td>95.0</td>\n",
       "      <td>1</td>\n",
       "    </tr>\n",
       "    <tr>\n",
       "      <th>2363</th>\n",
       "      <td>1</td>\n",
       "      <td>42</td>\n",
       "      <td>2.0</td>\n",
       "      <td>1</td>\n",
       "      <td>5.0</td>\n",
       "      <td>0.0</td>\n",
       "      <td>0</td>\n",
       "      <td>0</td>\n",
       "      <td>0</td>\n",
       "      <td>355.0</td>\n",
       "      <td>113.0</td>\n",
       "      <td>81.0</td>\n",
       "      <td>26.17</td>\n",
       "      <td>90.0</td>\n",
       "      <td>71.0</td>\n",
       "      <td>0</td>\n",
       "    </tr>\n",
       "    <tr>\n",
       "      <th>2368</th>\n",
       "      <td>0</td>\n",
       "      <td>54</td>\n",
       "      <td>2.0</td>\n",
       "      <td>1</td>\n",
       "      <td>5.0</td>\n",
       "      <td>0.0</td>\n",
       "      <td>0</td>\n",
       "      <td>1</td>\n",
       "      <td>0</td>\n",
       "      <td>390.0</td>\n",
       "      <td>150.0</td>\n",
       "      <td>94.0</td>\n",
       "      <td>27.34</td>\n",
       "      <td>75.0</td>\n",
       "      <td>71.0</td>\n",
       "      <td>0</td>\n",
       "    </tr>\n",
       "    <tr>\n",
       "      <th>2488</th>\n",
       "      <td>0</td>\n",
       "      <td>67</td>\n",
       "      <td>2.0</td>\n",
       "      <td>1</td>\n",
       "      <td>15.0</td>\n",
       "      <td>0.0</td>\n",
       "      <td>0</td>\n",
       "      <td>1</td>\n",
       "      <td>0</td>\n",
       "      <td>371.0</td>\n",
       "      <td>166.0</td>\n",
       "      <td>85.0</td>\n",
       "      <td>25.35</td>\n",
       "      <td>100.0</td>\n",
       "      <td>86.0</td>\n",
       "      <td>0</td>\n",
       "    </tr>\n",
       "    <tr>\n",
       "      <th>2575</th>\n",
       "      <td>0</td>\n",
       "      <td>52</td>\n",
       "      <td>3.0</td>\n",
       "      <td>0</td>\n",
       "      <td>0.0</td>\n",
       "      <td>0.0</td>\n",
       "      <td>0</td>\n",
       "      <td>1</td>\n",
       "      <td>0</td>\n",
       "      <td>350.0</td>\n",
       "      <td>175.0</td>\n",
       "      <td>85.0</td>\n",
       "      <td>30.99</td>\n",
       "      <td>92.0</td>\n",
       "      <td>63.0</td>\n",
       "      <td>0</td>\n",
       "    </tr>\n",
       "    <tr>\n",
       "      <th>2602</th>\n",
       "      <td>0</td>\n",
       "      <td>60</td>\n",
       "      <td>2.0</td>\n",
       "      <td>0</td>\n",
       "      <td>0.0</td>\n",
       "      <td>0.0</td>\n",
       "      <td>0</td>\n",
       "      <td>0</td>\n",
       "      <td>0</td>\n",
       "      <td>354.0</td>\n",
       "      <td>130.0</td>\n",
       "      <td>82.5</td>\n",
       "      <td>26.76</td>\n",
       "      <td>65.0</td>\n",
       "      <td>79.0</td>\n",
       "      <td>0</td>\n",
       "    </tr>\n",
       "    <tr>\n",
       "      <th>2607</th>\n",
       "      <td>0</td>\n",
       "      <td>57</td>\n",
       "      <td>1.0</td>\n",
       "      <td>0</td>\n",
       "      <td>0.0</td>\n",
       "      <td>0.0</td>\n",
       "      <td>0</td>\n",
       "      <td>1</td>\n",
       "      <td>0</td>\n",
       "      <td>382.0</td>\n",
       "      <td>133.0</td>\n",
       "      <td>77.0</td>\n",
       "      <td>24.27</td>\n",
       "      <td>75.0</td>\n",
       "      <td>81.0</td>\n",
       "      <td>0</td>\n",
       "    </tr>\n",
       "    <tr>\n",
       "      <th>2671</th>\n",
       "      <td>0</td>\n",
       "      <td>59</td>\n",
       "      <td>2.0</td>\n",
       "      <td>0</td>\n",
       "      <td>0.0</td>\n",
       "      <td>0.0</td>\n",
       "      <td>0</td>\n",
       "      <td>0</td>\n",
       "      <td>0</td>\n",
       "      <td>364.0</td>\n",
       "      <td>142.0</td>\n",
       "      <td>84.0</td>\n",
       "      <td>26.24</td>\n",
       "      <td>67.0</td>\n",
       "      <td>70.0</td>\n",
       "      <td>0</td>\n",
       "    </tr>\n",
       "    <tr>\n",
       "      <th>2797</th>\n",
       "      <td>1</td>\n",
       "      <td>43</td>\n",
       "      <td>4.0</td>\n",
       "      <td>0</td>\n",
       "      <td>0.0</td>\n",
       "      <td>0.0</td>\n",
       "      <td>0</td>\n",
       "      <td>1</td>\n",
       "      <td>0</td>\n",
       "      <td>367.0</td>\n",
       "      <td>141.0</td>\n",
       "      <td>82.5</td>\n",
       "      <td>25.62</td>\n",
       "      <td>92.0</td>\n",
       "      <td>90.0</td>\n",
       "      <td>0</td>\n",
       "    </tr>\n",
       "    <tr>\n",
       "      <th>2972</th>\n",
       "      <td>0</td>\n",
       "      <td>51</td>\n",
       "      <td>1.0</td>\n",
       "      <td>1</td>\n",
       "      <td>15.0</td>\n",
       "      <td>0.0</td>\n",
       "      <td>0</td>\n",
       "      <td>0</td>\n",
       "      <td>0</td>\n",
       "      <td>352.0</td>\n",
       "      <td>136.5</td>\n",
       "      <td>87.0</td>\n",
       "      <td>25.79</td>\n",
       "      <td>73.0</td>\n",
       "      <td>67.0</td>\n",
       "      <td>0</td>\n",
       "    </tr>\n",
       "    <tr>\n",
       "      <th>2985</th>\n",
       "      <td>0</td>\n",
       "      <td>57</td>\n",
       "      <td>1.0</td>\n",
       "      <td>0</td>\n",
       "      <td>0.0</td>\n",
       "      <td>1.0</td>\n",
       "      <td>0</td>\n",
       "      <td>1</td>\n",
       "      <td>0</td>\n",
       "      <td>432.0</td>\n",
       "      <td>153.0</td>\n",
       "      <td>85.0</td>\n",
       "      <td>26.13</td>\n",
       "      <td>98.0</td>\n",
       "      <td>75.0</td>\n",
       "      <td>1</td>\n",
       "    </tr>\n",
       "    <tr>\n",
       "      <th>3056</th>\n",
       "      <td>0</td>\n",
       "      <td>44</td>\n",
       "      <td>1.0</td>\n",
       "      <td>1</td>\n",
       "      <td>8.0</td>\n",
       "      <td>0.0</td>\n",
       "      <td>0</td>\n",
       "      <td>0</td>\n",
       "      <td>0</td>\n",
       "      <td>351.0</td>\n",
       "      <td>106.0</td>\n",
       "      <td>65.0</td>\n",
       "      <td>25.34</td>\n",
       "      <td>95.0</td>\n",
       "      <td>69.0</td>\n",
       "      <td>0</td>\n",
       "    </tr>\n",
       "    <tr>\n",
       "      <th>3165</th>\n",
       "      <td>1</td>\n",
       "      <td>44</td>\n",
       "      <td>3.0</td>\n",
       "      <td>1</td>\n",
       "      <td>30.0</td>\n",
       "      <td>0.0</td>\n",
       "      <td>0</td>\n",
       "      <td>0</td>\n",
       "      <td>0</td>\n",
       "      <td>363.0</td>\n",
       "      <td>140.0</td>\n",
       "      <td>87.0</td>\n",
       "      <td>26.44</td>\n",
       "      <td>95.0</td>\n",
       "      <td>79.0</td>\n",
       "      <td>0</td>\n",
       "    </tr>\n",
       "    <tr>\n",
       "      <th>3394</th>\n",
       "      <td>0</td>\n",
       "      <td>57</td>\n",
       "      <td>4.0</td>\n",
       "      <td>1</td>\n",
       "      <td>9.0</td>\n",
       "      <td>0.0</td>\n",
       "      <td>0</td>\n",
       "      <td>0</td>\n",
       "      <td>0</td>\n",
       "      <td>382.0</td>\n",
       "      <td>140.0</td>\n",
       "      <td>94.0</td>\n",
       "      <td>21.20</td>\n",
       "      <td>98.0</td>\n",
       "      <td>70.0</td>\n",
       "      <td>0</td>\n",
       "    </tr>\n",
       "    <tr>\n",
       "      <th>3418</th>\n",
       "      <td>0</td>\n",
       "      <td>63</td>\n",
       "      <td>1.0</td>\n",
       "      <td>0</td>\n",
       "      <td>0.0</td>\n",
       "      <td>0.0</td>\n",
       "      <td>0</td>\n",
       "      <td>1</td>\n",
       "      <td>0</td>\n",
       "      <td>361.0</td>\n",
       "      <td>167.0</td>\n",
       "      <td>100.0</td>\n",
       "      <td>27.31</td>\n",
       "      <td>85.0</td>\n",
       "      <td>103.0</td>\n",
       "      <td>1</td>\n",
       "    </tr>\n",
       "    <tr>\n",
       "      <th>3474</th>\n",
       "      <td>1</td>\n",
       "      <td>42</td>\n",
       "      <td>2.0</td>\n",
       "      <td>1</td>\n",
       "      <td>15.0</td>\n",
       "      <td>0.0</td>\n",
       "      <td>0</td>\n",
       "      <td>1</td>\n",
       "      <td>0</td>\n",
       "      <td>453.0</td>\n",
       "      <td>158.0</td>\n",
       "      <td>108.0</td>\n",
       "      <td>28.89</td>\n",
       "      <td>90.0</td>\n",
       "      <td>110.0</td>\n",
       "      <td>0</td>\n",
       "    </tr>\n",
       "    <tr>\n",
       "      <th>3532</th>\n",
       "      <td>1</td>\n",
       "      <td>44</td>\n",
       "      <td>3.0</td>\n",
       "      <td>1</td>\n",
       "      <td>3.0</td>\n",
       "      <td>0.0</td>\n",
       "      <td>0</td>\n",
       "      <td>1</td>\n",
       "      <td>0</td>\n",
       "      <td>352.0</td>\n",
       "      <td>164.0</td>\n",
       "      <td>119.0</td>\n",
       "      <td>28.92</td>\n",
       "      <td>73.0</td>\n",
       "      <td>72.0</td>\n",
       "      <td>1</td>\n",
       "    </tr>\n",
       "    <tr>\n",
       "      <th>3806</th>\n",
       "      <td>0</td>\n",
       "      <td>52</td>\n",
       "      <td>2.0</td>\n",
       "      <td>1</td>\n",
       "      <td>20.0</td>\n",
       "      <td>0.0</td>\n",
       "      <td>0</td>\n",
       "      <td>0</td>\n",
       "      <td>0</td>\n",
       "      <td>410.0</td>\n",
       "      <td>105.0</td>\n",
       "      <td>67.5</td>\n",
       "      <td>27.33</td>\n",
       "      <td>75.0</td>\n",
       "      <td>90.0</td>\n",
       "      <td>0</td>\n",
       "    </tr>\n",
       "    <tr>\n",
       "      <th>3810</th>\n",
       "      <td>0</td>\n",
       "      <td>49</td>\n",
       "      <td>1.0</td>\n",
       "      <td>1</td>\n",
       "      <td>5.0</td>\n",
       "      <td>0.0</td>\n",
       "      <td>0</td>\n",
       "      <td>0</td>\n",
       "      <td>0</td>\n",
       "      <td>350.0</td>\n",
       "      <td>135.0</td>\n",
       "      <td>86.5</td>\n",
       "      <td>25.56</td>\n",
       "      <td>75.0</td>\n",
       "      <td>83.0</td>\n",
       "      <td>1</td>\n",
       "    </tr>\n",
       "    <tr>\n",
       "      <th>3844</th>\n",
       "      <td>0</td>\n",
       "      <td>62</td>\n",
       "      <td>3.0</td>\n",
       "      <td>1</td>\n",
       "      <td>20.0</td>\n",
       "      <td>1.0</td>\n",
       "      <td>0</td>\n",
       "      <td>1</td>\n",
       "      <td>1</td>\n",
       "      <td>358.0</td>\n",
       "      <td>215.0</td>\n",
       "      <td>110.0</td>\n",
       "      <td>37.62</td>\n",
       "      <td>110.0</td>\n",
       "      <td>368.0</td>\n",
       "      <td>1</td>\n",
       "    </tr>\n",
       "    <tr>\n",
       "      <th>3916</th>\n",
       "      <td>1</td>\n",
       "      <td>62</td>\n",
       "      <td>1.0</td>\n",
       "      <td>1</td>\n",
       "      <td>30.0</td>\n",
       "      <td>0.0</td>\n",
       "      <td>0</td>\n",
       "      <td>0</td>\n",
       "      <td>0</td>\n",
       "      <td>373.0</td>\n",
       "      <td>138.5</td>\n",
       "      <td>85.0</td>\n",
       "      <td>23.35</td>\n",
       "      <td>80.0</td>\n",
       "      <td>67.0</td>\n",
       "      <td>0</td>\n",
       "    </tr>\n",
       "    <tr>\n",
       "      <th>4001</th>\n",
       "      <td>0</td>\n",
       "      <td>58</td>\n",
       "      <td>1.0</td>\n",
       "      <td>0</td>\n",
       "      <td>0.0</td>\n",
       "      <td>0.0</td>\n",
       "      <td>0</td>\n",
       "      <td>1</td>\n",
       "      <td>0</td>\n",
       "      <td>385.0</td>\n",
       "      <td>165.0</td>\n",
       "      <td>95.0</td>\n",
       "      <td>41.66</td>\n",
       "      <td>82.0</td>\n",
       "      <td>91.0</td>\n",
       "      <td>0</td>\n",
       "    </tr>\n",
       "  </tbody>\n",
       "</table>\n",
       "</div>"
      ],
      "text/plain": [
       "      male  age  education  currentSmoker  cigsPerDay  BPMeds  \\\n",
       "194      0   42        3.0              0         0.0     0.0   \n",
       "259      0   60        1.0              0         0.0     0.0   \n",
       "333      0   55        2.0              0         0.0     1.0   \n",
       "533      0   53        2.0              0         0.0     0.0   \n",
       "543      1   47        2.0              1        18.0     0.0   \n",
       "617      0   51        3.0              1         3.0     0.0   \n",
       "670      0   65        2.0              0         0.0     0.0   \n",
       "920      0   60        1.0              1        15.0     0.0   \n",
       "926      1   61        1.0              1        20.0     0.0   \n",
       "1103     0   60        4.0              1        20.0     0.0   \n",
       "1111     0   52        2.0              0         0.0     0.0   \n",
       "1150     0   46        1.0              1        10.0     0.0   \n",
       "1389     0   51        2.0              0         0.0     1.0   \n",
       "1447     0   60        1.0              0         0.0     0.0   \n",
       "1544     1   42        1.0              1        20.0     0.0   \n",
       "1691     0   64        1.0              0         0.0     0.0   \n",
       "1710     0   57        3.0              0         0.0     0.0   \n",
       "1937     0   59        1.0              0         0.0     0.0   \n",
       "2024     0   62        1.0              0         0.0     0.0   \n",
       "2206     1   46        1.0              1        15.0     0.0   \n",
       "2208     0   42        2.0              1        10.0     0.0   \n",
       "2275     0   49        2.0              1        30.0     1.0   \n",
       "2349     0   63        3.0              0         0.0     0.0   \n",
       "2363     1   42        2.0              1         5.0     0.0   \n",
       "2368     0   54        2.0              1         5.0     0.0   \n",
       "2488     0   67        2.0              1        15.0     0.0   \n",
       "2575     0   52        3.0              0         0.0     0.0   \n",
       "2602     0   60        2.0              0         0.0     0.0   \n",
       "2607     0   57        1.0              0         0.0     0.0   \n",
       "2671     0   59        2.0              0         0.0     0.0   \n",
       "2797     1   43        4.0              0         0.0     0.0   \n",
       "2972     0   51        1.0              1        15.0     0.0   \n",
       "2985     0   57        1.0              0         0.0     1.0   \n",
       "3056     0   44        1.0              1         8.0     0.0   \n",
       "3165     1   44        3.0              1        30.0     0.0   \n",
       "3394     0   57        4.0              1         9.0     0.0   \n",
       "3418     0   63        1.0              0         0.0     0.0   \n",
       "3474     1   42        2.0              1        15.0     0.0   \n",
       "3532     1   44        3.0              1         3.0     0.0   \n",
       "3806     0   52        2.0              1        20.0     0.0   \n",
       "3810     0   49        1.0              1         5.0     0.0   \n",
       "3844     0   62        3.0              1        20.0     1.0   \n",
       "3916     1   62        1.0              1        30.0     0.0   \n",
       "4001     0   58        1.0              0         0.0     0.0   \n",
       "\n",
       "      prevalentStroke  prevalentHyp  diabetes  totChol  sysBP  diaBP    BMI  \\\n",
       "194                 0             0         0    464.0  128.0   87.0  22.90   \n",
       "259                 0             1         0    352.0  197.5  105.0  36.29   \n",
       "333                 0             1         0    368.0  204.0   94.0  25.20   \n",
       "533                 0             0         0    370.0  123.0   83.0  24.64   \n",
       "543                 0             1         0    439.0  145.0   74.0  22.42   \n",
       "617                 0             1         0    398.0  161.0   96.0  23.63   \n",
       "670                 0             0         0    355.0  138.0   79.0  28.38   \n",
       "920                 0             0         0    353.0  116.0   82.0  22.66   \n",
       "926                 0             1         0    360.0  157.0   99.0  28.74   \n",
       "1103                0             1         0    352.0  149.0   73.0  25.96   \n",
       "1111                0             1         1    600.0  159.5   94.0  28.27   \n",
       "1150                0             0         0    392.0  113.0   68.0  23.35   \n",
       "1389                0             1         0    358.0  134.0   87.0  29.36   \n",
       "1447                0             0         0    391.0  114.0   64.0  24.57   \n",
       "1544                0             0         0    410.0  116.0   83.0  21.68   \n",
       "1691                0             1         0    372.0  169.0   85.0  26.01   \n",
       "1710                0             1         0    366.0  146.5   80.0  24.19   \n",
       "1937                0             1         0    410.0  142.0   79.0  25.58   \n",
       "2024                0             1         1    390.0  184.5   83.0  18.99   \n",
       "2206                0             1         0    405.0  181.5  102.5  26.33   \n",
       "2208                0             0         0    359.0  115.0   71.0  24.46   \n",
       "2275                0             1         0    350.0  174.0   90.0  18.44   \n",
       "2349                0             1         0    380.0  175.0   78.0  20.15   \n",
       "2363                0             0         0    355.0  113.0   81.0  26.17   \n",
       "2368                0             1         0    390.0  150.0   94.0  27.34   \n",
       "2488                0             1         0    371.0  166.0   85.0  25.35   \n",
       "2575                0             1         0    350.0  175.0   85.0  30.99   \n",
       "2602                0             0         0    354.0  130.0   82.5  26.76   \n",
       "2607                0             1         0    382.0  133.0   77.0  24.27   \n",
       "2671                0             0         0    364.0  142.0   84.0  26.24   \n",
       "2797                0             1         0    367.0  141.0   82.5  25.62   \n",
       "2972                0             0         0    352.0  136.5   87.0  25.79   \n",
       "2985                0             1         0    432.0  153.0   85.0  26.13   \n",
       "3056                0             0         0    351.0  106.0   65.0  25.34   \n",
       "3165                0             0         0    363.0  140.0   87.0  26.44   \n",
       "3394                0             0         0    382.0  140.0   94.0  21.20   \n",
       "3418                0             1         0    361.0  167.0  100.0  27.31   \n",
       "3474                0             1         0    453.0  158.0  108.0  28.89   \n",
       "3532                0             1         0    352.0  164.0  119.0  28.92   \n",
       "3806                0             0         0    410.0  105.0   67.5  27.33   \n",
       "3810                0             0         0    350.0  135.0   86.5  25.56   \n",
       "3844                0             1         1    358.0  215.0  110.0  37.62   \n",
       "3916                0             0         0    373.0  138.5   85.0  23.35   \n",
       "4001                0             1         0    385.0  165.0   95.0  41.66   \n",
       "\n",
       "      heartRate  glucose  TenYearCHD  \n",
       "194        72.0     72.0           1  \n",
       "259        75.0     95.0           1  \n",
       "333       100.0     81.0           0  \n",
       "533        63.0     74.0           1  \n",
       "543       100.0     90.0           1  \n",
       "617        77.0     83.0           0  \n",
       "670        75.0    108.0           0  \n",
       "920        85.0     71.0           0  \n",
       "926        95.0     73.0           0  \n",
       "1103       80.0     79.0           0  \n",
       "1111       78.0    140.0           1  \n",
       "1150       70.0     63.0           0  \n",
       "1389       75.0     87.0           1  \n",
       "1447       82.0     83.0           0  \n",
       "1544       90.0     83.0           0  \n",
       "1691       75.0     79.0           1  \n",
       "1710       85.0     73.0           0  \n",
       "1937       78.0     90.0           0  \n",
       "2024       87.0     47.0           0  \n",
       "2206       98.0     97.0           1  \n",
       "2208       75.0     68.0           0  \n",
       "2275      110.0     78.0           0  \n",
       "2349       68.0     95.0           1  \n",
       "2363       90.0     71.0           0  \n",
       "2368       75.0     71.0           0  \n",
       "2488      100.0     86.0           0  \n",
       "2575       92.0     63.0           0  \n",
       "2602       65.0     79.0           0  \n",
       "2607       75.0     81.0           0  \n",
       "2671       67.0     70.0           0  \n",
       "2797       92.0     90.0           0  \n",
       "2972       73.0     67.0           0  \n",
       "2985       98.0     75.0           1  \n",
       "3056       95.0     69.0           0  \n",
       "3165       95.0     79.0           0  \n",
       "3394       98.0     70.0           0  \n",
       "3418       85.0    103.0           1  \n",
       "3474       90.0    110.0           0  \n",
       "3532       73.0     72.0           1  \n",
       "3806       75.0     90.0           0  \n",
       "3810       75.0     83.0           1  \n",
       "3844      110.0    368.0           1  \n",
       "3916       80.0     67.0           0  \n",
       "4001       82.0     91.0           0  "
      ]
     },
     "execution_count": 75,
     "metadata": {},
     "output_type": "execute_result"
    }
   ],
   "source": [
    "ul_data=df.loc[df['totChol']>ul]\n",
    "ul_data"
   ]
  },
  {
   "cell_type": "code",
   "execution_count": 76,
   "id": "d365bba9",
   "metadata": {},
   "outputs": [
    {
     "data": {
      "text/html": [
       "<div>\n",
       "<style scoped>\n",
       "    .dataframe tbody tr th:only-of-type {\n",
       "        vertical-align: middle;\n",
       "    }\n",
       "\n",
       "    .dataframe tbody tr th {\n",
       "        vertical-align: top;\n",
       "    }\n",
       "\n",
       "    .dataframe thead th {\n",
       "        text-align: right;\n",
       "    }\n",
       "</style>\n",
       "<table border=\"1\" class=\"dataframe\">\n",
       "  <thead>\n",
       "    <tr style=\"text-align: right;\">\n",
       "      <th></th>\n",
       "      <th>male</th>\n",
       "      <th>age</th>\n",
       "      <th>education</th>\n",
       "      <th>currentSmoker</th>\n",
       "      <th>cigsPerDay</th>\n",
       "      <th>BPMeds</th>\n",
       "      <th>prevalentStroke</th>\n",
       "      <th>prevalentHyp</th>\n",
       "      <th>diabetes</th>\n",
       "      <th>totChol</th>\n",
       "      <th>sysBP</th>\n",
       "      <th>diaBP</th>\n",
       "      <th>BMI</th>\n",
       "      <th>heartRate</th>\n",
       "      <th>glucose</th>\n",
       "      <th>TenYearCHD</th>\n",
       "    </tr>\n",
       "  </thead>\n",
       "  <tbody>\n",
       "    <tr>\n",
       "      <th>2525</th>\n",
       "      <td>1</td>\n",
       "      <td>38</td>\n",
       "      <td>1.0</td>\n",
       "      <td>1</td>\n",
       "      <td>20.0</td>\n",
       "      <td>0.0</td>\n",
       "      <td>0</td>\n",
       "      <td>0</td>\n",
       "      <td>0</td>\n",
       "      <td>113.0</td>\n",
       "      <td>120.0</td>\n",
       "      <td>83.5</td>\n",
       "      <td>30.34</td>\n",
       "      <td>78.0</td>\n",
       "      <td>85.0</td>\n",
       "      <td>0</td>\n",
       "    </tr>\n",
       "    <tr>\n",
       "      <th>4066</th>\n",
       "      <td>1</td>\n",
       "      <td>47</td>\n",
       "      <td>2.0</td>\n",
       "      <td>1</td>\n",
       "      <td>20.0</td>\n",
       "      <td>0.0</td>\n",
       "      <td>0</td>\n",
       "      <td>0</td>\n",
       "      <td>0</td>\n",
       "      <td>119.0</td>\n",
       "      <td>117.0</td>\n",
       "      <td>78.5</td>\n",
       "      <td>26.40</td>\n",
       "      <td>75.0</td>\n",
       "      <td>78.0</td>\n",
       "      <td>0</td>\n",
       "    </tr>\n",
       "  </tbody>\n",
       "</table>\n",
       "</div>"
      ],
      "text/plain": [
       "      male  age  education  currentSmoker  cigsPerDay  BPMeds  \\\n",
       "2525     1   38        1.0              1        20.0     0.0   \n",
       "4066     1   47        2.0              1        20.0     0.0   \n",
       "\n",
       "      prevalentStroke  prevalentHyp  diabetes  totChol  sysBP  diaBP    BMI  \\\n",
       "2525                0             0         0    113.0  120.0   83.5  30.34   \n",
       "4066                0             0         0    119.0  117.0   78.5  26.40   \n",
       "\n",
       "      heartRate  glucose  TenYearCHD  \n",
       "2525       78.0     85.0           0  \n",
       "4066       75.0     78.0           0  "
      ]
     },
     "execution_count": 76,
     "metadata": {},
     "output_type": "execute_result"
    }
   ],
   "source": [
    "ll_data=df.loc[df['totChol']<ll]\n",
    "ll_data"
   ]
  },
  {
   "cell_type": "code",
   "execution_count": 77,
   "id": "9056af9f",
   "metadata": {},
   "outputs": [],
   "source": [
    "df['totChol'] = np.where(df['totChol']>ul, ul, df['totChol'])\n",
    "df['totChol'] = np.where(df['totChol']<ll, ll, df['totChol'])"
   ]
  },
  {
   "cell_type": "code",
   "execution_count": 78,
   "id": "792bdd71",
   "metadata": {},
   "outputs": [
    {
     "data": {
      "text/plain": [
       "<AxesSubplot:>"
      ]
     },
     "execution_count": 78,
     "metadata": {},
     "output_type": "execute_result"
    },
    {
     "data": {
      "image/png": "[encoded data removed]",
      "text/plain": [
       "<Figure size 432x288 with 1 Axes>"
      ]
     },
     "metadata": {
      "needs_background": "light"
     },
     "output_type": "display_data"
    }
   ],
   "source": [
    "#____boxplot\n",
    "props2 = dict(boxes = 'red', whiskers = 'green', medians = 'black', caps = 'red')\n",
    "df['totChol'].plot.box(color=props2, patch_artist = True, vert = False)"
   ]
  },
  {
   "cell_type": "markdown",
   "id": "74233bf0",
   "metadata": {},
   "source": [
    "## sysBP "
   ]
  },
  {
   "cell_type": "code",
   "execution_count": 203,
   "id": "455b5f7c",
   "metadata": {},
   "outputs": [
    {
     "data": {
      "text/plain": [
       "130.0    90\n",
       "120.0    87\n",
       "110.0    83\n",
       "125.0    79\n",
       "115.0    75\n",
       "         ..\n",
       "169.5     1\n",
       "98.5      1\n",
       "181.5     1\n",
       "243.0     1\n",
       "185.5     1\n",
       "Name: sysBP, Length: 231, dtype: int64"
      ]
     },
     "execution_count": 203,
     "metadata": {},
     "output_type": "execute_result"
    }
   ],
   "source": [
    "df[\"sysBP\"].value_counts()"
   ]
  },
  {
   "cell_type": "code",
   "execution_count": 79,
   "id": "a159685a",
   "metadata": {
    "scrolled": true
   },
   "outputs": [
    {
     "data": {
      "image/png": "[encoded data removed]",
      "text/plain": [
       "<Figure size 432x288 with 1 Axes>"
      ]
     },
     "metadata": {
      "needs_background": "light"
     },
     "output_type": "display_data"
    }
   ],
   "source": [
    "sns.distplot(df['sysBP'])\n",
    "plt.title(\"Histogram of : sysBP\")\n",
    "plt.xlabel(\"sysBP\")\n",
    "plt.ylabel(\"Density of sysBP\")\n",
    "plt.show()"
   ]
  },
  {
   "cell_type": "code",
   "execution_count": 80,
   "id": "056d3ce7",
   "metadata": {},
   "outputs": [
    {
     "data": {
      "text/plain": [
       "<AxesSubplot:>"
      ]
     },
     "execution_count": 80,
     "metadata": {},
     "output_type": "execute_result"
    },
    {
     "data": {
      "image/png": "[encoded data removed]",
      "text/plain": [
       "<Figure size 432x288 with 1 Axes>"
      ]
     },
     "metadata": {
      "needs_background": "light"
     },
     "output_type": "display_data"
    }
   ],
   "source": [
    "#____boxplot\n",
    "props2 = dict(boxes = 'red', whiskers = 'green', medians = 'black', caps = 'red')\n",
    "df['sysBP'].plot.box(color=props2, patch_artist = True, vert = False)"
   ]
  },
  {
   "cell_type": "code",
   "execution_count": 81,
   "id": "cffa4124",
   "metadata": {},
   "outputs": [],
   "source": [
    "# Outliers\n",
    "q1 = df['sysBP'].quantile(0.25)\n",
    "q3 = df['sysBP'].quantile(0.75)\n",
    "iqr = q3-q1\n",
    "\n",
    "ll = q1-(1.5*iqr)\n",
    "ul = q3+(1.5*iqr)"
   ]
  },
  {
   "cell_type": "code",
   "execution_count": 82,
   "id": "513eb103",
   "metadata": {},
   "outputs": [
    {
     "data": {
      "text/html": [
       "<div>\n",
       "<style scoped>\n",
       "    .dataframe tbody tr th:only-of-type {\n",
       "        vertical-align: middle;\n",
       "    }\n",
       "\n",
       "    .dataframe tbody tr th {\n",
       "        vertical-align: top;\n",
       "    }\n",
       "\n",
       "    .dataframe thead th {\n",
       "        text-align: right;\n",
       "    }\n",
       "</style>\n",
       "<table border=\"1\" class=\"dataframe\">\n",
       "  <thead>\n",
       "    <tr style=\"text-align: right;\">\n",
       "      <th></th>\n",
       "      <th>male</th>\n",
       "      <th>age</th>\n",
       "      <th>education</th>\n",
       "      <th>currentSmoker</th>\n",
       "      <th>cigsPerDay</th>\n",
       "      <th>BPMeds</th>\n",
       "      <th>prevalentStroke</th>\n",
       "      <th>prevalentHyp</th>\n",
       "      <th>diabetes</th>\n",
       "      <th>totChol</th>\n",
       "      <th>sysBP</th>\n",
       "      <th>diaBP</th>\n",
       "      <th>BMI</th>\n",
       "      <th>heartRate</th>\n",
       "      <th>glucose</th>\n",
       "      <th>TenYearCHD</th>\n",
       "    </tr>\n",
       "  </thead>\n",
       "  <tbody>\n",
       "    <tr>\n",
       "      <th>44</th>\n",
       "      <td>0</td>\n",
       "      <td>53</td>\n",
       "      <td>3.0</td>\n",
       "      <td>0</td>\n",
       "      <td>0.0</td>\n",
       "      <td>1.0</td>\n",
       "      <td>0</td>\n",
       "      <td>1</td>\n",
       "      <td>1</td>\n",
       "      <td>311.0</td>\n",
       "      <td>206.0</td>\n",
       "      <td>92.0</td>\n",
       "      <td>21.51</td>\n",
       "      <td>76.0</td>\n",
       "      <td>215.0</td>\n",
       "      <td>1</td>\n",
       "    </tr>\n",
       "    <tr>\n",
       "      <th>66</th>\n",
       "      <td>0</td>\n",
       "      <td>62</td>\n",
       "      <td>1.0</td>\n",
       "      <td>0</td>\n",
       "      <td>0.0</td>\n",
       "      <td>0.0</td>\n",
       "      <td>0</td>\n",
       "      <td>1</td>\n",
       "      <td>1</td>\n",
       "      <td>212.0</td>\n",
       "      <td>190.0</td>\n",
       "      <td>99.0</td>\n",
       "      <td>29.64</td>\n",
       "      <td>100.0</td>\n",
       "      <td>202.0</td>\n",
       "      <td>0</td>\n",
       "    </tr>\n",
       "    <tr>\n",
       "      <th>87</th>\n",
       "      <td>0</td>\n",
       "      <td>61</td>\n",
       "      <td>2.0</td>\n",
       "      <td>1</td>\n",
       "      <td>1.0</td>\n",
       "      <td>0.0</td>\n",
       "      <td>0</td>\n",
       "      <td>1</td>\n",
       "      <td>0</td>\n",
       "      <td>326.0</td>\n",
       "      <td>200.0</td>\n",
       "      <td>104.0</td>\n",
       "      <td>38.46</td>\n",
       "      <td>57.0</td>\n",
       "      <td>78.0</td>\n",
       "      <td>0</td>\n",
       "    </tr>\n",
       "    <tr>\n",
       "      <th>108</th>\n",
       "      <td>0</td>\n",
       "      <td>66</td>\n",
       "      <td>1.0</td>\n",
       "      <td>0</td>\n",
       "      <td>0.0</td>\n",
       "      <td>0.0</td>\n",
       "      <td>0</td>\n",
       "      <td>1</td>\n",
       "      <td>0</td>\n",
       "      <td>278.0</td>\n",
       "      <td>187.0</td>\n",
       "      <td>88.0</td>\n",
       "      <td>40.52</td>\n",
       "      <td>90.0</td>\n",
       "      <td>84.0</td>\n",
       "      <td>1</td>\n",
       "    </tr>\n",
       "    <tr>\n",
       "      <th>153</th>\n",
       "      <td>0</td>\n",
       "      <td>66</td>\n",
       "      <td>1.0</td>\n",
       "      <td>0</td>\n",
       "      <td>0.0</td>\n",
       "      <td>0.0</td>\n",
       "      <td>0</td>\n",
       "      <td>1</td>\n",
       "      <td>0</td>\n",
       "      <td>214.0</td>\n",
       "      <td>212.0</td>\n",
       "      <td>104.0</td>\n",
       "      <td>25.32</td>\n",
       "      <td>57.0</td>\n",
       "      <td>84.0</td>\n",
       "      <td>1</td>\n",
       "    </tr>\n",
       "    <tr>\n",
       "      <th>...</th>\n",
       "      <td>...</td>\n",
       "      <td>...</td>\n",
       "      <td>...</td>\n",
       "      <td>...</td>\n",
       "      <td>...</td>\n",
       "      <td>...</td>\n",
       "      <td>...</td>\n",
       "      <td>...</td>\n",
       "      <td>...</td>\n",
       "      <td>...</td>\n",
       "      <td>...</td>\n",
       "      <td>...</td>\n",
       "      <td>...</td>\n",
       "      <td>...</td>\n",
       "      <td>...</td>\n",
       "      <td>...</td>\n",
       "    </tr>\n",
       "    <tr>\n",
       "      <th>4123</th>\n",
       "      <td>1</td>\n",
       "      <td>51</td>\n",
       "      <td>3.0</td>\n",
       "      <td>0</td>\n",
       "      <td>0.0</td>\n",
       "      <td>0.0</td>\n",
       "      <td>0</td>\n",
       "      <td>1</td>\n",
       "      <td>0</td>\n",
       "      <td>268.0</td>\n",
       "      <td>206.0</td>\n",
       "      <td>116.0</td>\n",
       "      <td>26.35</td>\n",
       "      <td>98.0</td>\n",
       "      <td>70.0</td>\n",
       "      <td>1</td>\n",
       "    </tr>\n",
       "    <tr>\n",
       "      <th>4173</th>\n",
       "      <td>0</td>\n",
       "      <td>54</td>\n",
       "      <td>2.0</td>\n",
       "      <td>0</td>\n",
       "      <td>0.0</td>\n",
       "      <td>0.0</td>\n",
       "      <td>0</td>\n",
       "      <td>1</td>\n",
       "      <td>0</td>\n",
       "      <td>302.0</td>\n",
       "      <td>210.0</td>\n",
       "      <td>127.5</td>\n",
       "      <td>31.98</td>\n",
       "      <td>68.0</td>\n",
       "      <td>79.0</td>\n",
       "      <td>0</td>\n",
       "    </tr>\n",
       "    <tr>\n",
       "      <th>4193</th>\n",
       "      <td>0</td>\n",
       "      <td>63</td>\n",
       "      <td>1.0</td>\n",
       "      <td>0</td>\n",
       "      <td>0.0</td>\n",
       "      <td>0.0</td>\n",
       "      <td>0</td>\n",
       "      <td>1</td>\n",
       "      <td>0</td>\n",
       "      <td>306.0</td>\n",
       "      <td>195.0</td>\n",
       "      <td>105.0</td>\n",
       "      <td>27.96</td>\n",
       "      <td>75.0</td>\n",
       "      <td>87.0</td>\n",
       "      <td>1</td>\n",
       "    </tr>\n",
       "    <tr>\n",
       "      <th>4222</th>\n",
       "      <td>1</td>\n",
       "      <td>53</td>\n",
       "      <td>3.0</td>\n",
       "      <td>0</td>\n",
       "      <td>0.0</td>\n",
       "      <td>0.0</td>\n",
       "      <td>0</td>\n",
       "      <td>1</td>\n",
       "      <td>0</td>\n",
       "      <td>289.0</td>\n",
       "      <td>188.0</td>\n",
       "      <td>110.0</td>\n",
       "      <td>26.70</td>\n",
       "      <td>70.0</td>\n",
       "      <td>63.0</td>\n",
       "      <td>0</td>\n",
       "    </tr>\n",
       "    <tr>\n",
       "      <th>4228</th>\n",
       "      <td>0</td>\n",
       "      <td>50</td>\n",
       "      <td>1.0</td>\n",
       "      <td>0</td>\n",
       "      <td>0.0</td>\n",
       "      <td>0.0</td>\n",
       "      <td>0</td>\n",
       "      <td>1</td>\n",
       "      <td>1</td>\n",
       "      <td>260.0</td>\n",
       "      <td>190.0</td>\n",
       "      <td>130.0</td>\n",
       "      <td>43.67</td>\n",
       "      <td>85.0</td>\n",
       "      <td>260.0</td>\n",
       "      <td>0</td>\n",
       "    </tr>\n",
       "  </tbody>\n",
       "</table>\n",
       "<p>108 rows × 16 columns</p>\n",
       "</div>"
      ],
      "text/plain": [
       "      male  age  education  currentSmoker  cigsPerDay  BPMeds  \\\n",
       "44       0   53        3.0              0         0.0     1.0   \n",
       "66       0   62        1.0              0         0.0     0.0   \n",
       "87       0   61        2.0              1         1.0     0.0   \n",
       "108      0   66        1.0              0         0.0     0.0   \n",
       "153      0   66        1.0              0         0.0     0.0   \n",
       "...    ...  ...        ...            ...         ...     ...   \n",
       "4123     1   51        3.0              0         0.0     0.0   \n",
       "4173     0   54        2.0              0         0.0     0.0   \n",
       "4193     0   63        1.0              0         0.0     0.0   \n",
       "4222     1   53        3.0              0         0.0     0.0   \n",
       "4228     0   50        1.0              0         0.0     0.0   \n",
       "\n",
       "      prevalentStroke  prevalentHyp  diabetes  totChol  sysBP  diaBP    BMI  \\\n",
       "44                  0             1         1    311.0  206.0   92.0  21.51   \n",
       "66                  0             1         1    212.0  190.0   99.0  29.64   \n",
       "87                  0             1         0    326.0  200.0  104.0  38.46   \n",
       "108                 0             1         0    278.0  187.0   88.0  40.52   \n",
       "153                 0             1         0    214.0  212.0  104.0  25.32   \n",
       "...               ...           ...       ...      ...    ...    ...    ...   \n",
       "4123                0             1         0    268.0  206.0  116.0  26.35   \n",
       "4173                0             1         0    302.0  210.0  127.5  31.98   \n",
       "4193                0             1         0    306.0  195.0  105.0  27.96   \n",
       "4222                0             1         0    289.0  188.0  110.0  26.70   \n",
       "4228                0             1         1    260.0  190.0  130.0  43.67   \n",
       "\n",
       "      heartRate  glucose  TenYearCHD  \n",
       "44         76.0    215.0           1  \n",
       "66        100.0    202.0           0  \n",
       "87         57.0     78.0           0  \n",
       "108        90.0     84.0           1  \n",
       "153        57.0     84.0           1  \n",
       "...         ...      ...         ...  \n",
       "4123       98.0     70.0           1  \n",
       "4173       68.0     79.0           0  \n",
       "4193       75.0     87.0           1  \n",
       "4222       70.0     63.0           0  \n",
       "4228       85.0    260.0           0  \n",
       "\n",
       "[108 rows x 16 columns]"
      ]
     },
     "execution_count": 82,
     "metadata": {},
     "output_type": "execute_result"
    }
   ],
   "source": [
    "ul_data=df.loc[df['sysBP']>ul]\n",
    "ul_data"
   ]
  },
  {
   "cell_type": "code",
   "execution_count": 83,
   "id": "b6e2d0dc",
   "metadata": {},
   "outputs": [
    {
     "data": {
      "text/html": [
       "<div>\n",
       "<style scoped>\n",
       "    .dataframe tbody tr th:only-of-type {\n",
       "        vertical-align: middle;\n",
       "    }\n",
       "\n",
       "    .dataframe tbody tr th {\n",
       "        vertical-align: top;\n",
       "    }\n",
       "\n",
       "    .dataframe thead th {\n",
       "        text-align: right;\n",
       "    }\n",
       "</style>\n",
       "<table border=\"1\" class=\"dataframe\">\n",
       "  <thead>\n",
       "    <tr style=\"text-align: right;\">\n",
       "      <th></th>\n",
       "      <th>male</th>\n",
       "      <th>age</th>\n",
       "      <th>education</th>\n",
       "      <th>currentSmoker</th>\n",
       "      <th>cigsPerDay</th>\n",
       "      <th>BPMeds</th>\n",
       "      <th>prevalentStroke</th>\n",
       "      <th>prevalentHyp</th>\n",
       "      <th>diabetes</th>\n",
       "      <th>totChol</th>\n",
       "      <th>sysBP</th>\n",
       "      <th>diaBP</th>\n",
       "      <th>BMI</th>\n",
       "      <th>heartRate</th>\n",
       "      <th>glucose</th>\n",
       "      <th>TenYearCHD</th>\n",
       "    </tr>\n",
       "  </thead>\n",
       "  <tbody>\n",
       "  </tbody>\n",
       "</table>\n",
       "</div>"
      ],
      "text/plain": [
       "Empty DataFrame\n",
       "Columns: [male, age, education, currentSmoker, cigsPerDay, BPMeds, prevalentStroke, prevalentHyp, diabetes, totChol, sysBP, diaBP, BMI, heartRate, glucose, TenYearCHD]\n",
       "Index: []"
      ]
     },
     "execution_count": 83,
     "metadata": {},
     "output_type": "execute_result"
    }
   ],
   "source": [
    "ll_data=df.loc[df['sysBP']<ll]\n",
    "ll_data"
   ]
  },
  {
   "cell_type": "code",
   "execution_count": 84,
   "id": "8838e12d",
   "metadata": {},
   "outputs": [],
   "source": [
    "df['sysBP'] = np.where(df['sysBP']>ul, ul, df['sysBP'])\n",
    "df['sysBP'] = np.where(df['sysBP']<ll, ll, df['sysBP'])"
   ]
  },
  {
   "cell_type": "code",
   "execution_count": 85,
   "id": "48aa6b83",
   "metadata": {},
   "outputs": [
    {
     "data": {
      "text/plain": [
       "<AxesSubplot:>"
      ]
     },
     "execution_count": 85,
     "metadata": {},
     "output_type": "execute_result"
    },
    {
     "data": {
      "image/png": "[encoded data removed]",
      "text/plain": [
       "<Figure size 432x288 with 1 Axes>"
      ]
     },
     "metadata": {
      "needs_background": "light"
     },
     "output_type": "display_data"
    }
   ],
   "source": [
    "#____boxplot\n",
    "props2 = dict(boxes = 'red', whiskers = 'green', medians = 'black', caps = 'red')\n",
    "df['sysBP'].plot.box(color=props2, patch_artist = True, vert = False)"
   ]
  },
  {
   "cell_type": "markdown",
   "id": "00357dee",
   "metadata": {},
   "source": [
    "## diaBP "
   ]
  },
  {
   "cell_type": "code",
   "execution_count": 204,
   "id": "36761fe8",
   "metadata": {},
   "outputs": [
    {
     "data": {
      "text/plain": [
       "80.0     217\n",
       "82.0     138\n",
       "85.0     119\n",
       "70.0     114\n",
       "81.0     114\n",
       "        ... \n",
       "114.5      1\n",
       "140.0      1\n",
       "105.5      1\n",
       "116.5      1\n",
       "127.5      1\n",
       "Name: diaBP, Length: 142, dtype: int64"
      ]
     },
     "execution_count": 204,
     "metadata": {},
     "output_type": "execute_result"
    }
   ],
   "source": [
    "df[\"diaBP\"].value_counts()"
   ]
  },
  {
   "cell_type": "code",
   "execution_count": 86,
   "id": "e0622196",
   "metadata": {
    "scrolled": true
   },
   "outputs": [
    {
     "data": {
      "image/png": "[encoded data removed]",
      "text/plain": [
       "<Figure size 432x288 with 1 Axes>"
      ]
     },
     "metadata": {
      "needs_background": "light"
     },
     "output_type": "display_data"
    }
   ],
   "source": [
    "sns.distplot(df['diaBP'])\n",
    "plt.title(\"Histogram of : diaBP\")\n",
    "plt.xlabel(\"diaBP\")\n",
    "plt.ylabel(\"Density of diaBP\")\n",
    "plt.show()"
   ]
  },
  {
   "cell_type": "code",
   "execution_count": 87,
   "id": "a9db3454",
   "metadata": {},
   "outputs": [
    {
     "data": {
      "text/plain": [
       "<AxesSubplot:>"
      ]
     },
     "execution_count": 87,
     "metadata": {},
     "output_type": "execute_result"
    },
    {
     "data": {
      "image/png": "[encoded data removed]",
      "text/plain": [
       "<Figure size 432x288 with 1 Axes>"
      ]
     },
     "metadata": {
      "needs_background": "light"
     },
     "output_type": "display_data"
    }
   ],
   "source": [
    "#____boxplot\n",
    "props2 = dict(boxes = 'red', whiskers = 'green', medians = 'black', caps = 'red')\n",
    "df['diaBP'].plot.box(color=props2, patch_artist = True, vert = False)"
   ]
  },
  {
   "cell_type": "code",
   "execution_count": 88,
   "id": "26b26c0b",
   "metadata": {},
   "outputs": [],
   "source": [
    "# Outliers\n",
    "q1 = df['diaBP'].quantile(0.25)\n",
    "q3 = df['diaBP'].quantile(0.75)\n",
    "iqr = q3-q1\n",
    "\n",
    "ll = q1-(1.5*iqr)\n",
    "ul = q3+(1.5*iqr)"
   ]
  },
  {
   "cell_type": "code",
   "execution_count": 89,
   "id": "634da93f",
   "metadata": {},
   "outputs": [
    {
     "data": {
      "text/html": [
       "<div>\n",
       "<style scoped>\n",
       "    .dataframe tbody tr th:only-of-type {\n",
       "        vertical-align: middle;\n",
       "    }\n",
       "\n",
       "    .dataframe tbody tr th {\n",
       "        vertical-align: top;\n",
       "    }\n",
       "\n",
       "    .dataframe thead th {\n",
       "        text-align: right;\n",
       "    }\n",
       "</style>\n",
       "<table border=\"1\" class=\"dataframe\">\n",
       "  <thead>\n",
       "    <tr style=\"text-align: right;\">\n",
       "      <th></th>\n",
       "      <th>male</th>\n",
       "      <th>age</th>\n",
       "      <th>education</th>\n",
       "      <th>currentSmoker</th>\n",
       "      <th>cigsPerDay</th>\n",
       "      <th>BPMeds</th>\n",
       "      <th>prevalentStroke</th>\n",
       "      <th>prevalentHyp</th>\n",
       "      <th>diabetes</th>\n",
       "      <th>totChol</th>\n",
       "      <th>sysBP</th>\n",
       "      <th>diaBP</th>\n",
       "      <th>BMI</th>\n",
       "      <th>heartRate</th>\n",
       "      <th>glucose</th>\n",
       "      <th>TenYearCHD</th>\n",
       "    </tr>\n",
       "  </thead>\n",
       "  <tbody>\n",
       "    <tr>\n",
       "      <th>28</th>\n",
       "      <td>0</td>\n",
       "      <td>61</td>\n",
       "      <td>3.0</td>\n",
       "      <td>0</td>\n",
       "      <td>0.0</td>\n",
       "      <td>0.0</td>\n",
       "      <td>0</td>\n",
       "      <td>1</td>\n",
       "      <td>0</td>\n",
       "      <td>272.0</td>\n",
       "      <td>182.0</td>\n",
       "      <td>121.0</td>\n",
       "      <td>32.80</td>\n",
       "      <td>85.0</td>\n",
       "      <td>65.0</td>\n",
       "      <td>1</td>\n",
       "    </tr>\n",
       "    <tr>\n",
       "      <th>46</th>\n",
       "      <td>0</td>\n",
       "      <td>65</td>\n",
       "      <td>1.0</td>\n",
       "      <td>0</td>\n",
       "      <td>0.0</td>\n",
       "      <td>0.0</td>\n",
       "      <td>0</td>\n",
       "      <td>1</td>\n",
       "      <td>0</td>\n",
       "      <td>252.0</td>\n",
       "      <td>179.5</td>\n",
       "      <td>114.0</td>\n",
       "      <td>30.47</td>\n",
       "      <td>90.0</td>\n",
       "      <td>87.0</td>\n",
       "      <td>0</td>\n",
       "    </tr>\n",
       "    <tr>\n",
       "      <th>158</th>\n",
       "      <td>0</td>\n",
       "      <td>49</td>\n",
       "      <td>3.0</td>\n",
       "      <td>0</td>\n",
       "      <td>0.0</td>\n",
       "      <td>1.0</td>\n",
       "      <td>0</td>\n",
       "      <td>1</td>\n",
       "      <td>0</td>\n",
       "      <td>254.0</td>\n",
       "      <td>184.5</td>\n",
       "      <td>124.5</td>\n",
       "      <td>28.35</td>\n",
       "      <td>78.0</td>\n",
       "      <td>54.0</td>\n",
       "      <td>0</td>\n",
       "    </tr>\n",
       "    <tr>\n",
       "      <th>249</th>\n",
       "      <td>0</td>\n",
       "      <td>60</td>\n",
       "      <td>1.0</td>\n",
       "      <td>1</td>\n",
       "      <td>20.0</td>\n",
       "      <td>0.0</td>\n",
       "      <td>0</td>\n",
       "      <td>0</td>\n",
       "      <td>1</td>\n",
       "      <td>180.0</td>\n",
       "      <td>184.5</td>\n",
       "      <td>122.5</td>\n",
       "      <td>44.27</td>\n",
       "      <td>88.0</td>\n",
       "      <td>150.0</td>\n",
       "      <td>0</td>\n",
       "    </tr>\n",
       "    <tr>\n",
       "      <th>409</th>\n",
       "      <td>1</td>\n",
       "      <td>44</td>\n",
       "      <td>1.0</td>\n",
       "      <td>1</td>\n",
       "      <td>10.0</td>\n",
       "      <td>0.0</td>\n",
       "      <td>0</td>\n",
       "      <td>1</td>\n",
       "      <td>0</td>\n",
       "      <td>229.0</td>\n",
       "      <td>177.5</td>\n",
       "      <td>120.0</td>\n",
       "      <td>39.88</td>\n",
       "      <td>104.0</td>\n",
       "      <td>78.0</td>\n",
       "      <td>0</td>\n",
       "    </tr>\n",
       "    <tr>\n",
       "      <th>...</th>\n",
       "      <td>...</td>\n",
       "      <td>...</td>\n",
       "      <td>...</td>\n",
       "      <td>...</td>\n",
       "      <td>...</td>\n",
       "      <td>...</td>\n",
       "      <td>...</td>\n",
       "      <td>...</td>\n",
       "      <td>...</td>\n",
       "      <td>...</td>\n",
       "      <td>...</td>\n",
       "      <td>...</td>\n",
       "      <td>...</td>\n",
       "      <td>...</td>\n",
       "      <td>...</td>\n",
       "      <td>...</td>\n",
       "    </tr>\n",
       "    <tr>\n",
       "      <th>4075</th>\n",
       "      <td>1</td>\n",
       "      <td>63</td>\n",
       "      <td>4.0</td>\n",
       "      <td>1</td>\n",
       "      <td>25.0</td>\n",
       "      <td>0.0</td>\n",
       "      <td>0</td>\n",
       "      <td>1</td>\n",
       "      <td>0</td>\n",
       "      <td>203.0</td>\n",
       "      <td>184.5</td>\n",
       "      <td>125.0</td>\n",
       "      <td>26.18</td>\n",
       "      <td>80.0</td>\n",
       "      <td>83.0</td>\n",
       "      <td>1</td>\n",
       "    </tr>\n",
       "    <tr>\n",
       "      <th>4076</th>\n",
       "      <td>0</td>\n",
       "      <td>61</td>\n",
       "      <td>1.0</td>\n",
       "      <td>0</td>\n",
       "      <td>0.0</td>\n",
       "      <td>1.0</td>\n",
       "      <td>0</td>\n",
       "      <td>1</td>\n",
       "      <td>1</td>\n",
       "      <td>265.0</td>\n",
       "      <td>184.5</td>\n",
       "      <td>125.0</td>\n",
       "      <td>29.50</td>\n",
       "      <td>68.0</td>\n",
       "      <td>256.0</td>\n",
       "      <td>1</td>\n",
       "    </tr>\n",
       "    <tr>\n",
       "      <th>4123</th>\n",
       "      <td>1</td>\n",
       "      <td>51</td>\n",
       "      <td>3.0</td>\n",
       "      <td>0</td>\n",
       "      <td>0.0</td>\n",
       "      <td>0.0</td>\n",
       "      <td>0</td>\n",
       "      <td>1</td>\n",
       "      <td>0</td>\n",
       "      <td>268.0</td>\n",
       "      <td>184.5</td>\n",
       "      <td>116.0</td>\n",
       "      <td>26.35</td>\n",
       "      <td>98.0</td>\n",
       "      <td>70.0</td>\n",
       "      <td>1</td>\n",
       "    </tr>\n",
       "    <tr>\n",
       "      <th>4173</th>\n",
       "      <td>0</td>\n",
       "      <td>54</td>\n",
       "      <td>2.0</td>\n",
       "      <td>0</td>\n",
       "      <td>0.0</td>\n",
       "      <td>0.0</td>\n",
       "      <td>0</td>\n",
       "      <td>1</td>\n",
       "      <td>0</td>\n",
       "      <td>302.0</td>\n",
       "      <td>184.5</td>\n",
       "      <td>127.5</td>\n",
       "      <td>31.98</td>\n",
       "      <td>68.0</td>\n",
       "      <td>79.0</td>\n",
       "      <td>0</td>\n",
       "    </tr>\n",
       "    <tr>\n",
       "      <th>4228</th>\n",
       "      <td>0</td>\n",
       "      <td>50</td>\n",
       "      <td>1.0</td>\n",
       "      <td>0</td>\n",
       "      <td>0.0</td>\n",
       "      <td>0.0</td>\n",
       "      <td>0</td>\n",
       "      <td>1</td>\n",
       "      <td>1</td>\n",
       "      <td>260.0</td>\n",
       "      <td>184.5</td>\n",
       "      <td>130.0</td>\n",
       "      <td>43.67</td>\n",
       "      <td>85.0</td>\n",
       "      <td>260.0</td>\n",
       "      <td>0</td>\n",
       "    </tr>\n",
       "  </tbody>\n",
       "</table>\n",
       "<p>65 rows × 16 columns</p>\n",
       "</div>"
      ],
      "text/plain": [
       "      male  age  education  currentSmoker  cigsPerDay  BPMeds  \\\n",
       "28       0   61        3.0              0         0.0     0.0   \n",
       "46       0   65        1.0              0         0.0     0.0   \n",
       "158      0   49        3.0              0         0.0     1.0   \n",
       "249      0   60        1.0              1        20.0     0.0   \n",
       "409      1   44        1.0              1        10.0     0.0   \n",
       "...    ...  ...        ...            ...         ...     ...   \n",
       "4075     1   63        4.0              1        25.0     0.0   \n",
       "4076     0   61        1.0              0         0.0     1.0   \n",
       "4123     1   51        3.0              0         0.0     0.0   \n",
       "4173     0   54        2.0              0         0.0     0.0   \n",
       "4228     0   50        1.0              0         0.0     0.0   \n",
       "\n",
       "      prevalentStroke  prevalentHyp  diabetes  totChol  sysBP  diaBP    BMI  \\\n",
       "28                  0             1         0    272.0  182.0  121.0  32.80   \n",
       "46                  0             1         0    252.0  179.5  114.0  30.47   \n",
       "158                 0             1         0    254.0  184.5  124.5  28.35   \n",
       "249                 0             0         1    180.0  184.5  122.5  44.27   \n",
       "409                 0             1         0    229.0  177.5  120.0  39.88   \n",
       "...               ...           ...       ...      ...    ...    ...    ...   \n",
       "4075                0             1         0    203.0  184.5  125.0  26.18   \n",
       "4076                0             1         1    265.0  184.5  125.0  29.50   \n",
       "4123                0             1         0    268.0  184.5  116.0  26.35   \n",
       "4173                0             1         0    302.0  184.5  127.5  31.98   \n",
       "4228                0             1         1    260.0  184.5  130.0  43.67   \n",
       "\n",
       "      heartRate  glucose  TenYearCHD  \n",
       "28         85.0     65.0           1  \n",
       "46         90.0     87.0           0  \n",
       "158        78.0     54.0           0  \n",
       "249        88.0    150.0           0  \n",
       "409       104.0     78.0           0  \n",
       "...         ...      ...         ...  \n",
       "4075       80.0     83.0           1  \n",
       "4076       68.0    256.0           1  \n",
       "4123       98.0     70.0           1  \n",
       "4173       68.0     79.0           0  \n",
       "4228       85.0    260.0           0  \n",
       "\n",
       "[65 rows x 16 columns]"
      ]
     },
     "execution_count": 89,
     "metadata": {},
     "output_type": "execute_result"
    }
   ],
   "source": [
    "ul_data=df.loc[df['diaBP']>ul]\n",
    "ul_data"
   ]
  },
  {
   "cell_type": "code",
   "execution_count": 90,
   "id": "ae3a895b",
   "metadata": {},
   "outputs": [
    {
     "data": {
      "text/html": [
       "<div>\n",
       "<style scoped>\n",
       "    .dataframe tbody tr th:only-of-type {\n",
       "        vertical-align: middle;\n",
       "    }\n",
       "\n",
       "    .dataframe tbody tr th {\n",
       "        vertical-align: top;\n",
       "    }\n",
       "\n",
       "    .dataframe thead th {\n",
       "        text-align: right;\n",
       "    }\n",
       "</style>\n",
       "<table border=\"1\" class=\"dataframe\">\n",
       "  <thead>\n",
       "    <tr style=\"text-align: right;\">\n",
       "      <th></th>\n",
       "      <th>male</th>\n",
       "      <th>age</th>\n",
       "      <th>education</th>\n",
       "      <th>currentSmoker</th>\n",
       "      <th>cigsPerDay</th>\n",
       "      <th>BPMeds</th>\n",
       "      <th>prevalentStroke</th>\n",
       "      <th>prevalentHyp</th>\n",
       "      <th>diabetes</th>\n",
       "      <th>totChol</th>\n",
       "      <th>sysBP</th>\n",
       "      <th>diaBP</th>\n",
       "      <th>BMI</th>\n",
       "      <th>heartRate</th>\n",
       "      <th>glucose</th>\n",
       "      <th>TenYearCHD</th>\n",
       "    </tr>\n",
       "  </thead>\n",
       "  <tbody>\n",
       "    <tr>\n",
       "      <th>1997</th>\n",
       "      <td>0</td>\n",
       "      <td>58</td>\n",
       "      <td>1.0</td>\n",
       "      <td>0</td>\n",
       "      <td>0.0</td>\n",
       "      <td>0.0</td>\n",
       "      <td>0</td>\n",
       "      <td>0</td>\n",
       "      <td>1</td>\n",
       "      <td>260.0</td>\n",
       "      <td>85.5</td>\n",
       "      <td>51.0</td>\n",
       "      <td>20.76</td>\n",
       "      <td>87.0</td>\n",
       "      <td>206.0</td>\n",
       "      <td>1</td>\n",
       "    </tr>\n",
       "    <tr>\n",
       "      <th>3328</th>\n",
       "      <td>1</td>\n",
       "      <td>48</td>\n",
       "      <td>3.0</td>\n",
       "      <td>0</td>\n",
       "      <td>0.0</td>\n",
       "      <td>0.0</td>\n",
       "      <td>0</td>\n",
       "      <td>0</td>\n",
       "      <td>0</td>\n",
       "      <td>175.0</td>\n",
       "      <td>131.0</td>\n",
       "      <td>52.0</td>\n",
       "      <td>24.95</td>\n",
       "      <td>75.0</td>\n",
       "      <td>77.0</td>\n",
       "      <td>0</td>\n",
       "    </tr>\n",
       "    <tr>\n",
       "      <th>3641</th>\n",
       "      <td>0</td>\n",
       "      <td>58</td>\n",
       "      <td>1.0</td>\n",
       "      <td>0</td>\n",
       "      <td>0.0</td>\n",
       "      <td>0.0</td>\n",
       "      <td>0</td>\n",
       "      <td>0</td>\n",
       "      <td>0</td>\n",
       "      <td>240.0</td>\n",
       "      <td>126.0</td>\n",
       "      <td>52.0</td>\n",
       "      <td>25.66</td>\n",
       "      <td>75.0</td>\n",
       "      <td>63.0</td>\n",
       "      <td>0</td>\n",
       "    </tr>\n",
       "    <tr>\n",
       "      <th>3645</th>\n",
       "      <td>1</td>\n",
       "      <td>68</td>\n",
       "      <td>1.0</td>\n",
       "      <td>1</td>\n",
       "      <td>15.0</td>\n",
       "      <td>0.0</td>\n",
       "      <td>0</td>\n",
       "      <td>0</td>\n",
       "      <td>0</td>\n",
       "      <td>157.0</td>\n",
       "      <td>106.0</td>\n",
       "      <td>48.0</td>\n",
       "      <td>26.73</td>\n",
       "      <td>65.0</td>\n",
       "      <td>65.0</td>\n",
       "      <td>1</td>\n",
       "    </tr>\n",
       "  </tbody>\n",
       "</table>\n",
       "</div>"
      ],
      "text/plain": [
       "      male  age  education  currentSmoker  cigsPerDay  BPMeds  \\\n",
       "1997     0   58        1.0              0         0.0     0.0   \n",
       "3328     1   48        3.0              0         0.0     0.0   \n",
       "3641     0   58        1.0              0         0.0     0.0   \n",
       "3645     1   68        1.0              1        15.0     0.0   \n",
       "\n",
       "      prevalentStroke  prevalentHyp  diabetes  totChol  sysBP  diaBP    BMI  \\\n",
       "1997                0             0         1    260.0   85.5   51.0  20.76   \n",
       "3328                0             0         0    175.0  131.0   52.0  24.95   \n",
       "3641                0             0         0    240.0  126.0   52.0  25.66   \n",
       "3645                0             0         0    157.0  106.0   48.0  26.73   \n",
       "\n",
       "      heartRate  glucose  TenYearCHD  \n",
       "1997       87.0    206.0           1  \n",
       "3328       75.0     77.0           0  \n",
       "3641       75.0     63.0           0  \n",
       "3645       65.0     65.0           1  "
      ]
     },
     "execution_count": 90,
     "metadata": {},
     "output_type": "execute_result"
    }
   ],
   "source": [
    "ll_data=df.loc[df['diaBP']<ll]\n",
    "ll_data"
   ]
  },
  {
   "cell_type": "code",
   "execution_count": 91,
   "id": "d55353bd",
   "metadata": {},
   "outputs": [],
   "source": [
    "df['diaBP'] = np.where(df['diaBP']>ul, ul, df['diaBP'])\n",
    "df['diaBP'] = np.where(df['diaBP']<ll, ll, df['diaBP'])"
   ]
  },
  {
   "cell_type": "code",
   "execution_count": 92,
   "id": "8a3dd5e8",
   "metadata": {},
   "outputs": [
    {
     "data": {
      "text/plain": [
       "<AxesSubplot:>"
      ]
     },
     "execution_count": 92,
     "metadata": {},
     "output_type": "execute_result"
    },
    {
     "data": {
      "image/png": "[encoded data removed]",
      "text/plain": [
       "<Figure size 432x288 with 1 Axes>"
      ]
     },
     "metadata": {
      "needs_background": "light"
     },
     "output_type": "display_data"
    }
   ],
   "source": [
    "#____boxplot\n",
    "props2 = dict(boxes = 'red', whiskers = 'green', medians = 'black', caps = 'red')\n",
    "df['diaBP'].plot.box(color=props2, patch_artist = True, vert = False)"
   ]
  },
  {
   "cell_type": "markdown",
   "id": "95c278f7",
   "metadata": {},
   "source": [
    "## BMI "
   ]
  },
  {
   "cell_type": "code",
   "execution_count": 205,
   "id": "ca0d15cf",
   "metadata": {},
   "outputs": [
    {
     "data": {
      "text/plain": [
       "23.48    18\n",
       "22.54    16\n",
       "22.91    15\n",
       "25.09    14\n",
       "22.19    14\n",
       "         ..\n",
       "22.28     1\n",
       "29.05     1\n",
       "33.38     1\n",
       "32.81     1\n",
       "19.71     1\n",
       "Name: BMI, Length: 1297, dtype: int64"
      ]
     },
     "execution_count": 205,
     "metadata": {},
     "output_type": "execute_result"
    }
   ],
   "source": [
    "df[\"BMI\"].value_counts()"
   ]
  },
  {
   "cell_type": "code",
   "execution_count": 93,
   "id": "d08eadec",
   "metadata": {
    "scrolled": true
   },
   "outputs": [
    {
     "data": {
      "image/png": "[encoded data removed]",
      "text/plain": [
       "<Figure size 432x288 with 1 Axes>"
      ]
     },
     "metadata": {
      "needs_background": "light"
     },
     "output_type": "display_data"
    }
   ],
   "source": [
    "sns.distplot(df['BMI'])\n",
    "plt.title(\"Histogram of : BMI\")\n",
    "plt.xlabel(\"BMI\")\n",
    "plt.ylabel(\"Density of BMI\")\n",
    "plt.show()"
   ]
  },
  {
   "cell_type": "code",
   "execution_count": 94,
   "id": "0f8f64ee",
   "metadata": {},
   "outputs": [
    {
     "data": {
      "text/plain": [
       "<AxesSubplot:>"
      ]
     },
     "execution_count": 94,
     "metadata": {},
     "output_type": "execute_result"
    },
    {
     "data": {
      "image/png": "[encoded data removed]",
      "text/plain": [
       "<Figure size 432x288 with 1 Axes>"
      ]
     },
     "metadata": {
      "needs_background": "light"
     },
     "output_type": "display_data"
    }
   ],
   "source": [
    "#____boxplot\n",
    "props2 = dict(boxes = 'red', whiskers = 'green', medians = 'black', caps = 'red')\n",
    "df['BMI'].plot.box(color=props2, patch_artist = True, vert = False)"
   ]
  },
  {
   "cell_type": "code",
   "execution_count": 95,
   "id": "e4569c35",
   "metadata": {},
   "outputs": [],
   "source": [
    "# Outliers\n",
    "q1 = df['BMI'].quantile(0.25)\n",
    "q3 = df['BMI'].quantile(0.75)\n",
    "iqr = q3-q1\n",
    "\n",
    "ll = q1-(1.5*iqr)\n",
    "ul = q3+(1.5*iqr)"
   ]
  },
  {
   "cell_type": "code",
   "execution_count": 96,
   "id": "f0a218bc",
   "metadata": {},
   "outputs": [
    {
     "data": {
      "text/html": [
       "<div>\n",
       "<style scoped>\n",
       "    .dataframe tbody tr th:only-of-type {\n",
       "        vertical-align: middle;\n",
       "    }\n",
       "\n",
       "    .dataframe tbody tr th {\n",
       "        vertical-align: top;\n",
       "    }\n",
       "\n",
       "    .dataframe thead th {\n",
       "        text-align: right;\n",
       "    }\n",
       "</style>\n",
       "<table border=\"1\" class=\"dataframe\">\n",
       "  <thead>\n",
       "    <tr style=\"text-align: right;\">\n",
       "      <th></th>\n",
       "      <th>male</th>\n",
       "      <th>age</th>\n",
       "      <th>education</th>\n",
       "      <th>currentSmoker</th>\n",
       "      <th>cigsPerDay</th>\n",
       "      <th>BPMeds</th>\n",
       "      <th>prevalentStroke</th>\n",
       "      <th>prevalentHyp</th>\n",
       "      <th>diabetes</th>\n",
       "      <th>totChol</th>\n",
       "      <th>sysBP</th>\n",
       "      <th>diaBP</th>\n",
       "      <th>BMI</th>\n",
       "      <th>heartRate</th>\n",
       "      <th>glucose</th>\n",
       "      <th>TenYearCHD</th>\n",
       "    </tr>\n",
       "  </thead>\n",
       "  <tbody>\n",
       "    <tr>\n",
       "      <th>35</th>\n",
       "      <td>1</td>\n",
       "      <td>37</td>\n",
       "      <td>2.0</td>\n",
       "      <td>0</td>\n",
       "      <td>0.0</td>\n",
       "      <td>0.0</td>\n",
       "      <td>0</td>\n",
       "      <td>1</td>\n",
       "      <td>0</td>\n",
       "      <td>225.000</td>\n",
       "      <td>124.5</td>\n",
       "      <td>92.5</td>\n",
       "      <td>38.53</td>\n",
       "      <td>95.0</td>\n",
       "      <td>83.0</td>\n",
       "      <td>0</td>\n",
       "    </tr>\n",
       "    <tr>\n",
       "      <th>37</th>\n",
       "      <td>1</td>\n",
       "      <td>52</td>\n",
       "      <td>1.0</td>\n",
       "      <td>0</td>\n",
       "      <td>0.0</td>\n",
       "      <td>0.0</td>\n",
       "      <td>0</td>\n",
       "      <td>1</td>\n",
       "      <td>1</td>\n",
       "      <td>178.000</td>\n",
       "      <td>160.0</td>\n",
       "      <td>98.0</td>\n",
       "      <td>40.11</td>\n",
       "      <td>75.0</td>\n",
       "      <td>225.0</td>\n",
       "      <td>0</td>\n",
       "    </tr>\n",
       "    <tr>\n",
       "      <th>78</th>\n",
       "      <td>0</td>\n",
       "      <td>45</td>\n",
       "      <td>1.0</td>\n",
       "      <td>0</td>\n",
       "      <td>0.0</td>\n",
       "      <td>0.0</td>\n",
       "      <td>0</td>\n",
       "      <td>1</td>\n",
       "      <td>0</td>\n",
       "      <td>183.000</td>\n",
       "      <td>151.0</td>\n",
       "      <td>101.0</td>\n",
       "      <td>45.80</td>\n",
       "      <td>80.0</td>\n",
       "      <td>63.0</td>\n",
       "      <td>0</td>\n",
       "    </tr>\n",
       "    <tr>\n",
       "      <th>87</th>\n",
       "      <td>0</td>\n",
       "      <td>61</td>\n",
       "      <td>2.0</td>\n",
       "      <td>1</td>\n",
       "      <td>1.0</td>\n",
       "      <td>0.0</td>\n",
       "      <td>0</td>\n",
       "      <td>1</td>\n",
       "      <td>0</td>\n",
       "      <td>326.000</td>\n",
       "      <td>184.5</td>\n",
       "      <td>104.0</td>\n",
       "      <td>38.46</td>\n",
       "      <td>57.0</td>\n",
       "      <td>78.0</td>\n",
       "      <td>0</td>\n",
       "    </tr>\n",
       "    <tr>\n",
       "      <th>108</th>\n",
       "      <td>0</td>\n",
       "      <td>66</td>\n",
       "      <td>1.0</td>\n",
       "      <td>0</td>\n",
       "      <td>0.0</td>\n",
       "      <td>0.0</td>\n",
       "      <td>0</td>\n",
       "      <td>1</td>\n",
       "      <td>0</td>\n",
       "      <td>278.000</td>\n",
       "      <td>184.5</td>\n",
       "      <td>88.0</td>\n",
       "      <td>40.52</td>\n",
       "      <td>90.0</td>\n",
       "      <td>84.0</td>\n",
       "      <td>1</td>\n",
       "    </tr>\n",
       "    <tr>\n",
       "      <th>...</th>\n",
       "      <td>...</td>\n",
       "      <td>...</td>\n",
       "      <td>...</td>\n",
       "      <td>...</td>\n",
       "      <td>...</td>\n",
       "      <td>...</td>\n",
       "      <td>...</td>\n",
       "      <td>...</td>\n",
       "      <td>...</td>\n",
       "      <td>...</td>\n",
       "      <td>...</td>\n",
       "      <td>...</td>\n",
       "      <td>...</td>\n",
       "      <td>...</td>\n",
       "      <td>...</td>\n",
       "      <td>...</td>\n",
       "    </tr>\n",
       "    <tr>\n",
       "      <th>4001</th>\n",
       "      <td>0</td>\n",
       "      <td>58</td>\n",
       "      <td>1.0</td>\n",
       "      <td>0</td>\n",
       "      <td>0.0</td>\n",
       "      <td>0.0</td>\n",
       "      <td>0</td>\n",
       "      <td>1</td>\n",
       "      <td>0</td>\n",
       "      <td>349.125</td>\n",
       "      <td>165.0</td>\n",
       "      <td>95.0</td>\n",
       "      <td>41.66</td>\n",
       "      <td>82.0</td>\n",
       "      <td>91.0</td>\n",
       "      <td>0</td>\n",
       "    </tr>\n",
       "    <tr>\n",
       "      <th>4132</th>\n",
       "      <td>0</td>\n",
       "      <td>57</td>\n",
       "      <td>1.0</td>\n",
       "      <td>0</td>\n",
       "      <td>0.0</td>\n",
       "      <td>0.0</td>\n",
       "      <td>0</td>\n",
       "      <td>1</td>\n",
       "      <td>0</td>\n",
       "      <td>259.000</td>\n",
       "      <td>170.0</td>\n",
       "      <td>101.0</td>\n",
       "      <td>38.17</td>\n",
       "      <td>85.0</td>\n",
       "      <td>75.0</td>\n",
       "      <td>0</td>\n",
       "    </tr>\n",
       "    <tr>\n",
       "      <th>4190</th>\n",
       "      <td>0</td>\n",
       "      <td>41</td>\n",
       "      <td>1.0</td>\n",
       "      <td>0</td>\n",
       "      <td>0.0</td>\n",
       "      <td>0.0</td>\n",
       "      <td>0</td>\n",
       "      <td>1</td>\n",
       "      <td>0</td>\n",
       "      <td>229.000</td>\n",
       "      <td>150.0</td>\n",
       "      <td>89.0</td>\n",
       "      <td>36.07</td>\n",
       "      <td>75.0</td>\n",
       "      <td>92.0</td>\n",
       "      <td>0</td>\n",
       "    </tr>\n",
       "    <tr>\n",
       "      <th>4215</th>\n",
       "      <td>0</td>\n",
       "      <td>63</td>\n",
       "      <td>1.0</td>\n",
       "      <td>0</td>\n",
       "      <td>0.0</td>\n",
       "      <td>0.0</td>\n",
       "      <td>0</td>\n",
       "      <td>1</td>\n",
       "      <td>1</td>\n",
       "      <td>236.000</td>\n",
       "      <td>155.0</td>\n",
       "      <td>82.0</td>\n",
       "      <td>39.17</td>\n",
       "      <td>78.0</td>\n",
       "      <td>79.0</td>\n",
       "      <td>0</td>\n",
       "    </tr>\n",
       "    <tr>\n",
       "      <th>4228</th>\n",
       "      <td>0</td>\n",
       "      <td>50</td>\n",
       "      <td>1.0</td>\n",
       "      <td>0</td>\n",
       "      <td>0.0</td>\n",
       "      <td>0.0</td>\n",
       "      <td>0</td>\n",
       "      <td>1</td>\n",
       "      <td>1</td>\n",
       "      <td>260.000</td>\n",
       "      <td>184.5</td>\n",
       "      <td>112.5</td>\n",
       "      <td>43.67</td>\n",
       "      <td>85.0</td>\n",
       "      <td>260.0</td>\n",
       "      <td>0</td>\n",
       "    </tr>\n",
       "  </tbody>\n",
       "</table>\n",
       "<p>84 rows × 16 columns</p>\n",
       "</div>"
      ],
      "text/plain": [
       "      male  age  education  currentSmoker  cigsPerDay  BPMeds  \\\n",
       "35       1   37        2.0              0         0.0     0.0   \n",
       "37       1   52        1.0              0         0.0     0.0   \n",
       "78       0   45        1.0              0         0.0     0.0   \n",
       "87       0   61        2.0              1         1.0     0.0   \n",
       "108      0   66        1.0              0         0.0     0.0   \n",
       "...    ...  ...        ...            ...         ...     ...   \n",
       "4001     0   58        1.0              0         0.0     0.0   \n",
       "4132     0   57        1.0              0         0.0     0.0   \n",
       "4190     0   41        1.0              0         0.0     0.0   \n",
       "4215     0   63        1.0              0         0.0     0.0   \n",
       "4228     0   50        1.0              0         0.0     0.0   \n",
       "\n",
       "      prevalentStroke  prevalentHyp  diabetes  totChol  sysBP  diaBP    BMI  \\\n",
       "35                  0             1         0  225.000  124.5   92.5  38.53   \n",
       "37                  0             1         1  178.000  160.0   98.0  40.11   \n",
       "78                  0             1         0  183.000  151.0  101.0  45.80   \n",
       "87                  0             1         0  326.000  184.5  104.0  38.46   \n",
       "108                 0             1         0  278.000  184.5   88.0  40.52   \n",
       "...               ...           ...       ...      ...    ...    ...    ...   \n",
       "4001                0             1         0  349.125  165.0   95.0  41.66   \n",
       "4132                0             1         0  259.000  170.0  101.0  38.17   \n",
       "4190                0             1         0  229.000  150.0   89.0  36.07   \n",
       "4215                0             1         1  236.000  155.0   82.0  39.17   \n",
       "4228                0             1         1  260.000  184.5  112.5  43.67   \n",
       "\n",
       "      heartRate  glucose  TenYearCHD  \n",
       "35         95.0     83.0           0  \n",
       "37         75.0    225.0           0  \n",
       "78         80.0     63.0           0  \n",
       "87         57.0     78.0           0  \n",
       "108        90.0     84.0           1  \n",
       "...         ...      ...         ...  \n",
       "4001       82.0     91.0           0  \n",
       "4132       85.0     75.0           0  \n",
       "4190       75.0     92.0           0  \n",
       "4215       78.0     79.0           0  \n",
       "4228       85.0    260.0           0  \n",
       "\n",
       "[84 rows x 16 columns]"
      ]
     },
     "execution_count": 96,
     "metadata": {},
     "output_type": "execute_result"
    }
   ],
   "source": [
    "ul_data=df.loc[df['BMI']>ul]\n",
    "ul_data"
   ]
  },
  {
   "cell_type": "code",
   "execution_count": 97,
   "id": "e9b17334",
   "metadata": {},
   "outputs": [
    {
     "data": {
      "text/html": [
       "<div>\n",
       "<style scoped>\n",
       "    .dataframe tbody tr th:only-of-type {\n",
       "        vertical-align: middle;\n",
       "    }\n",
       "\n",
       "    .dataframe tbody tr th {\n",
       "        vertical-align: top;\n",
       "    }\n",
       "\n",
       "    .dataframe thead th {\n",
       "        text-align: right;\n",
       "    }\n",
       "</style>\n",
       "<table border=\"1\" class=\"dataframe\">\n",
       "  <thead>\n",
       "    <tr style=\"text-align: right;\">\n",
       "      <th></th>\n",
       "      <th>male</th>\n",
       "      <th>age</th>\n",
       "      <th>education</th>\n",
       "      <th>currentSmoker</th>\n",
       "      <th>cigsPerDay</th>\n",
       "      <th>BPMeds</th>\n",
       "      <th>prevalentStroke</th>\n",
       "      <th>prevalentHyp</th>\n",
       "      <th>diabetes</th>\n",
       "      <th>totChol</th>\n",
       "      <th>sysBP</th>\n",
       "      <th>diaBP</th>\n",
       "      <th>BMI</th>\n",
       "      <th>heartRate</th>\n",
       "      <th>glucose</th>\n",
       "      <th>TenYearCHD</th>\n",
       "    </tr>\n",
       "  </thead>\n",
       "  <tbody>\n",
       "    <tr>\n",
       "      <th>377</th>\n",
       "      <td>1</td>\n",
       "      <td>67</td>\n",
       "      <td>1.0</td>\n",
       "      <td>0</td>\n",
       "      <td>0.0</td>\n",
       "      <td>0.0</td>\n",
       "      <td>0</td>\n",
       "      <td>0</td>\n",
       "      <td>0</td>\n",
       "      <td>203.0</td>\n",
       "      <td>122.0</td>\n",
       "      <td>74.0</td>\n",
       "      <td>15.54</td>\n",
       "      <td>96.0</td>\n",
       "      <td>79.0</td>\n",
       "      <td>0</td>\n",
       "    </tr>\n",
       "  </tbody>\n",
       "</table>\n",
       "</div>"
      ],
      "text/plain": [
       "     male  age  education  currentSmoker  cigsPerDay  BPMeds  prevalentStroke  \\\n",
       "377     1   67        1.0              0         0.0     0.0                0   \n",
       "\n",
       "     prevalentHyp  diabetes  totChol  sysBP  diaBP    BMI  heartRate  glucose  \\\n",
       "377             0         0    203.0  122.0   74.0  15.54       96.0     79.0   \n",
       "\n",
       "     TenYearCHD  \n",
       "377           0  "
      ]
     },
     "execution_count": 97,
     "metadata": {},
     "output_type": "execute_result"
    }
   ],
   "source": [
    "ll_data=df.loc[df['BMI']<ll]\n",
    "ll_data"
   ]
  },
  {
   "cell_type": "code",
   "execution_count": 98,
   "id": "1aad14b4",
   "metadata": {},
   "outputs": [],
   "source": [
    "df['BMI'] = np.where(df['BMI']>ul, ul, df['BMI'])\n",
    "df['BMI'] = np.where(df['BMI']<ll, ll, df['BMI'])"
   ]
  },
  {
   "cell_type": "code",
   "execution_count": 99,
   "id": "44f0b221",
   "metadata": {},
   "outputs": [
    {
     "data": {
      "text/plain": [
       "<AxesSubplot:>"
      ]
     },
     "execution_count": 99,
     "metadata": {},
     "output_type": "execute_result"
    },
    {
     "data": {
      "image/png": "[encoded data removed]",
      "text/plain": [
       "<Figure size 432x288 with 1 Axes>"
      ]
     },
     "metadata": {
      "needs_background": "light"
     },
     "output_type": "display_data"
    }
   ],
   "source": [
    "#____boxplot\n",
    "props2 = dict(boxes = 'red', whiskers = 'green', medians = 'black', caps = 'red')\n",
    "df['BMI'].plot.box(color=props2, patch_artist = True, vert = False)"
   ]
  },
  {
   "cell_type": "markdown",
   "id": "9281417a",
   "metadata": {},
   "source": [
    "## heartRate "
   ]
  },
  {
   "cell_type": "code",
   "execution_count": 206,
   "id": "2f887a7d",
   "metadata": {},
   "outputs": [
    {
     "data": {
      "text/plain": [
       "75.0     507\n",
       "80.0     336\n",
       "70.0     269\n",
       "60.0     207\n",
       "85.0     191\n",
       "        ... \n",
       "97.0       1\n",
       "130.0      1\n",
       "47.0       1\n",
       "44.0       1\n",
       "46.0       1\n",
       "Name: heartRate, Length: 72, dtype: int64"
      ]
     },
     "execution_count": 206,
     "metadata": {},
     "output_type": "execute_result"
    }
   ],
   "source": [
    "df[\"heartRate\"].value_counts()"
   ]
  },
  {
   "cell_type": "code",
   "execution_count": 100,
   "id": "263ddddc",
   "metadata": {
    "scrolled": true
   },
   "outputs": [
    {
     "data": {
      "image/png": "[encoded data removed]",
      "text/plain": [
       "<Figure size 432x288 with 1 Axes>"
      ]
     },
     "metadata": {
      "needs_background": "light"
     },
     "output_type": "display_data"
    }
   ],
   "source": [
    "sns.distplot(df['heartRate'])\n",
    "plt.title(\"Histogram of : heartRate\")\n",
    "plt.xlabel(\"heartRate\")\n",
    "plt.ylabel(\"Density of heartRate\")\n",
    "plt.show()"
   ]
  },
  {
   "cell_type": "code",
   "execution_count": 101,
   "id": "aa1f408c",
   "metadata": {},
   "outputs": [
    {
     "data": {
      "text/plain": [
       "<AxesSubplot:>"
      ]
     },
     "execution_count": 101,
     "metadata": {},
     "output_type": "execute_result"
    },
    {
     "data": {
      "image/png": "[encoded data removed]",
      "text/plain": [
       "<Figure size 432x288 with 1 Axes>"
      ]
     },
     "metadata": {
      "needs_background": "light"
     },
     "output_type": "display_data"
    }
   ],
   "source": [
    "#____boxplot\n",
    "props2 = dict(boxes = 'red', whiskers = 'green', medians = 'black', caps = 'red')\n",
    "df['heartRate'].plot.box(color=props2, patch_artist = True, vert = False)"
   ]
  },
  {
   "cell_type": "code",
   "execution_count": 102,
   "id": "0a7ee891",
   "metadata": {},
   "outputs": [],
   "source": [
    "# Outliers\n",
    "q1 = df['heartRate'].quantile(0.25)\n",
    "q3 = df['heartRate'].quantile(0.75)\n",
    "iqr = q3-q1\n",
    "\n",
    "ll = q1-(1.5*iqr)\n",
    "ul = q3+(1.5*iqr)"
   ]
  },
  {
   "cell_type": "code",
   "execution_count": 103,
   "id": "1b2c82a2",
   "metadata": {},
   "outputs": [
    {
     "data": {
      "text/html": [
       "<div>\n",
       "<style scoped>\n",
       "    .dataframe tbody tr th:only-of-type {\n",
       "        vertical-align: middle;\n",
       "    }\n",
       "\n",
       "    .dataframe tbody tr th {\n",
       "        vertical-align: top;\n",
       "    }\n",
       "\n",
       "    .dataframe thead th {\n",
       "        text-align: right;\n",
       "    }\n",
       "</style>\n",
       "<table border=\"1\" class=\"dataframe\">\n",
       "  <thead>\n",
       "    <tr style=\"text-align: right;\">\n",
       "      <th></th>\n",
       "      <th>male</th>\n",
       "      <th>age</th>\n",
       "      <th>education</th>\n",
       "      <th>currentSmoker</th>\n",
       "      <th>cigsPerDay</th>\n",
       "      <th>BPMeds</th>\n",
       "      <th>prevalentStroke</th>\n",
       "      <th>prevalentHyp</th>\n",
       "      <th>diabetes</th>\n",
       "      <th>totChol</th>\n",
       "      <th>sysBP</th>\n",
       "      <th>diaBP</th>\n",
       "      <th>BMI</th>\n",
       "      <th>heartRate</th>\n",
       "      <th>glucose</th>\n",
       "      <th>TenYearCHD</th>\n",
       "    </tr>\n",
       "  </thead>\n",
       "  <tbody>\n",
       "    <tr>\n",
       "      <th>162</th>\n",
       "      <td>0</td>\n",
       "      <td>47</td>\n",
       "      <td>2.0</td>\n",
       "      <td>0</td>\n",
       "      <td>0.0</td>\n",
       "      <td>0.0</td>\n",
       "      <td>0</td>\n",
       "      <td>0</td>\n",
       "      <td>0</td>\n",
       "      <td>174.0</td>\n",
       "      <td>118.0</td>\n",
       "      <td>86.5</td>\n",
       "      <td>26.15</td>\n",
       "      <td>110.0</td>\n",
       "      <td>86.0</td>\n",
       "      <td>0</td>\n",
       "    </tr>\n",
       "    <tr>\n",
       "      <th>270</th>\n",
       "      <td>0</td>\n",
       "      <td>54</td>\n",
       "      <td>1.0</td>\n",
       "      <td>0</td>\n",
       "      <td>0.0</td>\n",
       "      <td>0.0</td>\n",
       "      <td>0</td>\n",
       "      <td>1</td>\n",
       "      <td>0</td>\n",
       "      <td>273.0</td>\n",
       "      <td>139.0</td>\n",
       "      <td>98.0</td>\n",
       "      <td>29.06</td>\n",
       "      <td>110.0</td>\n",
       "      <td>73.0</td>\n",
       "      <td>1</td>\n",
       "    </tr>\n",
       "    <tr>\n",
       "      <th>339</th>\n",
       "      <td>0</td>\n",
       "      <td>64</td>\n",
       "      <td>1.0</td>\n",
       "      <td>0</td>\n",
       "      <td>0.0</td>\n",
       "      <td>0.0</td>\n",
       "      <td>0</td>\n",
       "      <td>1</td>\n",
       "      <td>0</td>\n",
       "      <td>312.0</td>\n",
       "      <td>160.0</td>\n",
       "      <td>82.0</td>\n",
       "      <td>27.59</td>\n",
       "      <td>140.0</td>\n",
       "      <td>94.0</td>\n",
       "      <td>0</td>\n",
       "    </tr>\n",
       "    <tr>\n",
       "      <th>358</th>\n",
       "      <td>0</td>\n",
       "      <td>40</td>\n",
       "      <td>3.0</td>\n",
       "      <td>1</td>\n",
       "      <td>20.0</td>\n",
       "      <td>0.0</td>\n",
       "      <td>0</td>\n",
       "      <td>0</td>\n",
       "      <td>0</td>\n",
       "      <td>210.0</td>\n",
       "      <td>118.0</td>\n",
       "      <td>79.0</td>\n",
       "      <td>21.21</td>\n",
       "      <td>130.0</td>\n",
       "      <td>84.0</td>\n",
       "      <td>0</td>\n",
       "    </tr>\n",
       "    <tr>\n",
       "      <th>409</th>\n",
       "      <td>1</td>\n",
       "      <td>44</td>\n",
       "      <td>1.0</td>\n",
       "      <td>1</td>\n",
       "      <td>10.0</td>\n",
       "      <td>0.0</td>\n",
       "      <td>0</td>\n",
       "      <td>1</td>\n",
       "      <td>0</td>\n",
       "      <td>229.0</td>\n",
       "      <td>177.5</td>\n",
       "      <td>112.5</td>\n",
       "      <td>35.48</td>\n",
       "      <td>104.0</td>\n",
       "      <td>78.0</td>\n",
       "      <td>0</td>\n",
       "    </tr>\n",
       "    <tr>\n",
       "      <th>...</th>\n",
       "      <td>...</td>\n",
       "      <td>...</td>\n",
       "      <td>...</td>\n",
       "      <td>...</td>\n",
       "      <td>...</td>\n",
       "      <td>...</td>\n",
       "      <td>...</td>\n",
       "      <td>...</td>\n",
       "      <td>...</td>\n",
       "      <td>...</td>\n",
       "      <td>...</td>\n",
       "      <td>...</td>\n",
       "      <td>...</td>\n",
       "      <td>...</td>\n",
       "      <td>...</td>\n",
       "      <td>...</td>\n",
       "    </tr>\n",
       "    <tr>\n",
       "      <th>3912</th>\n",
       "      <td>1</td>\n",
       "      <td>43</td>\n",
       "      <td>4.0</td>\n",
       "      <td>1</td>\n",
       "      <td>20.0</td>\n",
       "      <td>0.0</td>\n",
       "      <td>0</td>\n",
       "      <td>0</td>\n",
       "      <td>0</td>\n",
       "      <td>184.0</td>\n",
       "      <td>127.5</td>\n",
       "      <td>81.0</td>\n",
       "      <td>28.31</td>\n",
       "      <td>108.0</td>\n",
       "      <td>75.0</td>\n",
       "      <td>0</td>\n",
       "    </tr>\n",
       "    <tr>\n",
       "      <th>3964</th>\n",
       "      <td>0</td>\n",
       "      <td>39</td>\n",
       "      <td>3.0</td>\n",
       "      <td>0</td>\n",
       "      <td>0.0</td>\n",
       "      <td>0.0</td>\n",
       "      <td>0</td>\n",
       "      <td>0</td>\n",
       "      <td>0</td>\n",
       "      <td>213.0</td>\n",
       "      <td>125.0</td>\n",
       "      <td>87.0</td>\n",
       "      <td>16.73</td>\n",
       "      <td>110.0</td>\n",
       "      <td>75.0</td>\n",
       "      <td>0</td>\n",
       "    </tr>\n",
       "    <tr>\n",
       "      <th>4053</th>\n",
       "      <td>0</td>\n",
       "      <td>44</td>\n",
       "      <td>1.0</td>\n",
       "      <td>0</td>\n",
       "      <td>0.0</td>\n",
       "      <td>0.0</td>\n",
       "      <td>0</td>\n",
       "      <td>0</td>\n",
       "      <td>0</td>\n",
       "      <td>160.0</td>\n",
       "      <td>107.0</td>\n",
       "      <td>69.0</td>\n",
       "      <td>18.63</td>\n",
       "      <td>125.0</td>\n",
       "      <td>78.0</td>\n",
       "      <td>0</td>\n",
       "    </tr>\n",
       "    <tr>\n",
       "      <th>4070</th>\n",
       "      <td>0</td>\n",
       "      <td>40</td>\n",
       "      <td>3.0</td>\n",
       "      <td>0</td>\n",
       "      <td>0.0</td>\n",
       "      <td>0.0</td>\n",
       "      <td>0</td>\n",
       "      <td>1</td>\n",
       "      <td>0</td>\n",
       "      <td>202.0</td>\n",
       "      <td>158.0</td>\n",
       "      <td>103.0</td>\n",
       "      <td>28.35</td>\n",
       "      <td>125.0</td>\n",
       "      <td>80.0</td>\n",
       "      <td>0</td>\n",
       "    </tr>\n",
       "    <tr>\n",
       "      <th>4164</th>\n",
       "      <td>1</td>\n",
       "      <td>39</td>\n",
       "      <td>2.0</td>\n",
       "      <td>1</td>\n",
       "      <td>20.0</td>\n",
       "      <td>0.0</td>\n",
       "      <td>0</td>\n",
       "      <td>0</td>\n",
       "      <td>0</td>\n",
       "      <td>287.0</td>\n",
       "      <td>136.0</td>\n",
       "      <td>86.0</td>\n",
       "      <td>19.00</td>\n",
       "      <td>112.0</td>\n",
       "      <td>83.0</td>\n",
       "      <td>0</td>\n",
       "    </tr>\n",
       "  </tbody>\n",
       "</table>\n",
       "<p>76 rows × 16 columns</p>\n",
       "</div>"
      ],
      "text/plain": [
       "      male  age  education  currentSmoker  cigsPerDay  BPMeds  \\\n",
       "162      0   47        2.0              0         0.0     0.0   \n",
       "270      0   54        1.0              0         0.0     0.0   \n",
       "339      0   64        1.0              0         0.0     0.0   \n",
       "358      0   40        3.0              1        20.0     0.0   \n",
       "409      1   44        1.0              1        10.0     0.0   \n",
       "...    ...  ...        ...            ...         ...     ...   \n",
       "3912     1   43        4.0              1        20.0     0.0   \n",
       "3964     0   39        3.0              0         0.0     0.0   \n",
       "4053     0   44        1.0              0         0.0     0.0   \n",
       "4070     0   40        3.0              0         0.0     0.0   \n",
       "4164     1   39        2.0              1        20.0     0.0   \n",
       "\n",
       "      prevalentStroke  prevalentHyp  diabetes  totChol  sysBP  diaBP    BMI  \\\n",
       "162                 0             0         0    174.0  118.0   86.5  26.15   \n",
       "270                 0             1         0    273.0  139.0   98.0  29.06   \n",
       "339                 0             1         0    312.0  160.0   82.0  27.59   \n",
       "358                 0             0         0    210.0  118.0   79.0  21.21   \n",
       "409                 0             1         0    229.0  177.5  112.5  35.48   \n",
       "...               ...           ...       ...      ...    ...    ...    ...   \n",
       "3912                0             0         0    184.0  127.5   81.0  28.31   \n",
       "3964                0             0         0    213.0  125.0   87.0  16.73   \n",
       "4053                0             0         0    160.0  107.0   69.0  18.63   \n",
       "4070                0             1         0    202.0  158.0  103.0  28.35   \n",
       "4164                0             0         0    287.0  136.0   86.0  19.00   \n",
       "\n",
       "      heartRate  glucose  TenYearCHD  \n",
       "162       110.0     86.0           0  \n",
       "270       110.0     73.0           1  \n",
       "339       140.0     94.0           0  \n",
       "358       130.0     84.0           0  \n",
       "409       104.0     78.0           0  \n",
       "...         ...      ...         ...  \n",
       "3912      108.0     75.0           0  \n",
       "3964      110.0     75.0           0  \n",
       "4053      125.0     78.0           0  \n",
       "4070      125.0     80.0           0  \n",
       "4164      112.0     83.0           0  \n",
       "\n",
       "[76 rows x 16 columns]"
      ]
     },
     "execution_count": 103,
     "metadata": {},
     "output_type": "execute_result"
    }
   ],
   "source": [
    "ul_data=df.loc[df['heartRate']>ul]\n",
    "ul_data"
   ]
  },
  {
   "cell_type": "code",
   "execution_count": 104,
   "id": "65861cfe",
   "metadata": {},
   "outputs": [
    {
     "data": {
      "text/html": [
       "<div>\n",
       "<style scoped>\n",
       "    .dataframe tbody tr th:only-of-type {\n",
       "        vertical-align: middle;\n",
       "    }\n",
       "\n",
       "    .dataframe tbody tr th {\n",
       "        vertical-align: top;\n",
       "    }\n",
       "\n",
       "    .dataframe thead th {\n",
       "        text-align: right;\n",
       "    }\n",
       "</style>\n",
       "<table border=\"1\" class=\"dataframe\">\n",
       "  <thead>\n",
       "    <tr style=\"text-align: right;\">\n",
       "      <th></th>\n",
       "      <th>male</th>\n",
       "      <th>age</th>\n",
       "      <th>education</th>\n",
       "      <th>currentSmoker</th>\n",
       "      <th>cigsPerDay</th>\n",
       "      <th>BPMeds</th>\n",
       "      <th>prevalentStroke</th>\n",
       "      <th>prevalentHyp</th>\n",
       "      <th>diabetes</th>\n",
       "      <th>totChol</th>\n",
       "      <th>sysBP</th>\n",
       "      <th>diaBP</th>\n",
       "      <th>BMI</th>\n",
       "      <th>heartRate</th>\n",
       "      <th>glucose</th>\n",
       "      <th>TenYearCHD</th>\n",
       "    </tr>\n",
       "  </thead>\n",
       "  <tbody>\n",
       "    <tr>\n",
       "      <th>1233</th>\n",
       "      <td>1</td>\n",
       "      <td>59</td>\n",
       "      <td>1.0</td>\n",
       "      <td>0</td>\n",
       "      <td>0.0</td>\n",
       "      <td>0.0</td>\n",
       "      <td>0</td>\n",
       "      <td>0</td>\n",
       "      <td>0</td>\n",
       "      <td>229.0</td>\n",
       "      <td>100.5</td>\n",
       "      <td>66.0</td>\n",
       "      <td>25.18</td>\n",
       "      <td>44.0</td>\n",
       "      <td>81.0</td>\n",
       "      <td>0</td>\n",
       "    </tr>\n",
       "    <tr>\n",
       "      <th>1844</th>\n",
       "      <td>1</td>\n",
       "      <td>35</td>\n",
       "      <td>3.0</td>\n",
       "      <td>1</td>\n",
       "      <td>15.0</td>\n",
       "      <td>0.0</td>\n",
       "      <td>0</td>\n",
       "      <td>0</td>\n",
       "      <td>0</td>\n",
       "      <td>196.0</td>\n",
       "      <td>107.5</td>\n",
       "      <td>66.5</td>\n",
       "      <td>22.64</td>\n",
       "      <td>45.0</td>\n",
       "      <td>79.0</td>\n",
       "      <td>0</td>\n",
       "    </tr>\n",
       "    <tr>\n",
       "      <th>3740</th>\n",
       "      <td>1</td>\n",
       "      <td>36</td>\n",
       "      <td>2.0</td>\n",
       "      <td>0</td>\n",
       "      <td>0.0</td>\n",
       "      <td>0.0</td>\n",
       "      <td>0</td>\n",
       "      <td>0</td>\n",
       "      <td>0</td>\n",
       "      <td>230.0</td>\n",
       "      <td>122.0</td>\n",
       "      <td>78.0</td>\n",
       "      <td>26.53</td>\n",
       "      <td>45.0</td>\n",
       "      <td>78.0</td>\n",
       "      <td>0</td>\n",
       "    </tr>\n",
       "    <tr>\n",
       "      <th>4195</th>\n",
       "      <td>0</td>\n",
       "      <td>40</td>\n",
       "      <td>2.0</td>\n",
       "      <td>1</td>\n",
       "      <td>9.0</td>\n",
       "      <td>0.0</td>\n",
       "      <td>0</td>\n",
       "      <td>0</td>\n",
       "      <td>0</td>\n",
       "      <td>207.0</td>\n",
       "      <td>124.0</td>\n",
       "      <td>78.0</td>\n",
       "      <td>22.90</td>\n",
       "      <td>46.0</td>\n",
       "      <td>66.0</td>\n",
       "      <td>0</td>\n",
       "    </tr>\n",
       "  </tbody>\n",
       "</table>\n",
       "</div>"
      ],
      "text/plain": [
       "      male  age  education  currentSmoker  cigsPerDay  BPMeds  \\\n",
       "1233     1   59        1.0              0         0.0     0.0   \n",
       "1844     1   35        3.0              1        15.0     0.0   \n",
       "3740     1   36        2.0              0         0.0     0.0   \n",
       "4195     0   40        2.0              1         9.0     0.0   \n",
       "\n",
       "      prevalentStroke  prevalentHyp  diabetes  totChol  sysBP  diaBP    BMI  \\\n",
       "1233                0             0         0    229.0  100.5   66.0  25.18   \n",
       "1844                0             0         0    196.0  107.5   66.5  22.64   \n",
       "3740                0             0         0    230.0  122.0   78.0  26.53   \n",
       "4195                0             0         0    207.0  124.0   78.0  22.90   \n",
       "\n",
       "      heartRate  glucose  TenYearCHD  \n",
       "1233       44.0     81.0           0  \n",
       "1844       45.0     79.0           0  \n",
       "3740       45.0     78.0           0  \n",
       "4195       46.0     66.0           0  "
      ]
     },
     "execution_count": 104,
     "metadata": {},
     "output_type": "execute_result"
    }
   ],
   "source": [
    "ll_data=df.loc[df['heartRate']<ll]\n",
    "ll_data"
   ]
  },
  {
   "cell_type": "code",
   "execution_count": 105,
   "id": "80f6acff",
   "metadata": {},
   "outputs": [],
   "source": [
    "df['heartRate'] = np.where(df['heartRate']>ul, ul, df['heartRate'])\n",
    "df['heartRate'] = np.where(df['heartRate']<ll, ll, df['heartRate'])"
   ]
  },
  {
   "cell_type": "code",
   "execution_count": 106,
   "id": "8fe93981",
   "metadata": {
    "scrolled": true
   },
   "outputs": [
    {
     "data": {
      "text/plain": [
       "<AxesSubplot:>"
      ]
     },
     "execution_count": 106,
     "metadata": {},
     "output_type": "execute_result"
    },
    {
     "data": {
      "image/png": "[encoded data removed]",
      "text/plain": [
       "<Figure size 432x288 with 1 Axes>"
      ]
     },
     "metadata": {
      "needs_background": "light"
     },
     "output_type": "display_data"
    }
   ],
   "source": [
    "#____boxplot\n",
    "props2 = dict(boxes = 'red', whiskers = 'green', medians = 'black', caps = 'red')\n",
    "df['heartRate'].plot.box(color=props2, patch_artist = True, vert = False)"
   ]
  },
  {
   "cell_type": "markdown",
   "id": "8e5a3ce8",
   "metadata": {},
   "source": [
    "## glucose"
   ]
  },
  {
   "cell_type": "code",
   "execution_count": 207,
   "id": "26002377",
   "metadata": {},
   "outputs": [
    {
     "data": {
      "text/plain": [
       "75.0     180\n",
       "77.0     166\n",
       "70.0     150\n",
       "73.0     146\n",
       "83.0     145\n",
       "        ... \n",
       "145.0      1\n",
       "386.0      1\n",
       "155.0      1\n",
       "147.0      1\n",
       "260.0      1\n",
       "Name: glucose, Length: 138, dtype: int64"
      ]
     },
     "execution_count": 207,
     "metadata": {},
     "output_type": "execute_result"
    }
   ],
   "source": [
    "df[\"glucose\"].value_counts()"
   ]
  },
  {
   "cell_type": "code",
   "execution_count": 107,
   "id": "b713efdb",
   "metadata": {
    "scrolled": true
   },
   "outputs": [
    {
     "data": {
      "image/png": "[encoded data removed]",
      "text/plain": [
       "<Figure size 432x288 with 1 Axes>"
      ]
     },
     "metadata": {
      "needs_background": "light"
     },
     "output_type": "display_data"
    }
   ],
   "source": [
    "sns.distplot(df['glucose'])\n",
    "plt.title(\"Histogram of : glucose\")\n",
    "plt.xlabel(\"glucose\")\n",
    "plt.ylabel(\"Density of glucose\")\n",
    "plt.show()"
   ]
  },
  {
   "cell_type": "code",
   "execution_count": 108,
   "id": "b2c3628a",
   "metadata": {},
   "outputs": [
    {
     "data": {
      "text/plain": [
       "<AxesSubplot:>"
      ]
     },
     "execution_count": 108,
     "metadata": {},
     "output_type": "execute_result"
    },
    {
     "data": {
      "image/png": "[encoded data removed]",
      "text/plain": [
       "<Figure size 432x288 with 1 Axes>"
      ]
     },
     "metadata": {
      "needs_background": "light"
     },
     "output_type": "display_data"
    }
   ],
   "source": [
    "#____boxplot\n",
    "props2 = dict(boxes = 'red', whiskers = 'green', medians = 'black', caps = 'red')\n",
    "df['glucose'].plot.box(color=props2, patch_artist = True, vert = False)"
   ]
  },
  {
   "cell_type": "code",
   "execution_count": 109,
   "id": "5c041f03",
   "metadata": {},
   "outputs": [],
   "source": [
    "# Outliers\n",
    "q1 = df['glucose'].quantile(0.25)\n",
    "q3 = df['glucose'].quantile(0.75)\n",
    "iqr = q3-q1\n",
    "\n",
    "ll = q1-(1.5*iqr)\n",
    "ul = q3+(1.5*iqr)"
   ]
  },
  {
   "cell_type": "code",
   "execution_count": 110,
   "id": "20b9d6ac",
   "metadata": {},
   "outputs": [
    {
     "data": {
      "text/html": [
       "<div>\n",
       "<style scoped>\n",
       "    .dataframe tbody tr th:only-of-type {\n",
       "        vertical-align: middle;\n",
       "    }\n",
       "\n",
       "    .dataframe tbody tr th {\n",
       "        vertical-align: top;\n",
       "    }\n",
       "\n",
       "    .dataframe thead th {\n",
       "        text-align: right;\n",
       "    }\n",
       "</style>\n",
       "<table border=\"1\" class=\"dataframe\">\n",
       "  <thead>\n",
       "    <tr style=\"text-align: right;\">\n",
       "      <th></th>\n",
       "      <th>male</th>\n",
       "      <th>age</th>\n",
       "      <th>education</th>\n",
       "      <th>currentSmoker</th>\n",
       "      <th>cigsPerDay</th>\n",
       "      <th>BPMeds</th>\n",
       "      <th>prevalentStroke</th>\n",
       "      <th>prevalentHyp</th>\n",
       "      <th>diabetes</th>\n",
       "      <th>totChol</th>\n",
       "      <th>sysBP</th>\n",
       "      <th>diaBP</th>\n",
       "      <th>BMI</th>\n",
       "      <th>heartRate</th>\n",
       "      <th>glucose</th>\n",
       "      <th>TenYearCHD</th>\n",
       "    </tr>\n",
       "  </thead>\n",
       "  <tbody>\n",
       "    <tr>\n",
       "      <th>22</th>\n",
       "      <td>0</td>\n",
       "      <td>52</td>\n",
       "      <td>1.0</td>\n",
       "      <td>0</td>\n",
       "      <td>0.0</td>\n",
       "      <td>0.0</td>\n",
       "      <td>0</td>\n",
       "      <td>0</td>\n",
       "      <td>0</td>\n",
       "      <td>234.0</td>\n",
       "      <td>148.0</td>\n",
       "      <td>78.0</td>\n",
       "      <td>34.17</td>\n",
       "      <td>70.0</td>\n",
       "      <td>113.0</td>\n",
       "      <td>0</td>\n",
       "    </tr>\n",
       "    <tr>\n",
       "      <th>37</th>\n",
       "      <td>1</td>\n",
       "      <td>52</td>\n",
       "      <td>1.0</td>\n",
       "      <td>0</td>\n",
       "      <td>0.0</td>\n",
       "      <td>0.0</td>\n",
       "      <td>0</td>\n",
       "      <td>1</td>\n",
       "      <td>1</td>\n",
       "      <td>178.0</td>\n",
       "      <td>160.0</td>\n",
       "      <td>98.0</td>\n",
       "      <td>35.48</td>\n",
       "      <td>75.0</td>\n",
       "      <td>225.0</td>\n",
       "      <td>0</td>\n",
       "    </tr>\n",
       "    <tr>\n",
       "      <th>44</th>\n",
       "      <td>0</td>\n",
       "      <td>53</td>\n",
       "      <td>3.0</td>\n",
       "      <td>0</td>\n",
       "      <td>0.0</td>\n",
       "      <td>1.0</td>\n",
       "      <td>0</td>\n",
       "      <td>1</td>\n",
       "      <td>1</td>\n",
       "      <td>311.0</td>\n",
       "      <td>184.5</td>\n",
       "      <td>92.0</td>\n",
       "      <td>21.51</td>\n",
       "      <td>76.0</td>\n",
       "      <td>215.0</td>\n",
       "      <td>1</td>\n",
       "    </tr>\n",
       "    <tr>\n",
       "      <th>66</th>\n",
       "      <td>0</td>\n",
       "      <td>62</td>\n",
       "      <td>1.0</td>\n",
       "      <td>0</td>\n",
       "      <td>0.0</td>\n",
       "      <td>0.0</td>\n",
       "      <td>0</td>\n",
       "      <td>1</td>\n",
       "      <td>1</td>\n",
       "      <td>212.0</td>\n",
       "      <td>184.5</td>\n",
       "      <td>99.0</td>\n",
       "      <td>29.64</td>\n",
       "      <td>100.0</td>\n",
       "      <td>202.0</td>\n",
       "      <td>0</td>\n",
       "    </tr>\n",
       "    <tr>\n",
       "      <th>96</th>\n",
       "      <td>0</td>\n",
       "      <td>63</td>\n",
       "      <td>4.0</td>\n",
       "      <td>1</td>\n",
       "      <td>20.0</td>\n",
       "      <td>0.0</td>\n",
       "      <td>0</td>\n",
       "      <td>0</td>\n",
       "      <td>1</td>\n",
       "      <td>239.0</td>\n",
       "      <td>134.0</td>\n",
       "      <td>80.0</td>\n",
       "      <td>26.64</td>\n",
       "      <td>88.0</td>\n",
       "      <td>126.0</td>\n",
       "      <td>0</td>\n",
       "    </tr>\n",
       "    <tr>\n",
       "      <th>...</th>\n",
       "      <td>...</td>\n",
       "      <td>...</td>\n",
       "      <td>...</td>\n",
       "      <td>...</td>\n",
       "      <td>...</td>\n",
       "      <td>...</td>\n",
       "      <td>...</td>\n",
       "      <td>...</td>\n",
       "      <td>...</td>\n",
       "      <td>...</td>\n",
       "      <td>...</td>\n",
       "      <td>...</td>\n",
       "      <td>...</td>\n",
       "      <td>...</td>\n",
       "      <td>...</td>\n",
       "      <td>...</td>\n",
       "    </tr>\n",
       "    <tr>\n",
       "      <th>4115</th>\n",
       "      <td>0</td>\n",
       "      <td>63</td>\n",
       "      <td>2.0</td>\n",
       "      <td>0</td>\n",
       "      <td>0.0</td>\n",
       "      <td>0.0</td>\n",
       "      <td>0</td>\n",
       "      <td>1</td>\n",
       "      <td>0</td>\n",
       "      <td>250.0</td>\n",
       "      <td>184.5</td>\n",
       "      <td>88.0</td>\n",
       "      <td>24.16</td>\n",
       "      <td>94.0</td>\n",
       "      <td>118.0</td>\n",
       "      <td>1</td>\n",
       "    </tr>\n",
       "    <tr>\n",
       "      <th>4118</th>\n",
       "      <td>0</td>\n",
       "      <td>37</td>\n",
       "      <td>2.0</td>\n",
       "      <td>0</td>\n",
       "      <td>0.0</td>\n",
       "      <td>0.0</td>\n",
       "      <td>0</td>\n",
       "      <td>0</td>\n",
       "      <td>0</td>\n",
       "      <td>160.0</td>\n",
       "      <td>137.0</td>\n",
       "      <td>82.0</td>\n",
       "      <td>21.03</td>\n",
       "      <td>94.0</td>\n",
       "      <td>113.0</td>\n",
       "      <td>0</td>\n",
       "    </tr>\n",
       "    <tr>\n",
       "      <th>4203</th>\n",
       "      <td>1</td>\n",
       "      <td>63</td>\n",
       "      <td>1.0</td>\n",
       "      <td>1</td>\n",
       "      <td>10.0</td>\n",
       "      <td>0.0</td>\n",
       "      <td>0</td>\n",
       "      <td>0</td>\n",
       "      <td>1</td>\n",
       "      <td>240.0</td>\n",
       "      <td>146.0</td>\n",
       "      <td>84.0</td>\n",
       "      <td>30.48</td>\n",
       "      <td>75.0</td>\n",
       "      <td>120.0</td>\n",
       "      <td>0</td>\n",
       "    </tr>\n",
       "    <tr>\n",
       "      <th>4209</th>\n",
       "      <td>1</td>\n",
       "      <td>65</td>\n",
       "      <td>2.0</td>\n",
       "      <td>0</td>\n",
       "      <td>0.0</td>\n",
       "      <td>0.0</td>\n",
       "      <td>0</td>\n",
       "      <td>0</td>\n",
       "      <td>0</td>\n",
       "      <td>286.0</td>\n",
       "      <td>135.0</td>\n",
       "      <td>80.0</td>\n",
       "      <td>28.06</td>\n",
       "      <td>70.0</td>\n",
       "      <td>116.0</td>\n",
       "      <td>0</td>\n",
       "    </tr>\n",
       "    <tr>\n",
       "      <th>4228</th>\n",
       "      <td>0</td>\n",
       "      <td>50</td>\n",
       "      <td>1.0</td>\n",
       "      <td>0</td>\n",
       "      <td>0.0</td>\n",
       "      <td>0.0</td>\n",
       "      <td>0</td>\n",
       "      <td>1</td>\n",
       "      <td>1</td>\n",
       "      <td>260.0</td>\n",
       "      <td>184.5</td>\n",
       "      <td>112.5</td>\n",
       "      <td>35.48</td>\n",
       "      <td>85.0</td>\n",
       "      <td>260.0</td>\n",
       "      <td>0</td>\n",
       "    </tr>\n",
       "  </tbody>\n",
       "</table>\n",
       "<p>166 rows × 16 columns</p>\n",
       "</div>"
      ],
      "text/plain": [
       "      male  age  education  currentSmoker  cigsPerDay  BPMeds  \\\n",
       "22       0   52        1.0              0         0.0     0.0   \n",
       "37       1   52        1.0              0         0.0     0.0   \n",
       "44       0   53        3.0              0         0.0     1.0   \n",
       "66       0   62        1.0              0         0.0     0.0   \n",
       "96       0   63        4.0              1        20.0     0.0   \n",
       "...    ...  ...        ...            ...         ...     ...   \n",
       "4115     0   63        2.0              0         0.0     0.0   \n",
       "4118     0   37        2.0              0         0.0     0.0   \n",
       "4203     1   63        1.0              1        10.0     0.0   \n",
       "4209     1   65        2.0              0         0.0     0.0   \n",
       "4228     0   50        1.0              0         0.0     0.0   \n",
       "\n",
       "      prevalentStroke  prevalentHyp  diabetes  totChol  sysBP  diaBP    BMI  \\\n",
       "22                  0             0         0    234.0  148.0   78.0  34.17   \n",
       "37                  0             1         1    178.0  160.0   98.0  35.48   \n",
       "44                  0             1         1    311.0  184.5   92.0  21.51   \n",
       "66                  0             1         1    212.0  184.5   99.0  29.64   \n",
       "96                  0             0         1    239.0  134.0   80.0  26.64   \n",
       "...               ...           ...       ...      ...    ...    ...    ...   \n",
       "4115                0             1         0    250.0  184.5   88.0  24.16   \n",
       "4118                0             0         0    160.0  137.0   82.0  21.03   \n",
       "4203                0             0         1    240.0  146.0   84.0  30.48   \n",
       "4209                0             0         0    286.0  135.0   80.0  28.06   \n",
       "4228                0             1         1    260.0  184.5  112.5  35.48   \n",
       "\n",
       "      heartRate  glucose  TenYearCHD  \n",
       "22         70.0    113.0           0  \n",
       "37         75.0    225.0           0  \n",
       "44         76.0    215.0           1  \n",
       "66        100.0    202.0           0  \n",
       "96         88.0    126.0           0  \n",
       "...         ...      ...         ...  \n",
       "4115       94.0    118.0           1  \n",
       "4118       94.0    113.0           0  \n",
       "4203       75.0    120.0           0  \n",
       "4209       70.0    116.0           0  \n",
       "4228       85.0    260.0           0  \n",
       "\n",
       "[166 rows x 16 columns]"
      ]
     },
     "execution_count": 110,
     "metadata": {},
     "output_type": "execute_result"
    }
   ],
   "source": [
    "ul_data=df.loc[df['glucose']>ul]\n",
    "ul_data"
   ]
  },
  {
   "cell_type": "code",
   "execution_count": 111,
   "id": "dc4ca6dc",
   "metadata": {},
   "outputs": [
    {
     "data": {
      "text/html": [
       "<div>\n",
       "<style scoped>\n",
       "    .dataframe tbody tr th:only-of-type {\n",
       "        vertical-align: middle;\n",
       "    }\n",
       "\n",
       "    .dataframe tbody tr th {\n",
       "        vertical-align: top;\n",
       "    }\n",
       "\n",
       "    .dataframe thead th {\n",
       "        text-align: right;\n",
       "    }\n",
       "</style>\n",
       "<table border=\"1\" class=\"dataframe\">\n",
       "  <thead>\n",
       "    <tr style=\"text-align: right;\">\n",
       "      <th></th>\n",
       "      <th>male</th>\n",
       "      <th>age</th>\n",
       "      <th>education</th>\n",
       "      <th>currentSmoker</th>\n",
       "      <th>cigsPerDay</th>\n",
       "      <th>BPMeds</th>\n",
       "      <th>prevalentStroke</th>\n",
       "      <th>prevalentHyp</th>\n",
       "      <th>diabetes</th>\n",
       "      <th>totChol</th>\n",
       "      <th>sysBP</th>\n",
       "      <th>diaBP</th>\n",
       "      <th>BMI</th>\n",
       "      <th>heartRate</th>\n",
       "      <th>glucose</th>\n",
       "      <th>TenYearCHD</th>\n",
       "    </tr>\n",
       "  </thead>\n",
       "  <tbody>\n",
       "    <tr>\n",
       "      <th>65</th>\n",
       "      <td>0</td>\n",
       "      <td>63</td>\n",
       "      <td>1.0</td>\n",
       "      <td>0</td>\n",
       "      <td>0.0</td>\n",
       "      <td>0.0</td>\n",
       "      <td>0</td>\n",
       "      <td>1</td>\n",
       "      <td>0</td>\n",
       "      <td>252.0</td>\n",
       "      <td>154.0</td>\n",
       "      <td>87.0</td>\n",
       "      <td>28.60</td>\n",
       "      <td>72.0</td>\n",
       "      <td>45.0</td>\n",
       "      <td>0</td>\n",
       "    </tr>\n",
       "    <tr>\n",
       "      <th>796</th>\n",
       "      <td>0</td>\n",
       "      <td>59</td>\n",
       "      <td>2.0</td>\n",
       "      <td>1</td>\n",
       "      <td>15.0</td>\n",
       "      <td>0.0</td>\n",
       "      <td>0</td>\n",
       "      <td>1</td>\n",
       "      <td>0</td>\n",
       "      <td>167.0</td>\n",
       "      <td>156.0</td>\n",
       "      <td>104.0</td>\n",
       "      <td>15.96</td>\n",
       "      <td>72.0</td>\n",
       "      <td>45.0</td>\n",
       "      <td>1</td>\n",
       "    </tr>\n",
       "    <tr>\n",
       "      <th>1183</th>\n",
       "      <td>0</td>\n",
       "      <td>57</td>\n",
       "      <td>1.0</td>\n",
       "      <td>0</td>\n",
       "      <td>0.0</td>\n",
       "      <td>0.0</td>\n",
       "      <td>0</td>\n",
       "      <td>1</td>\n",
       "      <td>0</td>\n",
       "      <td>233.0</td>\n",
       "      <td>184.0</td>\n",
       "      <td>106.0</td>\n",
       "      <td>35.48</td>\n",
       "      <td>66.0</td>\n",
       "      <td>40.0</td>\n",
       "      <td>1</td>\n",
       "    </tr>\n",
       "    <tr>\n",
       "      <th>1419</th>\n",
       "      <td>1</td>\n",
       "      <td>42</td>\n",
       "      <td>3.0</td>\n",
       "      <td>1</td>\n",
       "      <td>20.0</td>\n",
       "      <td>0.0</td>\n",
       "      <td>0</td>\n",
       "      <td>0</td>\n",
       "      <td>0</td>\n",
       "      <td>231.0</td>\n",
       "      <td>123.0</td>\n",
       "      <td>87.0</td>\n",
       "      <td>21.48</td>\n",
       "      <td>75.0</td>\n",
       "      <td>44.0</td>\n",
       "      <td>0</td>\n",
       "    </tr>\n",
       "    <tr>\n",
       "      <th>2225</th>\n",
       "      <td>1</td>\n",
       "      <td>38</td>\n",
       "      <td>4.0</td>\n",
       "      <td>0</td>\n",
       "      <td>0.0</td>\n",
       "      <td>0.0</td>\n",
       "      <td>0</td>\n",
       "      <td>0</td>\n",
       "      <td>0</td>\n",
       "      <td>240.0</td>\n",
       "      <td>122.5</td>\n",
       "      <td>80.0</td>\n",
       "      <td>23.97</td>\n",
       "      <td>60.0</td>\n",
       "      <td>43.0</td>\n",
       "      <td>0</td>\n",
       "    </tr>\n",
       "    <tr>\n",
       "      <th>2854</th>\n",
       "      <td>1</td>\n",
       "      <td>59</td>\n",
       "      <td>1.0</td>\n",
       "      <td>1</td>\n",
       "      <td>40.0</td>\n",
       "      <td>0.0</td>\n",
       "      <td>0</td>\n",
       "      <td>1</td>\n",
       "      <td>0</td>\n",
       "      <td>188.0</td>\n",
       "      <td>111.0</td>\n",
       "      <td>72.0</td>\n",
       "      <td>21.48</td>\n",
       "      <td>75.0</td>\n",
       "      <td>44.0</td>\n",
       "      <td>0</td>\n",
       "    </tr>\n",
       "    <tr>\n",
       "      <th>3269</th>\n",
       "      <td>1</td>\n",
       "      <td>42</td>\n",
       "      <td>1.0</td>\n",
       "      <td>1</td>\n",
       "      <td>5.0</td>\n",
       "      <td>0.0</td>\n",
       "      <td>0</td>\n",
       "      <td>0</td>\n",
       "      <td>0</td>\n",
       "      <td>197.0</td>\n",
       "      <td>102.0</td>\n",
       "      <td>70.5</td>\n",
       "      <td>24.68</td>\n",
       "      <td>83.0</td>\n",
       "      <td>45.0</td>\n",
       "      <td>0</td>\n",
       "    </tr>\n",
       "    <tr>\n",
       "      <th>3473</th>\n",
       "      <td>1</td>\n",
       "      <td>43</td>\n",
       "      <td>2.0</td>\n",
       "      <td>0</td>\n",
       "      <td>0.0</td>\n",
       "      <td>0.0</td>\n",
       "      <td>0</td>\n",
       "      <td>1</td>\n",
       "      <td>0</td>\n",
       "      <td>245.0</td>\n",
       "      <td>144.5</td>\n",
       "      <td>95.0</td>\n",
       "      <td>27.15</td>\n",
       "      <td>70.0</td>\n",
       "      <td>45.0</td>\n",
       "      <td>0</td>\n",
       "    </tr>\n",
       "    <tr>\n",
       "      <th>3975</th>\n",
       "      <td>1</td>\n",
       "      <td>43</td>\n",
       "      <td>2.0</td>\n",
       "      <td>1</td>\n",
       "      <td>43.0</td>\n",
       "      <td>0.0</td>\n",
       "      <td>0</td>\n",
       "      <td>0</td>\n",
       "      <td>0</td>\n",
       "      <td>240.0</td>\n",
       "      <td>126.0</td>\n",
       "      <td>79.0</td>\n",
       "      <td>21.38</td>\n",
       "      <td>88.0</td>\n",
       "      <td>40.0</td>\n",
       "      <td>0</td>\n",
       "    </tr>\n",
       "  </tbody>\n",
       "</table>\n",
       "</div>"
      ],
      "text/plain": [
       "      male  age  education  currentSmoker  cigsPerDay  BPMeds  \\\n",
       "65       0   63        1.0              0         0.0     0.0   \n",
       "796      0   59        2.0              1        15.0     0.0   \n",
       "1183     0   57        1.0              0         0.0     0.0   \n",
       "1419     1   42        3.0              1        20.0     0.0   \n",
       "2225     1   38        4.0              0         0.0     0.0   \n",
       "2854     1   59        1.0              1        40.0     0.0   \n",
       "3269     1   42        1.0              1         5.0     0.0   \n",
       "3473     1   43        2.0              0         0.0     0.0   \n",
       "3975     1   43        2.0              1        43.0     0.0   \n",
       "\n",
       "      prevalentStroke  prevalentHyp  diabetes  totChol  sysBP  diaBP    BMI  \\\n",
       "65                  0             1         0    252.0  154.0   87.0  28.60   \n",
       "796                 0             1         0    167.0  156.0  104.0  15.96   \n",
       "1183                0             1         0    233.0  184.0  106.0  35.48   \n",
       "1419                0             0         0    231.0  123.0   87.0  21.48   \n",
       "2225                0             0         0    240.0  122.5   80.0  23.97   \n",
       "2854                0             1         0    188.0  111.0   72.0  21.48   \n",
       "3269                0             0         0    197.0  102.0   70.5  24.68   \n",
       "3473                0             1         0    245.0  144.5   95.0  27.15   \n",
       "3975                0             0         0    240.0  126.0   79.0  21.38   \n",
       "\n",
       "      heartRate  glucose  TenYearCHD  \n",
       "65         72.0     45.0           0  \n",
       "796        72.0     45.0           1  \n",
       "1183       66.0     40.0           1  \n",
       "1419       75.0     44.0           0  \n",
       "2225       60.0     43.0           0  \n",
       "2854       75.0     44.0           0  \n",
       "3269       83.0     45.0           0  \n",
       "3473       70.0     45.0           0  \n",
       "3975       88.0     40.0           0  "
      ]
     },
     "execution_count": 111,
     "metadata": {},
     "output_type": "execute_result"
    }
   ],
   "source": [
    "ll_data=df.loc[df['glucose']<ll]\n",
    "ll_data"
   ]
  },
  {
   "cell_type": "code",
   "execution_count": 112,
   "id": "24b992ed",
   "metadata": {},
   "outputs": [],
   "source": [
    "df['glucose'] = np.where(df['glucose']>ul, ul, df['glucose'])\n",
    "df['glucose'] = np.where(df['glucose']<ll, ll, df['glucose'])"
   ]
  },
  {
   "cell_type": "code",
   "execution_count": 113,
   "id": "18fa94e4",
   "metadata": {},
   "outputs": [
    {
     "data": {
      "text/plain": [
       "<AxesSubplot:>"
      ]
     },
     "execution_count": 113,
     "metadata": {},
     "output_type": "execute_result"
    },
    {
     "data": {
      "image/png": "[encoded data removed]",
      "text/plain": [
       "<Figure size 432x288 with 1 Axes>"
      ]
     },
     "metadata": {
      "needs_background": "light"
     },
     "output_type": "display_data"
    }
   ],
   "source": [
    "#____boxplot\n",
    "props2 = dict(boxes = 'red', whiskers = 'green', medians = 'black', caps = 'red')\n",
    "df['glucose'].plot.box(color=props2, patch_artist = True, vert = False)"
   ]
  },
  {
   "cell_type": "markdown",
   "id": "c03f80c6",
   "metadata": {},
   "source": [
    "# ------------------------------------------------------------------------------------------------------------"
   ]
  },
  {
   "cell_type": "markdown",
   "id": "ee9c49a3",
   "metadata": {},
   "source": [
    "# Logistic Regression"
   ]
  },
  {
   "cell_type": "code",
   "execution_count": 122,
   "id": "95b1d356",
   "metadata": {},
   "outputs": [],
   "source": [
    "from sklearn.linear_model import LogisticRegression\n",
    "from sklearn.model_selection import train_test_split\n",
    "\n",
    "X_train, X_test, y_train, y_test = train_test_split(x, y, test_size=0.33, random_state=42)"
   ]
  },
  {
   "cell_type": "code",
   "execution_count": 123,
   "id": "1c3ef545",
   "metadata": {},
   "outputs": [],
   "source": [
    "solvers = ('liblinear', 'newton-cg', 'sag', 'saga', 'lbfgs')"
   ]
  },
  {
   "cell_type": "code",
   "execution_count": 124,
   "id": "94f9745b",
   "metadata": {},
   "outputs": [
    {
     "name": "stderr",
     "output_type": "stream",
     "text": [
      "C:\\Users\\ASUS\\anaconda3\\lib\\site-packages\\sklearn\\utils\\validation.py:993: DataConversionWarning: A column-vector y was passed when a 1d array was expected. Please change the shape of y to (n_samples, ), for example using ravel().\n",
      "  y = column_or_1d(y, warn=True)\n",
      "C:\\Users\\ASUS\\anaconda3\\lib\\site-packages\\sklearn\\utils\\validation.py:993: DataConversionWarning: A column-vector y was passed when a 1d array was expected. Please change the shape of y to (n_samples, ), for example using ravel().\n",
      "  y = column_or_1d(y, warn=True)\n",
      "C:\\Users\\ASUS\\anaconda3\\lib\\site-packages\\sklearn\\utils\\validation.py:993: DataConversionWarning: A column-vector y was passed when a 1d array was expected. Please change the shape of y to (n_samples, ), for example using ravel().\n",
      "  y = column_or_1d(y, warn=True)\n",
      "C:\\Users\\ASUS\\anaconda3\\lib\\site-packages\\sklearn\\linear_model\\_sag.py:352: ConvergenceWarning: The max_iter was reached which means the coef_ did not converge\n",
      "  warnings.warn(\n",
      "C:\\Users\\ASUS\\anaconda3\\lib\\site-packages\\sklearn\\utils\\validation.py:993: DataConversionWarning: A column-vector y was passed when a 1d array was expected. Please change the shape of y to (n_samples, ), for example using ravel().\n",
      "  y = column_or_1d(y, warn=True)\n",
      "C:\\Users\\ASUS\\anaconda3\\lib\\site-packages\\sklearn\\linear_model\\_sag.py:352: ConvergenceWarning: The max_iter was reached which means the coef_ did not converge\n",
      "  warnings.warn(\n",
      "C:\\Users\\ASUS\\anaconda3\\lib\\site-packages\\sklearn\\utils\\validation.py:993: DataConversionWarning: A column-vector y was passed when a 1d array was expected. Please change the shape of y to (n_samples, ), for example using ravel().\n",
      "  y = column_or_1d(y, warn=True)\n",
      "C:\\Users\\ASUS\\anaconda3\\lib\\site-packages\\sklearn\\linear_model\\_logistic.py:814: ConvergenceWarning: lbfgs failed to converge (status=1):\n",
      "STOP: TOTAL NO. of ITERATIONS REACHED LIMIT.\n",
      "\n",
      "Increase the number of iterations (max_iter) or scale the data as shown in:\n",
      "    https://scikit-learn.org/stable/modules/preprocessing.html\n",
      "Please also refer to the documentation for alternative solver options:\n",
      "    https://scikit-learn.org/stable/modules/linear_model.html#logistic-regression\n",
      "  n_iter_i = _check_optimize_result(\n"
     ]
    },
    {
     "data": {
      "text/plain": [
       "{'liblinear': 0.9908864954432477,\n",
       " 'newton-cg': 0.9917149958574979,\n",
       " 'sag': 0.9892294946147473,\n",
       " 'saga': 0.9892294946147473,\n",
       " 'lbfgs': 0.9925434962717481}"
      ]
     },
     "execution_count": 124,
     "metadata": {},
     "output_type": "execute_result"
    }
   ],
   "source": [
    "M_and_scores = {}\n",
    "sc=[]\n",
    "for i in solvers:\n",
    "    model = LogisticRegression(solver=i, random_state=0)\n",
    "    model.fit(X_train, y_train)\n",
    "    M_and_scores[i]=model.score(X_test,y_test)\n",
    "    sc.append(model.score(X_test,y_test))\n",
    "    \n",
    "M_and_scores"
   ]
  },
  {
   "cell_type": "code",
   "execution_count": 125,
   "id": "89c1eb1b",
   "metadata": {},
   "outputs": [
    {
     "name": "stdout",
     "output_type": "stream",
     "text": [
      "Best Solver : lbfgs With the Score - 0.9925434962717481\n"
     ]
    }
   ],
   "source": [
    "for k, i in M_and_scores.items():\n",
    "    if i == max(M_and_scores.values()) :\n",
    "        Best_Solver = k\n",
    "        \n",
    "print('Best Solver :' , Best_Solver, \"With the Score -\", max(M_and_scores.values()))"
   ]
  },
  {
   "cell_type": "code",
   "execution_count": 126,
   "id": "ef7bee4d",
   "metadata": {},
   "outputs": [
    {
     "name": "stderr",
     "output_type": "stream",
     "text": [
      "C:\\Users\\ASUS\\anaconda3\\lib\\site-packages\\sklearn\\utils\\validation.py:993: DataConversionWarning: A column-vector y was passed when a 1d array was expected. Please change the shape of y to (n_samples, ), for example using ravel().\n",
      "  y = column_or_1d(y, warn=True)\n",
      "C:\\Users\\ASUS\\anaconda3\\lib\\site-packages\\sklearn\\linear_model\\_logistic.py:814: ConvergenceWarning: lbfgs failed to converge (status=1):\n",
      "STOP: TOTAL NO. of ITERATIONS REACHED LIMIT.\n",
      "\n",
      "Increase the number of iterations (max_iter) or scale the data as shown in:\n",
      "    https://scikit-learn.org/stable/modules/preprocessing.html\n",
      "Please also refer to the documentation for alternative solver options:\n",
      "    https://scikit-learn.org/stable/modules/linear_model.html#logistic-regression\n",
      "  n_iter_i = _check_optimize_result(\n"
     ]
    },
    {
     "data": {
      "text/plain": [
       "LogisticRegression(random_state=0)"
      ]
     },
     "execution_count": 126,
     "metadata": {},
     "output_type": "execute_result"
    }
   ],
   "source": [
    "model = LogisticRegression(solver = Best_Solver, random_state = 0)\n",
    "model.fit(X_train, y_train)"
   ]
  },
  {
   "cell_type": "code",
   "execution_count": 129,
   "id": "097f57ee",
   "metadata": {},
   "outputs": [],
   "source": [
    "Y_PRED = model.predict(X_test)"
   ]
  },
  {
   "cell_type": "code",
   "execution_count": 217,
   "id": "bb3fe689",
   "metadata": {},
   "outputs": [
    {
     "data": {
      "text/plain": [
       "0.9840751327072275"
      ]
     },
     "execution_count": 217,
     "metadata": {},
     "output_type": "execute_result"
    }
   ],
   "source": [
    "model.score(X_train,y_train)"
   ]
  },
  {
   "cell_type": "code",
   "execution_count": 218,
   "id": "3b8cb053",
   "metadata": {},
   "outputs": [
    {
     "data": {
      "text/plain": [
       "0.9925434962717481"
      ]
     },
     "execution_count": 218,
     "metadata": {},
     "output_type": "execute_result"
    }
   ],
   "source": [
    "model.score(X_test,y_test)"
   ]
  },
  {
   "cell_type": "code",
   "execution_count": 219,
   "id": "639b627b",
   "metadata": {},
   "outputs": [],
   "source": [
    "from sklearn.metrics import confusion_matrix\n",
    "from sklearn.metrics import classification_report"
   ]
  },
  {
   "cell_type": "code",
   "execution_count": 220,
   "id": "d791b3d7",
   "metadata": {},
   "outputs": [
    {
     "data": {
      "text/plain": [
       "array([[1179,    0],\n",
       "       [   9,   19]], dtype=int64)"
      ]
     },
     "execution_count": 220,
     "metadata": {},
     "output_type": "execute_result"
    }
   ],
   "source": [
    "confusion_matrix(y_test,Y_PRED)"
   ]
  },
  {
   "cell_type": "code",
   "execution_count": 221,
   "id": "20573ec5",
   "metadata": {},
   "outputs": [
    {
     "name": "stdout",
     "output_type": "stream",
     "text": [
      "              precision    recall  f1-score   support\n",
      "\n",
      "           0       0.99      1.00      1.00      1179\n",
      "           1       1.00      0.68      0.81        28\n",
      "\n",
      "    accuracy                           0.99      1207\n",
      "   macro avg       1.00      0.84      0.90      1207\n",
      "weighted avg       0.99      0.99      0.99      1207\n",
      "\n"
     ]
    }
   ],
   "source": [
    "print(classification_report(y_test,Y_PRED))"
   ]
  },
  {
   "cell_type": "markdown",
   "id": "19586117",
   "metadata": {},
   "source": [
    "# With Smote"
   ]
  },
  {
   "cell_type": "code",
   "execution_count": 130,
   "id": "cdd8c559",
   "metadata": {},
   "outputs": [],
   "source": [
    "# X_train, X_test, y_train, y_test\n",
    "\n",
    "from imblearn.over_sampling import SMOTE\n",
    "\n",
    "SM = SMOTE(random_state = 6)\n",
    "\n",
    "SM_x, SM_y = SM.fit_resample(x, y)"
   ]
  },
  {
   "cell_type": "code",
   "execution_count": 131,
   "id": "3c0067d0",
   "metadata": {},
   "outputs": [
    {
     "name": "stdout",
     "output_type": "stream",
     "text": [
      "number of 1s: 3557 number of 0s: 3557\n"
     ]
    }
   ],
   "source": [
    "count0 = 0\n",
    "count1 = 0\n",
    "\n",
    "for i in SM_y:\n",
    "    if i == 0:\n",
    "        count0 += 1\n",
    "    if i == 1:\n",
    "        count1 += 1\n",
    "        \n",
    "print(\"number of 1s:\", count1, \"number of 0s:\", count0)"
   ]
  },
  {
   "cell_type": "code",
   "execution_count": 132,
   "id": "ec85c936",
   "metadata": {},
   "outputs": [],
   "source": [
    "from sklearn.linear_model import LogisticRegression\n",
    "from sklearn.model_selection import train_test_split\n",
    "\n",
    "X_train1, X_test1, y_train1, y_test1 = train_test_split(SM_x, SM_y, test_size=0.33, random_state=42)"
   ]
  },
  {
   "cell_type": "code",
   "execution_count": 133,
   "id": "1fc15a0a",
   "metadata": {},
   "outputs": [],
   "source": [
    "solvers = ('liblinear', 'newton-cg', 'sag', 'saga', 'lbfgs')"
   ]
  },
  {
   "cell_type": "code",
   "execution_count": 134,
   "id": "81453e9c",
   "metadata": {},
   "outputs": [
    {
     "name": "stderr",
     "output_type": "stream",
     "text": [
      "C:\\Users\\ASUS\\anaconda3\\lib\\site-packages\\sklearn\\linear_model\\_sag.py:352: ConvergenceWarning: The max_iter was reached which means the coef_ did not converge\n",
      "  warnings.warn(\n",
      "C:\\Users\\ASUS\\anaconda3\\lib\\site-packages\\sklearn\\linear_model\\_sag.py:352: ConvergenceWarning: The max_iter was reached which means the coef_ did not converge\n",
      "  warnings.warn(\n",
      "C:\\Users\\ASUS\\anaconda3\\lib\\site-packages\\sklearn\\linear_model\\_logistic.py:814: ConvergenceWarning: lbfgs failed to converge (status=1):\n",
      "STOP: TOTAL NO. of ITERATIONS REACHED LIMIT.\n",
      "\n",
      "Increase the number of iterations (max_iter) or scale the data as shown in:\n",
      "    https://scikit-learn.org/stable/modules/preprocessing.html\n",
      "Please also refer to the documentation for alternative solver options:\n",
      "    https://scikit-learn.org/stable/modules/linear_model.html#logistic-regression\n",
      "  n_iter_i = _check_optimize_result(\n"
     ]
    },
    {
     "data": {
      "text/plain": [
       "{'liblinear': 0.8662691652470187,\n",
       " 'newton-cg': 0.8624361158432708,\n",
       " 'sag': 0.8530664395229983,\n",
       " 'saga': 0.8539182282793867,\n",
       " 'lbfgs': 0.8645655877342419}"
      ]
     },
     "execution_count": 134,
     "metadata": {},
     "output_type": "execute_result"
    }
   ],
   "source": [
    "M_and_scores1 = {}\n",
    "for i in solvers:\n",
    "    model = LogisticRegression(solver=i, random_state=0)\n",
    "    model.fit(X_train1, y_train1)\n",
    "    M_and_scores1[i]=model.score(X_test1,y_test1)\n",
    "        \n",
    "M_and_scores1"
   ]
  },
  {
   "cell_type": "code",
   "execution_count": 135,
   "id": "77203d14",
   "metadata": {},
   "outputs": [
    {
     "name": "stdout",
     "output_type": "stream",
     "text": [
      "Best Solver : liblinear with the score -  0.8662691652470187\n"
     ]
    }
   ],
   "source": [
    "for k, i in M_and_scores1.items():\n",
    "    if i == max(M_and_scores1.values()) :\n",
    "        Best_Solver1 = k\n",
    "        \n",
    "print('Best Solver :' , Best_Solver1, \"with the score - \", max(M_and_scores1.values()))"
   ]
  },
  {
   "cell_type": "code",
   "execution_count": 136,
   "id": "46cf171a",
   "metadata": {},
   "outputs": [
    {
     "data": {
      "text/plain": [
       "LogisticRegression(random_state=0, solver='liblinear')"
      ]
     },
     "execution_count": 136,
     "metadata": {},
     "output_type": "execute_result"
    }
   ],
   "source": [
    "model1 = LogisticRegression(solver=Best_Solver1, random_state=0)\n",
    "model1.fit(X_train1, y_train1)"
   ]
  },
  {
   "cell_type": "code",
   "execution_count": 139,
   "id": "dd24629d",
   "metadata": {},
   "outputs": [],
   "source": [
    "Y_PRED1 = model.predict(X_test1)"
   ]
  },
  {
   "cell_type": "code",
   "execution_count": 140,
   "id": "a3891fa2",
   "metadata": {},
   "outputs": [
    {
     "data": {
      "text/plain": [
       "0.870960973562736"
      ]
     },
     "execution_count": 140,
     "metadata": {},
     "output_type": "execute_result"
    }
   ],
   "source": [
    "model1.score(X_train1,y_train1)"
   ]
  },
  {
   "cell_type": "code",
   "execution_count": 141,
   "id": "143d917c",
   "metadata": {},
   "outputs": [
    {
     "data": {
      "text/plain": [
       "0.8662691652470187"
      ]
     },
     "execution_count": 141,
     "metadata": {},
     "output_type": "execute_result"
    }
   ],
   "source": [
    "model1.score(X_test1,y_test1)"
   ]
  },
  {
   "cell_type": "code",
   "execution_count": 142,
   "id": "096db3ef",
   "metadata": {},
   "outputs": [],
   "source": [
    "from sklearn.metrics import confusion_matrix\n",
    "from sklearn.metrics import classification_report"
   ]
  },
  {
   "cell_type": "code",
   "execution_count": 143,
   "id": "f74c16b2",
   "metadata": {},
   "outputs": [
    {
     "data": {
      "text/plain": [
       "array([[1063,  123],\n",
       "       [ 195,  967]], dtype=int64)"
      ]
     },
     "execution_count": 143,
     "metadata": {},
     "output_type": "execute_result"
    }
   ],
   "source": [
    "confusion_matrix(y_test1,Y_PRED1)"
   ]
  },
  {
   "cell_type": "code",
   "execution_count": 144,
   "id": "6f370341",
   "metadata": {},
   "outputs": [
    {
     "name": "stdout",
     "output_type": "stream",
     "text": [
      "              precision    recall  f1-score   support\n",
      "\n",
      "           0       0.84      0.90      0.87      1186\n",
      "           1       0.89      0.83      0.86      1162\n",
      "\n",
      "    accuracy                           0.86      2348\n",
      "   macro avg       0.87      0.86      0.86      2348\n",
      "weighted avg       0.87      0.86      0.86      2348\n",
      "\n"
     ]
    }
   ],
   "source": [
    "print(classification_report(y_test1,Y_PRED1))"
   ]
  },
  {
   "cell_type": "markdown",
   "id": "5ffbb275",
   "metadata": {},
   "source": [
    "# ------------------------------------------------------------------------------------------------------------"
   ]
  },
  {
   "cell_type": "markdown",
   "id": "43ed2cb3",
   "metadata": {},
   "source": [
    "# GLM method for Logistics"
   ]
  },
  {
   "cell_type": "code",
   "execution_count": 145,
   "id": "4dc7a2ae",
   "metadata": {},
   "outputs": [],
   "source": [
    "import statsmodels.api as sm\n",
    "import statsmodels.formula.api as smf"
   ]
  },
  {
   "cell_type": "code",
   "execution_count": 146,
   "id": "82b0581e",
   "metadata": {},
   "outputs": [],
   "source": [
    "GLM = smf.glm(formula=\"TenYearCHD~male + age + education + currentSmoker + cigsPerDay + BPMeds + prevalentStroke + prevalentHyp + diabetes + totChol + sysBP + diaBP + BMI + heartRate + glucose\", data=df)\n",
    "result = GLM.fit()"
   ]
  },
  {
   "cell_type": "code",
   "execution_count": 147,
   "id": "1830f044",
   "metadata": {},
   "outputs": [
    {
     "data": {
      "text/html": [
       "<table class=\"simpletable\">\n",
       "<caption>Generalized Linear Model Regression Results</caption>\n",
       "<tr>\n",
       "  <th>Dep. Variable:</th>      <td>TenYearCHD</td>    <th>  No. Observations:  </th>  <td>  3656</td> \n",
       "</tr>\n",
       "<tr>\n",
       "  <th>Model:</th>                  <td>GLM</td>       <th>  Df Residuals:      </th>  <td>  3640</td> \n",
       "</tr>\n",
       "<tr>\n",
       "  <th>Model Family:</th>        <td>Gaussian</td>     <th>  Df Model:          </th>  <td>    15</td> \n",
       "</tr>\n",
       "<tr>\n",
       "  <th>Link Function:</th>       <td>identity</td>     <th>  Scale:             </th> <td> 0.11724</td>\n",
       "</tr>\n",
       "<tr>\n",
       "  <th>Method:</th>                <td>IRLS</td>       <th>  Log-Likelihood:    </th> <td> -1261.2</td>\n",
       "</tr>\n",
       "<tr>\n",
       "  <th>Date:</th>            <td>Thu, 20 Apr 2023</td> <th>  Deviance:          </th> <td>  426.75</td>\n",
       "</tr>\n",
       "<tr>\n",
       "  <th>Time:</th>                <td>02:06:48</td>     <th>  Pearson chi2:      </th>  <td>  427.</td> \n",
       "</tr>\n",
       "<tr>\n",
       "  <th>No. Iterations:</th>          <td>3</td>        <th>  Pseudo R-squ. (CS):</th>  <td>0.1005</td> \n",
       "</tr>\n",
       "<tr>\n",
       "  <th>Covariance Type:</th>     <td>nonrobust</td>    <th>                     </th>     <td> </td>   \n",
       "</tr>\n",
       "</table>\n",
       "<table class=\"simpletable\">\n",
       "<tr>\n",
       "         <td></td>            <th>coef</th>     <th>std err</th>      <th>z</th>      <th>P>|z|</th>  <th>[0.025</th>    <th>0.975]</th>  \n",
       "</tr>\n",
       "<tr>\n",
       "  <th>Intercept</th>       <td>   -0.5220</td> <td>    0.086</td> <td>   -6.101</td> <td> 0.000</td> <td>   -0.690</td> <td>   -0.354</td>\n",
       "</tr>\n",
       "<tr>\n",
       "  <th>male</th>            <td>    0.0566</td> <td>    0.013</td> <td>    4.506</td> <td> 0.000</td> <td>    0.032</td> <td>    0.081</td>\n",
       "</tr>\n",
       "<tr>\n",
       "  <th>age</th>             <td>    0.0073</td> <td>    0.001</td> <td>    9.370</td> <td> 0.000</td> <td>    0.006</td> <td>    0.009</td>\n",
       "</tr>\n",
       "<tr>\n",
       "  <th>education</th>       <td>   -0.0055</td> <td>    0.006</td> <td>   -0.969</td> <td> 0.332</td> <td>   -0.017</td> <td>    0.006</td>\n",
       "</tr>\n",
       "<tr>\n",
       "  <th>currentSmoker</th>   <td>    0.0044</td> <td>    0.018</td> <td>    0.240</td> <td> 0.810</td> <td>   -0.032</td> <td>    0.041</td>\n",
       "</tr>\n",
       "<tr>\n",
       "  <th>cigsPerDay</th>      <td>    0.0023</td> <td>    0.001</td> <td>    2.893</td> <td> 0.004</td> <td>    0.001</td> <td>    0.004</td>\n",
       "</tr>\n",
       "<tr>\n",
       "  <th>BPMeds</th>          <td>    0.0550</td> <td>    0.035</td> <td>    1.584</td> <td> 0.113</td> <td>   -0.013</td> <td>    0.123</td>\n",
       "</tr>\n",
       "<tr>\n",
       "  <th>prevalentStroke</th> <td>    0.1370</td> <td>    0.076</td> <td>    1.812</td> <td> 0.070</td> <td>   -0.011</td> <td>    0.285</td>\n",
       "</tr>\n",
       "<tr>\n",
       "  <th>prevalentHyp</th>    <td>    0.0315</td> <td>    0.018</td> <td>    1.760</td> <td> 0.078</td> <td>   -0.004</td> <td>    0.067</td>\n",
       "</tr>\n",
       "<tr>\n",
       "  <th>diabetes</th>        <td>    0.1186</td> <td>    0.037</td> <td>    3.207</td> <td> 0.001</td> <td>    0.046</td> <td>    0.191</td>\n",
       "</tr>\n",
       "<tr>\n",
       "  <th>totChol</th>         <td> 7.989e-05</td> <td>    0.000</td> <td>    0.567</td> <td> 0.571</td> <td>   -0.000</td> <td>    0.000</td>\n",
       "</tr>\n",
       "<tr>\n",
       "  <th>sysBP</th>           <td>    0.0025</td> <td>    0.001</td> <td>    4.714</td> <td> 0.000</td> <td>    0.001</td> <td>    0.004</td>\n",
       "</tr>\n",
       "<tr>\n",
       "  <th>diaBP</th>           <td>   -0.0013</td> <td>    0.001</td> <td>   -1.559</td> <td> 0.119</td> <td>   -0.003</td> <td>    0.000</td>\n",
       "</tr>\n",
       "<tr>\n",
       "  <th>BMI</th>             <td>-1.363e-05</td> <td>    0.002</td> <td>   -0.008</td> <td> 0.993</td> <td>   -0.003</td> <td>    0.003</td>\n",
       "</tr>\n",
       "<tr>\n",
       "  <th>heartRate</th>       <td>   -0.0002</td> <td>    0.001</td> <td>   -0.453</td> <td> 0.650</td> <td>   -0.001</td> <td>    0.001</td>\n",
       "</tr>\n",
       "<tr>\n",
       "  <th>glucose</th>         <td>    0.0005</td> <td>    0.000</td> <td>    0.970</td> <td> 0.332</td> <td>   -0.000</td> <td>    0.001</td>\n",
       "</tr>\n",
       "</table>"
      ],
      "text/plain": [
       "<class 'statsmodels.iolib.summary.Summary'>\n",
       "\"\"\"\n",
       "                 Generalized Linear Model Regression Results                  \n",
       "==============================================================================\n",
       "Dep. Variable:             TenYearCHD   No. Observations:                 3656\n",
       "Model:                            GLM   Df Residuals:                     3640\n",
       "Model Family:                Gaussian   Df Model:                           15\n",
       "Link Function:               identity   Scale:                         0.11724\n",
       "Method:                          IRLS   Log-Likelihood:                -1261.2\n",
       "Date:                Thu, 20 Apr 2023   Deviance:                       426.75\n",
       "Time:                        02:06:48   Pearson chi2:                     427.\n",
       "No. Iterations:                     3   Pseudo R-squ. (CS):             0.1005\n",
       "Covariance Type:            nonrobust                                         \n",
       "===================================================================================\n",
       "                      coef    std err          z      P>|z|      [0.025      0.975]\n",
       "-----------------------------------------------------------------------------------\n",
       "Intercept          -0.5220      0.086     -6.101      0.000      -0.690      -0.354\n",
       "male                0.0566      0.013      4.506      0.000       0.032       0.081\n",
       "age                 0.0073      0.001      9.370      0.000       0.006       0.009\n",
       "education          -0.0055      0.006     -0.969      0.332      -0.017       0.006\n",
       "currentSmoker       0.0044      0.018      0.240      0.810      -0.032       0.041\n",
       "cigsPerDay          0.0023      0.001      2.893      0.004       0.001       0.004\n",
       "BPMeds              0.0550      0.035      1.584      0.113      -0.013       0.123\n",
       "prevalentStroke     0.1370      0.076      1.812      0.070      -0.011       0.285\n",
       "prevalentHyp        0.0315      0.018      1.760      0.078      -0.004       0.067\n",
       "diabetes            0.1186      0.037      3.207      0.001       0.046       0.191\n",
       "totChol          7.989e-05      0.000      0.567      0.571      -0.000       0.000\n",
       "sysBP               0.0025      0.001      4.714      0.000       0.001       0.004\n",
       "diaBP              -0.0013      0.001     -1.559      0.119      -0.003       0.000\n",
       "BMI             -1.363e-05      0.002     -0.008      0.993      -0.003       0.003\n",
       "heartRate          -0.0002      0.001     -0.453      0.650      -0.001       0.001\n",
       "glucose             0.0005      0.000      0.970      0.332      -0.000       0.001\n",
       "===================================================================================\n",
       "\"\"\""
      ]
     },
     "execution_count": 147,
     "metadata": {},
     "output_type": "execute_result"
    }
   ],
   "source": [
    "result.summary()"
   ]
  },
  {
   "cell_type": "markdown",
   "id": "8d9c5bf1",
   "metadata": {},
   "source": [
    "# ------------------------------------------------------------------------------------------------------------"
   ]
  },
  {
   "cell_type": "markdown",
   "id": "1371244f",
   "metadata": {},
   "source": [
    "# Decision Tree"
   ]
  },
  {
   "cell_type": "code",
   "execution_count": 240,
   "id": "67d5cfdb",
   "metadata": {},
   "outputs": [],
   "source": [
    "from sklearn.tree import DecisionTreeClassifier\n",
    "from sklearn.datasets import load_iris\n",
    "from sklearn.model_selection import train_test_split\n",
    "from sklearn.metrics import accuracy_score"
   ]
  },
  {
   "cell_type": "code",
   "execution_count": 241,
   "id": "420b82af",
   "metadata": {},
   "outputs": [],
   "source": [
    "# Split dataset into training and testing sets\n",
    "X_train, X_test, y_train, y_test = train_test_split(SM_x, SM_y, test_size=0.3, random_state=42)"
   ]
  },
  {
   "cell_type": "code",
   "execution_count": 242,
   "id": "a8a744bd",
   "metadata": {},
   "outputs": [],
   "source": [
    "# Create a decision tree classifier object\n",
    "clf = DecisionTreeClassifier()"
   ]
  },
  {
   "cell_type": "code",
   "execution_count": 243,
   "id": "8e499d72",
   "metadata": {},
   "outputs": [
    {
     "data": {
      "text/plain": [
       "DecisionTreeClassifier()"
      ]
     },
     "execution_count": 243,
     "metadata": {},
     "output_type": "execute_result"
    }
   ],
   "source": [
    "# Train the classifier on the training set\n",
    "clf.fit(X_train, y_train)"
   ]
  },
  {
   "cell_type": "code",
   "execution_count": 244,
   "id": "3da3c22f",
   "metadata": {},
   "outputs": [],
   "source": [
    "# Make predictions on the testing set\n",
    "y_train_pred = clf.predict(X_train)"
   ]
  },
  {
   "cell_type": "code",
   "execution_count": 245,
   "id": "566ba9e0",
   "metadata": {},
   "outputs": [
    {
     "name": "stdout",
     "output_type": "stream",
     "text": [
      "Accuracy: 100.00%\n"
     ]
    }
   ],
   "source": [
    "# Calculate the accuracy of the model\n",
    "acc = accuracy_score(y_train, y_train_pred)\n",
    "print(\"Accuracy: {:.2f}%\".format(acc*100))"
   ]
  },
  {
   "cell_type": "code",
   "execution_count": 246,
   "id": "8ab5cad5",
   "metadata": {},
   "outputs": [],
   "source": [
    "# Make predictions on the testing set\n",
    "y_pred = clf.predict(X_test)"
   ]
  },
  {
   "cell_type": "code",
   "execution_count": 247,
   "id": "e50fcd27",
   "metadata": {
    "scrolled": true
   },
   "outputs": [
    {
     "name": "stdout",
     "output_type": "stream",
     "text": [
      "Accuracy: 97.85%\n"
     ]
    }
   ],
   "source": [
    "# Calculate the accuracy of the model\n",
    "acc = accuracy_score(y_test, y_pred)\n",
    "print(\"Accuracy: {:.2f}%\".format(acc*100))"
   ]
  },
  {
   "cell_type": "markdown",
   "id": "cc26cff8",
   "metadata": {},
   "source": [
    "## for the right Depth:"
   ]
  },
  {
   "cell_type": "markdown",
   "id": "e77071b0",
   "metadata": {},
   "source": [
    "Using Grid Search"
   ]
  },
  {
   "cell_type": "code",
   "execution_count": 248,
   "id": "17a6c0f3",
   "metadata": {},
   "outputs": [],
   "source": [
    "from sklearn.model_selection import GridSearchCV"
   ]
  },
  {
   "cell_type": "code",
   "execution_count": 249,
   "id": "9325f164",
   "metadata": {},
   "outputs": [],
   "source": [
    "# Create a decision tree classifier object\n",
    "clf = DecisionTreeClassifier()"
   ]
  },
  {
   "cell_type": "code",
   "execution_count": 250,
   "id": "568eb645",
   "metadata": {},
   "outputs": [],
   "source": [
    "# Define the parameter grid\n",
    "param_grid = {'max_depth': range(1, 20)}"
   ]
  },
  {
   "cell_type": "code",
   "execution_count": 251,
   "id": "bde22085",
   "metadata": {},
   "outputs": [
    {
     "data": {
      "text/plain": [
       "GridSearchCV(cv=10, estimator=DecisionTreeClassifier(),\n",
       "             param_grid={'max_depth': range(1, 20)})"
      ]
     },
     "execution_count": 251,
     "metadata": {},
     "output_type": "execute_result"
    }
   ],
   "source": [
    "# Perform grid search cross-validation\n",
    "grid_search = GridSearchCV(clf, param_grid=param_grid, cv=10)\n",
    "grid_search.fit(SM_x, SM_y)"
   ]
  },
  {
   "cell_type": "code",
   "execution_count": 252,
   "id": "03787e79",
   "metadata": {},
   "outputs": [
    {
     "name": "stdout",
     "output_type": "stream",
     "text": [
      "Best Hyperparameters:  {'max_depth': 19}\n"
     ]
    }
   ],
   "source": [
    "# Print the best hyperparameters\n",
    "print(\"Best Hyperparameters: \", grid_search.best_params_)"
   ]
  },
  {
   "cell_type": "markdown",
   "id": "5834fbf9",
   "metadata": {},
   "source": [
    "Using For Loop Search"
   ]
  },
  {
   "cell_type": "code",
   "execution_count": 253,
   "id": "04be4c03",
   "metadata": {},
   "outputs": [],
   "source": [
    "# Split dataset into training and testing sets\n",
    "X_train, X_test, y_train, y_test = train_test_split(SM_x, SM_y, test_size=0.3, random_state=42)"
   ]
  },
  {
   "cell_type": "code",
   "execution_count": 254,
   "id": "cf50f892",
   "metadata": {},
   "outputs": [],
   "source": [
    "# Define the range of depth values\n",
    "depth_values = range(1, 15)"
   ]
  },
  {
   "cell_type": "code",
   "execution_count": 255,
   "id": "6565d4cf",
   "metadata": {},
   "outputs": [],
   "source": [
    "# Initialize empty lists to store training and testing scores\n",
    "train_scores = []\n",
    "test_scores = []"
   ]
  },
  {
   "cell_type": "code",
   "execution_count": 256,
   "id": "fe902896",
   "metadata": {},
   "outputs": [],
   "source": [
    "# Loop over depth values and fit the model\n",
    "for depth in depth_values:\n",
    "    clf = DecisionTreeClassifier(max_depth=depth)\n",
    "    clf.fit(X_train, y_train)\n",
    "    train_scores.append(clf.score(X_train, y_train))\n",
    "    test_scores.append(clf.score(X_test, y_test))"
   ]
  },
  {
   "cell_type": "code",
   "execution_count": 257,
   "id": "a20e8731",
   "metadata": {},
   "outputs": [
    {
     "data": {
      "image/png": "[encoded data removed]",
      "text/plain": [
       "<Figure size 432x288 with 1 Axes>"
      ]
     },
     "metadata": {
      "needs_background": "light"
     },
     "output_type": "display_data"
    }
   ],
   "source": [
    "# Plot the training and testing scores\n",
    "plt.plot(depth_values, train_scores, label='Train score')\n",
    "plt.plot(depth_values, test_scores, label='Test score')\n",
    "plt.xlabel('Max Depth')\n",
    "plt.ylabel('Accuracy')\n",
    "plt.legend()\n",
    "plt.show()"
   ]
  },
  {
   "cell_type": "code",
   "execution_count": 258,
   "id": "8fc86b74",
   "metadata": {},
   "outputs": [],
   "source": [
    "# Decision Tree with the right depth - 14"
   ]
  },
  {
   "cell_type": "code",
   "execution_count": 259,
   "id": "d89655b6",
   "metadata": {},
   "outputs": [],
   "source": [
    "# Initialize a decision tree classifier with a maximum depth of 3\n",
    "clf_rt_depth = DecisionTreeClassifier(max_depth=14)\n",
    "\n",
    "# Train the classifier on the data\n",
    "clf_rt_depth.fit(X_train, y_train)\n",
    "train_new_scores = clf.score(X_train, y_train)\n",
    "test_new_scores = clf.score(X_test, y_test)"
   ]
  },
  {
   "cell_type": "code",
   "execution_count": 260,
   "id": "d52c4e4c",
   "metadata": {},
   "outputs": [
    {
     "data": {
      "text/plain": [
       "0.9995983129142398"
      ]
     },
     "execution_count": 260,
     "metadata": {},
     "output_type": "execute_result"
    }
   ],
   "source": [
    "train_new_scores"
   ]
  },
  {
   "cell_type": "code",
   "execution_count": 261,
   "id": "4e7e36b3",
   "metadata": {},
   "outputs": [
    {
     "data": {
      "text/plain": [
       "0.9789227166276346"
      ]
     },
     "execution_count": 261,
     "metadata": {},
     "output_type": "execute_result"
    }
   ],
   "source": [
    "test_new_scores"
   ]
  },
  {
   "cell_type": "code",
   "execution_count": 262,
   "id": "b109c474",
   "metadata": {},
   "outputs": [
    {
     "data": {
      "text/plain": [
       "array([[1063,   22],\n",
       "       [  23, 1027]], dtype=int64)"
      ]
     },
     "execution_count": 262,
     "metadata": {},
     "output_type": "execute_result"
    }
   ],
   "source": [
    "Y_PRED2 = clf.predict(X_test)\n",
    "confusion_matrix(y_test,Y_PRED2)"
   ]
  },
  {
   "cell_type": "code",
   "execution_count": 263,
   "id": "1bfd60e3",
   "metadata": {},
   "outputs": [
    {
     "name": "stdout",
     "output_type": "stream",
     "text": [
      "              precision    recall  f1-score   support\n",
      "\n",
      "           0       0.98      0.98      0.98      1085\n",
      "           1       0.98      0.98      0.98      1050\n",
      "\n",
      "    accuracy                           0.98      2135\n",
      "   macro avg       0.98      0.98      0.98      2135\n",
      "weighted avg       0.98      0.98      0.98      2135\n",
      "\n"
     ]
    }
   ],
   "source": [
    "print(classification_report(y_test,Y_PRED2))"
   ]
  },
  {
   "cell_type": "markdown",
   "id": "65bab915",
   "metadata": {},
   "source": [
    "# ------------------------------------------------------------------------------------------------------------"
   ]
  },
  {
   "cell_type": "markdown",
   "id": "ae1d2922",
   "metadata": {},
   "source": [
    "# ------------------------------------------------------------------------------------------------------------"
   ]
  },
  {
   "cell_type": "markdown",
   "id": "a83241ae",
   "metadata": {},
   "source": [
    "# ------------------------------------------------------------------------------------------------------------"
   ]
  },
  {
   "cell_type": "markdown",
   "id": "596f56f5",
   "metadata": {},
   "source": [
    "# Random Forest"
   ]
  },
  {
   "cell_type": "markdown",
   "id": "ab08b6f7",
   "metadata": {},
   "source": [
    "### Random State Method"
   ]
  },
  {
   "cell_type": "code",
   "execution_count": 264,
   "id": "016e5926",
   "metadata": {},
   "outputs": [],
   "source": [
    "from sklearn.ensemble import RandomForestClassifier"
   ]
  },
  {
   "cell_type": "code",
   "execution_count": 265,
   "id": "a9aa672f",
   "metadata": {},
   "outputs": [
    {
     "data": {
      "text/plain": [
       "RandomForestClassifier(max_depth=14, n_estimators=500, random_state=42)"
      ]
     },
     "execution_count": 265,
     "metadata": {},
     "output_type": "execute_result"
    }
   ],
   "source": [
    "# Initialize a random forest classifier and train it on the data\n",
    "rf = RandomForestClassifier(n_estimators=500, max_depth=14, random_state=42)\n",
    "rf.fit(X_train, y_train)"
   ]
  },
  {
   "cell_type": "code",
   "execution_count": 266,
   "id": "2bbaff66",
   "metadata": {},
   "outputs": [],
   "source": [
    "# Make a prediction for a new input\n",
    "y_pred_rf = rf.predict(X_test)"
   ]
  },
  {
   "cell_type": "code",
   "execution_count": 267,
   "id": "d7aa0815",
   "metadata": {},
   "outputs": [],
   "source": [
    "train_new_scores = rf.score(X_train, y_train)\n",
    "test_new_scores = rf.score(X_test, y_test)"
   ]
  },
  {
   "cell_type": "code",
   "execution_count": 268,
   "id": "fabefb1d",
   "metadata": {},
   "outputs": [
    {
     "data": {
      "text/plain": [
       "1.0"
      ]
     },
     "execution_count": 268,
     "metadata": {},
     "output_type": "execute_result"
    }
   ],
   "source": [
    "train_new_scores"
   ]
  },
  {
   "cell_type": "code",
   "execution_count": 269,
   "id": "8511915f",
   "metadata": {},
   "outputs": [
    {
     "data": {
      "text/plain": [
       "0.9896955503512881"
      ]
     },
     "execution_count": 269,
     "metadata": {},
     "output_type": "execute_result"
    }
   ],
   "source": [
    "test_new_scores"
   ]
  },
  {
   "cell_type": "code",
   "execution_count": 270,
   "id": "dc8cdb03",
   "metadata": {},
   "outputs": [
    {
     "data": {
      "text/plain": [
       "array([[1078,    7],\n",
       "       [  15, 1035]], dtype=int64)"
      ]
     },
     "execution_count": 270,
     "metadata": {},
     "output_type": "execute_result"
    }
   ],
   "source": [
    "confusion_matrix(y_test,y_pred_rf)"
   ]
  },
  {
   "cell_type": "code",
   "execution_count": 271,
   "id": "91910854",
   "metadata": {},
   "outputs": [
    {
     "name": "stdout",
     "output_type": "stream",
     "text": [
      "              precision    recall  f1-score   support\n",
      "\n",
      "           0       0.99      0.99      0.99      1085\n",
      "           1       0.99      0.99      0.99      1050\n",
      "\n",
      "    accuracy                           0.99      2135\n",
      "   macro avg       0.99      0.99      0.99      2135\n",
      "weighted avg       0.99      0.99      0.99      2135\n",
      "\n"
     ]
    }
   ],
   "source": [
    "print(classification_report(y_test,y_pred_rf))"
   ]
  },
  {
   "cell_type": "markdown",
   "id": "49d41f22",
   "metadata": {},
   "source": [
    "### Grid Search Method"
   ]
  },
  {
   "cell_type": "code",
   "execution_count": 272,
   "id": "066ad5fd",
   "metadata": {},
   "outputs": [],
   "source": [
    "from sklearn.ensemble import RandomForestClassifier\n",
    "from sklearn.model_selection import GridSearchCV\n",
    "from sklearn.metrics import accuracy_score, make_scorer"
   ]
  },
  {
   "cell_type": "code",
   "execution_count": 273,
   "id": "880a0698",
   "metadata": {},
   "outputs": [],
   "source": [
    "# Define the hyperparameters to search over\n",
    "param_grid = {'n_estimators': [50, 100, 200, 300, 400, 500],\n",
    "              'max_depth': [5, 10, 14],\n",
    "              'min_samples_leaf': [1, 2, 4]}"
   ]
  },
  {
   "cell_type": "code",
   "execution_count": 274,
   "id": "2f991e17",
   "metadata": {},
   "outputs": [],
   "source": [
    "# Initialize a random forest classifier\n",
    "rf_g = RandomForestClassifier(random_state=42)"
   ]
  },
  {
   "cell_type": "code",
   "execution_count": 275,
   "id": "39863e96",
   "metadata": {},
   "outputs": [],
   "source": [
    "# Define the scoring metric as accuracy\n",
    "scoring = {'accuracy': make_scorer(accuracy_score)}"
   ]
  },
  {
   "cell_type": "code",
   "execution_count": 276,
   "id": "045ad138",
   "metadata": {},
   "outputs": [
    {
     "data": {
      "text/plain": [
       "GridSearchCV(cv=5, estimator=RandomForestClassifier(random_state=42),\n",
       "             param_grid={'max_depth': [5, 10, 14],\n",
       "                         'min_samples_leaf': [1, 2, 4],\n",
       "                         'n_estimators': [50, 100, 200, 300, 400, 500]},\n",
       "             refit='accuracy',\n",
       "             scoring={'accuracy': make_scorer(accuracy_score)})"
      ]
     },
     "execution_count": 276,
     "metadata": {},
     "output_type": "execute_result"
    }
   ],
   "source": [
    "# Perform a grid search over the hyperparameters\n",
    "grid_search = GridSearchCV(rf_g, param_grid, cv=5, scoring=scoring, refit='accuracy')\n",
    "grid_search.fit(SM_x, SM_y)"
   ]
  },
  {
   "cell_type": "code",
   "execution_count": 277,
   "id": "0ec00b3d",
   "metadata": {},
   "outputs": [
    {
     "name": "stdout",
     "output_type": "stream",
     "text": [
      "Best Hyperparameters: {'max_depth': 14, 'min_samples_leaf': 1, 'n_estimators': 100}\n",
      "Best Accuracy: 0.9879120694477802\n"
     ]
    }
   ],
   "source": [
    "# Print the best hyperparameters and the corresponding accuracy\n",
    "print('Best Hyperparameters:', grid_search.best_params_)\n",
    "print('Best Accuracy:', grid_search.best_score_)"
   ]
  },
  {
   "cell_type": "code",
   "execution_count": 278,
   "id": "9e4d7979",
   "metadata": {},
   "outputs": [
    {
     "name": "stdout",
     "output_type": "stream",
     "text": [
      "Accuracy: 0.9493 (+/-0.0131) for {'max_depth': 5, 'min_samples_leaf': 1, 'n_estimators': 50}\n",
      "Accuracy: 0.9511 (+/-0.0101) for {'max_depth': 5, 'min_samples_leaf': 1, 'n_estimators': 100}\n",
      "Accuracy: 0.9526 (+/-0.0115) for {'max_depth': 5, 'min_samples_leaf': 1, 'n_estimators': 200}\n",
      "Accuracy: 0.9522 (+/-0.0108) for {'max_depth': 5, 'min_samples_leaf': 1, 'n_estimators': 300}\n",
      "Accuracy: 0.9519 (+/-0.0112) for {'max_depth': 5, 'min_samples_leaf': 1, 'n_estimators': 400}\n",
      "Accuracy: 0.9521 (+/-0.0114) for {'max_depth': 5, 'min_samples_leaf': 1, 'n_estimators': 500}\n",
      "Accuracy: 0.9505 (+/-0.0115) for {'max_depth': 5, 'min_samples_leaf': 2, 'n_estimators': 50}\n",
      "Accuracy: 0.9509 (+/-0.0107) for {'max_depth': 5, 'min_samples_leaf': 2, 'n_estimators': 100}\n",
      "Accuracy: 0.9523 (+/-0.0116) for {'max_depth': 5, 'min_samples_leaf': 2, 'n_estimators': 200}\n",
      "Accuracy: 0.9525 (+/-0.0112) for {'max_depth': 5, 'min_samples_leaf': 2, 'n_estimators': 300}\n",
      "Accuracy: 0.9518 (+/-0.0110) for {'max_depth': 5, 'min_samples_leaf': 2, 'n_estimators': 400}\n",
      "Accuracy: 0.9522 (+/-0.0104) for {'max_depth': 5, 'min_samples_leaf': 2, 'n_estimators': 500}\n",
      "Accuracy: 0.9511 (+/-0.0104) for {'max_depth': 5, 'min_samples_leaf': 4, 'n_estimators': 50}\n",
      "Accuracy: 0.9507 (+/-0.0113) for {'max_depth': 5, 'min_samples_leaf': 4, 'n_estimators': 100}\n",
      "Accuracy: 0.9521 (+/-0.0107) for {'max_depth': 5, 'min_samples_leaf': 4, 'n_estimators': 200}\n",
      "Accuracy: 0.9519 (+/-0.0110) for {'max_depth': 5, 'min_samples_leaf': 4, 'n_estimators': 300}\n",
      "Accuracy: 0.9518 (+/-0.0107) for {'max_depth': 5, 'min_samples_leaf': 4, 'n_estimators': 400}\n",
      "Accuracy: 0.9521 (+/-0.0104) for {'max_depth': 5, 'min_samples_leaf': 4, 'n_estimators': 500}\n",
      "Accuracy: 0.9831 (+/-0.0090) for {'max_depth': 10, 'min_samples_leaf': 1, 'n_estimators': 50}\n",
      "Accuracy: 0.9824 (+/-0.0111) for {'max_depth': 10, 'min_samples_leaf': 1, 'n_estimators': 100}\n",
      "Accuracy: 0.9836 (+/-0.0124) for {'max_depth': 10, 'min_samples_leaf': 1, 'n_estimators': 200}\n",
      "Accuracy: 0.9833 (+/-0.0135) for {'max_depth': 10, 'min_samples_leaf': 1, 'n_estimators': 300}\n",
      "Accuracy: 0.9833 (+/-0.0133) for {'max_depth': 10, 'min_samples_leaf': 1, 'n_estimators': 400}\n",
      "Accuracy: 0.9831 (+/-0.0132) for {'max_depth': 10, 'min_samples_leaf': 1, 'n_estimators': 500}\n",
      "Accuracy: 0.9817 (+/-0.0120) for {'max_depth': 10, 'min_samples_leaf': 2, 'n_estimators': 50}\n",
      "Accuracy: 0.9820 (+/-0.0116) for {'max_depth': 10, 'min_samples_leaf': 2, 'n_estimators': 100}\n",
      "Accuracy: 0.9819 (+/-0.0120) for {'max_depth': 10, 'min_samples_leaf': 2, 'n_estimators': 200}\n",
      "Accuracy: 0.9817 (+/-0.0117) for {'max_depth': 10, 'min_samples_leaf': 2, 'n_estimators': 300}\n",
      "Accuracy: 0.9819 (+/-0.0121) for {'max_depth': 10, 'min_samples_leaf': 2, 'n_estimators': 400}\n",
      "Accuracy: 0.9817 (+/-0.0121) for {'max_depth': 10, 'min_samples_leaf': 2, 'n_estimators': 500}\n",
      "Accuracy: 0.9786 (+/-0.0111) for {'max_depth': 10, 'min_samples_leaf': 4, 'n_estimators': 50}\n",
      "Accuracy: 0.9792 (+/-0.0110) for {'max_depth': 10, 'min_samples_leaf': 4, 'n_estimators': 100}\n",
      "Accuracy: 0.9789 (+/-0.0121) for {'max_depth': 10, 'min_samples_leaf': 4, 'n_estimators': 200}\n",
      "Accuracy: 0.9789 (+/-0.0123) for {'max_depth': 10, 'min_samples_leaf': 4, 'n_estimators': 300}\n",
      "Accuracy: 0.9786 (+/-0.0126) for {'max_depth': 10, 'min_samples_leaf': 4, 'n_estimators': 400}\n",
      "Accuracy: 0.9785 (+/-0.0130) for {'max_depth': 10, 'min_samples_leaf': 4, 'n_estimators': 500}\n",
      "Accuracy: 0.9879 (+/-0.0109) for {'max_depth': 14, 'min_samples_leaf': 1, 'n_estimators': 50}\n",
      "Accuracy: 0.9879 (+/-0.0085) for {'max_depth': 14, 'min_samples_leaf': 1, 'n_estimators': 100}\n",
      "Accuracy: 0.9875 (+/-0.0101) for {'max_depth': 14, 'min_samples_leaf': 1, 'n_estimators': 200}\n",
      "Accuracy: 0.9876 (+/-0.0104) for {'max_depth': 14, 'min_samples_leaf': 1, 'n_estimators': 300}\n",
      "Accuracy: 0.9875 (+/-0.0102) for {'max_depth': 14, 'min_samples_leaf': 1, 'n_estimators': 400}\n",
      "Accuracy: 0.9875 (+/-0.0096) for {'max_depth': 14, 'min_samples_leaf': 1, 'n_estimators': 500}\n",
      "Accuracy: 0.9857 (+/-0.0121) for {'max_depth': 14, 'min_samples_leaf': 2, 'n_estimators': 50}\n",
      "Accuracy: 0.9861 (+/-0.0129) for {'max_depth': 14, 'min_samples_leaf': 2, 'n_estimators': 100}\n",
      "Accuracy: 0.9855 (+/-0.0111) for {'max_depth': 14, 'min_samples_leaf': 2, 'n_estimators': 200}\n",
      "Accuracy: 0.9858 (+/-0.0116) for {'max_depth': 14, 'min_samples_leaf': 2, 'n_estimators': 300}\n",
      "Accuracy: 0.9862 (+/-0.0114) for {'max_depth': 14, 'min_samples_leaf': 2, 'n_estimators': 400}\n",
      "Accuracy: 0.9865 (+/-0.0116) for {'max_depth': 14, 'min_samples_leaf': 2, 'n_estimators': 500}\n",
      "Accuracy: 0.9826 (+/-0.0106) for {'max_depth': 14, 'min_samples_leaf': 4, 'n_estimators': 50}\n",
      "Accuracy: 0.9831 (+/-0.0101) for {'max_depth': 14, 'min_samples_leaf': 4, 'n_estimators': 100}\n",
      "Accuracy: 0.9823 (+/-0.0116) for {'max_depth': 14, 'min_samples_leaf': 4, 'n_estimators': 200}\n",
      "Accuracy: 0.9821 (+/-0.0114) for {'max_depth': 14, 'min_samples_leaf': 4, 'n_estimators': 300}\n",
      "Accuracy: 0.9829 (+/-0.0126) for {'max_depth': 14, 'min_samples_leaf': 4, 'n_estimators': 400}\n",
      "Accuracy: 0.9824 (+/-0.0125) for {'max_depth': 14, 'min_samples_leaf': 4, 'n_estimators': 500}\n"
     ]
    }
   ],
   "source": [
    "# Print the accuracy of all models tested during the grid search\n",
    "cv_results = grid_search.cv_results_\n",
    "for mean_score, std_score, params in zip(cv_results['mean_test_accuracy'], cv_results['std_test_accuracy'], cv_results['params']):\n",
    "    print('Accuracy: %0.4f (+/-%0.4f) for %r' % (mean_score, std_score * 2, params))"
   ]
  },
  {
   "cell_type": "markdown",
   "id": "a55c87fd",
   "metadata": {},
   "source": [
    "# ------------------------------------------------------------------------------------------------------------"
   ]
  },
  {
   "cell_type": "markdown",
   "id": "30f4b2dc",
   "metadata": {},
   "source": [
    "# KNN Method"
   ]
  },
  {
   "cell_type": "code",
   "execution_count": 279,
   "id": "439cd425",
   "metadata": {},
   "outputs": [],
   "source": [
    "from sklearn.neighbors import KNeighborsClassifier\n",
    "from sklearn.model_selection import cross_val_score"
   ]
  },
  {
   "cell_type": "code",
   "execution_count": 280,
   "id": "1fd679d4",
   "metadata": {},
   "outputs": [],
   "source": [
    "# Create a list of K values to test\n",
    "k_values = list(range(1, 31, 2))"
   ]
  },
  {
   "cell_type": "code",
   "execution_count": 281,
   "id": "c88c3177",
   "metadata": {},
   "outputs": [],
   "source": [
    "# Use cross-validation to evaluate the performance of KNN for each K value\n",
    "cv_scores = []\n",
    "for k in k_values:\n",
    "    knn = KNeighborsClassifier(n_neighbors=k)\n",
    "    scores = cross_val_score(knn, SM_x, SM_y, cv=5, scoring='accuracy')\n",
    "    cv_scores.append(np.mean(scores))"
   ]
  },
  {
   "cell_type": "code",
   "execution_count": 282,
   "id": "5b6772f6",
   "metadata": {},
   "outputs": [
    {
     "name": "stdout",
     "output_type": "stream",
     "text": [
      "The optimal number of neighbors is 1 with an accuracy of 0.9614846706656666\n"
     ]
    }
   ],
   "source": [
    "# Find the optimal K value\n",
    "optimal_k = k_values[cv_scores.index(max(cv_scores))]\n",
    "print(f\"The optimal number of neighbors is {optimal_k} with an accuracy of {max(cv_scores)}\")"
   ]
  },
  {
   "cell_type": "code",
   "execution_count": 283,
   "id": "704c58bd",
   "metadata": {},
   "outputs": [
    {
     "data": {
      "image/png": "[encoded data removed]",
      "text/plain": [
       "<Figure size 432x288 with 1 Axes>"
      ]
     },
     "metadata": {
      "needs_background": "light"
     },
     "output_type": "display_data"
    }
   ],
   "source": [
    "# Plot the results\n",
    "import matplotlib.pyplot as plt\n",
    "plt.plot(k_values, cv_scores)\n",
    "plt.xlabel('Number of Neighbors (K)')\n",
    "plt.ylabel('Accuracy')\n",
    "plt.title('KNN Cross-Validation Results')\n",
    "plt.show()"
   ]
  },
  {
   "cell_type": "markdown",
   "id": "c6056e5b",
   "metadata": {},
   "source": [
    "# ------------------------------------------------------------------------------------------------------------"
   ]
  }
 ],
 "metadata": {
  "kernelspec": {
   "display_name": "Python 3 (ipykernel)",
   "language": "python",
   "name": "python3"
  },
  "language_info": {
   "codemirror_mode": {
    "name": "ipython",
    "version": 3
   },
   "file_extension": ".py",
   "mimetype": "text/x-python",
   "name": "python",
   "nbconvert_exporter": "python",
   "pygments_lexer": "ipython3",
   "version": "3.9.12"
  }
 },
 "nbformat": 4,
 "nbformat_minor": 5
}
